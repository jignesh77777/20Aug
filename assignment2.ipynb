{
 "cells": [
  {
   "cell_type": "markdown",
   "id": "cdb18286-7e39-4b83-97a2-c64558382258",
   "metadata": {},
   "source": [
    "Assignment 2"
   ]
  },
  {
   "cell_type": "markdown",
   "id": "008eece7-4894-4179-ac03-758bea72e401",
   "metadata": {},
   "source": [
    "Q.1 1. Write a program to reverse a string."
   ]
  },
  {
   "cell_type": "markdown",
   "id": "efe1c7f7-1afa-4215-8a73-9bc43027a465",
   "metadata": {},
   "source": [
    "Ans."
   ]
  },
  {
   "cell_type": "code",
   "execution_count": 1,
   "id": "5d1f9e5e-4181-41cd-8140-1d4090f9e749",
   "metadata": {},
   "outputs": [],
   "source": [
    "def reverse_string(input_string):                                      # define a function and function name\n",
    "    reversed_string=input_string[::-1]                                 # give variable to revese a string\n",
    "    for char in reversed_string:                                       # start throgh a loop to iterate each char\n",
    "        Rev= reversed_string\n",
    "    return reversed_string"
   ]
  },
  {
   "cell_type": "code",
   "execution_count": 2,
   "id": "e6724854-abc0-4480-8389-a03d93a53207",
   "metadata": {},
   "outputs": [
    {
     "name": "stdout",
     "output_type": "stream",
     "text": [
      "!dlroW ,olleH\n"
     ]
    }
   ],
   "source": [
    "input_str = \"Hello, World!\"                                             # give a input\n",
    "Rev = reverse_string(input_str)                                         # gives a output of reeverse string\n",
    "print(Rev)"
   ]
  },
  {
   "cell_type": "raw",
   "id": "9cddf10c-75eb-4416-a13e-263d302a7f8e",
   "metadata": {},
   "source": [
    "Q.2  Check if a string is a palindrome."
   ]
  },
  {
   "cell_type": "markdown",
   "id": "0104c056-a90a-44b9-b3a5-ab0b8c9ea66c",
   "metadata": {},
   "source": [
    "Ans."
   ]
  },
  {
   "cell_type": "code",
   "execution_count": 15,
   "id": "640a44e6-918f-412f-b14e-f761a1b2e6d8",
   "metadata": {},
   "outputs": [],
   "source": [
    "def palindrome(s):\n",
    "    s=s.replace(\" \",\"\").lower()\n",
    "    return s==s[::-1]\n"
   ]
  },
  {
   "cell_type": "code",
   "execution_count": 16,
   "id": "02967798-da40-48e2-89b4-d4603a0aa782",
   "metadata": {},
   "outputs": [
    {
     "name": "stdout",
     "output_type": "stream",
     "text": [
      "lol is a palindrome\n"
     ]
    }
   ],
   "source": [
    "input_string=\"lol\"\n",
    "if palindrome(input_string):\n",
    "    print(f\"{input_string} is a palindrome\")\n",
    "else:\n",
    "    print(f\"{input_string}is not a palindrome\")"
   ]
  },
  {
   "cell_type": "code",
   "execution_count": null,
   "id": "92e76295-b768-4b28-a5a2-77bf047bf1eb",
   "metadata": {},
   "outputs": [],
   "source": []
  },
  {
   "cell_type": "markdown",
   "id": "a338ad5e-0cdf-4231-a860-39c729f6c0e6",
   "metadata": {},
   "source": [
    "3. Convert a string to uppercase."
   ]
  },
  {
   "cell_type": "markdown",
   "id": "aec9989c-d8ef-48df-b71b-edd0c19a138a",
   "metadata": {},
   "source": [
    "Ans."
   ]
  },
  {
   "cell_type": "code",
   "execution_count": 4,
   "id": "8a370ba4-70b9-4aab-9ec7-4b2f338cc156",
   "metadata": {},
   "outputs": [
    {
     "name": "stdin",
     "output_type": "stream",
     "text": [
      "Enter the string jignesh rajput\n"
     ]
    }
   ],
   "source": [
    "get_input=input(\"Enter the string\")"
   ]
  },
  {
   "cell_type": "code",
   "execution_count": 5,
   "id": "89e7caac-74a2-454b-9561-b8f3da8e456c",
   "metadata": {},
   "outputs": [],
   "source": [
    "input_string=get_input.upper()"
   ]
  },
  {
   "cell_type": "code",
   "execution_count": 7,
   "id": "12600442-7d40-48e8-be99-6a9a6a559ff5",
   "metadata": {},
   "outputs": [
    {
     "name": "stdout",
     "output_type": "stream",
     "text": [
      "the given string isjignesh rajput and the uppercase string isJIGNESH RAJPUT\n"
     ]
    }
   ],
   "source": [
    "print(f\"the given string is {get_input} and the uppercase string is {input_string}\")"
   ]
  },
  {
   "cell_type": "code",
   "execution_count": null,
   "id": "e6e89e59-0d2d-4eae-a46e-c3dcbc3f3f55",
   "metadata": {},
   "outputs": [],
   "source": []
  },
  {
   "cell_type": "markdown",
   "id": "7de601ee-95ba-4c6f-be0d-641dc5144d0b",
   "metadata": {},
   "source": [
    "4. Convert a string to lowercase."
   ]
  },
  {
   "cell_type": "markdown",
   "id": "080b2758-3dc2-41a2-8d05-d420a7797363",
   "metadata": {},
   "source": [
    "Ans."
   ]
  },
  {
   "cell_type": "code",
   "execution_count": 8,
   "id": "17cf26c3-0969-4760-8106-dd226c2b4321",
   "metadata": {},
   "outputs": [
    {
     "name": "stdin",
     "output_type": "stream",
     "text": [
      "Enter the string SAMARTH TOUR AND TRAVELS,NANDURBAR\n"
     ]
    }
   ],
   "source": [
    "get_input=input(\"Enter the string\")"
   ]
  },
  {
   "cell_type": "code",
   "execution_count": 9,
   "id": "4ade41c3-ee5c-4eb9-b5a1-3b3cdffc56ce",
   "metadata": {},
   "outputs": [],
   "source": [
    "input_string=get_input.lower()"
   ]
  },
  {
   "cell_type": "code",
   "execution_count": 10,
   "id": "767b7b84-d039-4921-94c3-dceda700f13a",
   "metadata": {},
   "outputs": [
    {
     "name": "stdout",
     "output_type": "stream",
     "text": [
      "the given string is SAMARTH TOUR AND TRAVELS,NANDURBAR and the uppercase string issamarth tour and travels,nandurbar\n"
     ]
    }
   ],
   "source": [
    "print(f\"the given string is {get_input} and the uppercase string is {input_string}\")"
   ]
  },
  {
   "cell_type": "code",
   "execution_count": null,
   "id": "28b6d7d4-a645-4cb9-ad6e-95597dd7f224",
   "metadata": {},
   "outputs": [],
   "source": []
  },
  {
   "cell_type": "markdown",
   "id": "5df99385-334e-4a25-ac97-1cb1baec6128",
   "metadata": {},
   "source": [
    "Q.5. Count the number of vowels in a string."
   ]
  },
  {
   "cell_type": "markdown",
   "id": "08f2a940-a37e-4965-8b57-d1df3f6f6e60",
   "metadata": {},
   "source": [
    "Ans."
   ]
  },
  {
   "cell_type": "code",
   "execution_count": 9,
   "id": "19c24f9c-4552-4049-b465-22896eb79213",
   "metadata": {},
   "outputs": [],
   "source": [
    "def check_vowel(input_string):                                            # called a function name\n",
    "    vowels=\"aeiouAEIOU\"                                                   # define a vowels for counting\n",
    "    count=0                                                               #define a 'count' for couting\n",
    "    for char in input_string:\n",
    "        if char in vowels:                                                # checked the char in vowels\n",
    "            count+=1\n",
    "    return count"
   ]
  },
  {
   "cell_type": "code",
   "execution_count": 24,
   "id": "5cc572ab-27fb-44dd-80bc-8a945dce19bb",
   "metadata": {},
   "outputs": [
    {
     "name": "stdin",
     "output_type": "stream",
     "text": [
      "enter the string : Jignesh is my best frined.\n"
     ]
    },
    {
     "name": "stdout",
     "output_type": "stream",
     "text": [
      "the number of the vowels in the givenn string is 6\n"
     ]
    }
   ],
   "source": [
    "input_string=input(\"enter the string :\")                                 #count of vowels of this string\n",
    "vowels_count=check_vowel(input_string)\n",
    "print(\"the number of the vowels in the givenn string is\",vowels_count)"
   ]
  },
  {
   "cell_type": "code",
   "execution_count": null,
   "id": "29a19549-7a73-4413-b1a4-0af6b049c603",
   "metadata": {},
   "outputs": [],
   "source": []
  },
  {
   "cell_type": "markdown",
   "id": "dce73bae-3206-42da-a08c-539adbff02ab",
   "metadata": {},
   "source": [
    "6. Count the number of consonants in a string."
   ]
  },
  {
   "cell_type": "markdown",
   "id": "ba5f814c-3a5d-4d41-9db6-4a6daaa0ac6a",
   "metadata": {},
   "source": [
    "Ans."
   ]
  },
  {
   "cell_type": "code",
   "execution_count": 6,
   "id": "7618268e-7b43-44ec-9eac-dc27905387f7",
   "metadata": {},
   "outputs": [],
   "source": [
    "def check_consonant(input_string):                                  #define a function\n",
    "    vowels='aeiouAEIOU'                                             # define a vowels\n",
    "    count=0                                                             \n",
    "    for char in input_string:\n",
    "        if char not in vowels:                                       # chhecked vowels in not in given string\n",
    "            count+=1                                                 # count consonants except vowels\n",
    "    return count\n",
    "\n",
    "        "
   ]
  },
  {
   "cell_type": "code",
   "execution_count": 8,
   "id": "488ac896-74c0-4b33-9c2a-ea04feb90442",
   "metadata": {},
   "outputs": [
    {
     "name": "stdin",
     "output_type": "stream",
     "text": [
      "enter the string JAY SHREE KRISHNA\n"
     ]
    },
    {
     "name": "stdout",
     "output_type": "stream",
     "text": [
      "the number of consonants in the given string is 12\n"
     ]
    }
   ],
   "source": [
    "input_string=input(\"enter the string\")                              # take a string from users\n",
    "consonant=check_consonant(input_string)\n",
    "print(\"the number of consonants in the given string is\",consonant)    #print the final output"
   ]
  },
  {
   "cell_type": "code",
   "execution_count": null,
   "id": "3a9ad864-fd11-4a17-a7d8-d25ae42860f0",
   "metadata": {},
   "outputs": [],
   "source": []
  },
  {
   "cell_type": "markdown",
   "id": "3176155d-2426-4581-9d06-928682b55b0e",
   "metadata": {},
   "source": [
    "7. Remove all whitespaces from a string."
   ]
  },
  {
   "cell_type": "markdown",
   "id": "01e108d1-7556-4ce1-bf4d-e4f1dfa39c67",
   "metadata": {},
   "source": [
    "Ans."
   ]
  },
  {
   "cell_type": "code",
   "execution_count": 5,
   "id": "c554a6a3-8276-4ff5-b801-fc8c4f6183b2",
   "metadata": {},
   "outputs": [
    {
     "data": {
      "text/plain": [
       "'vasantraonaikisthelongestCMofmaharashtra'"
      ]
     },
     "execution_count": 5,
     "metadata": {},
     "output_type": "execute_result"
    }
   ],
   "source": [
    "input_string=\" vasantrao naik is the longest CM of maharashtra\"     # take a string\n",
    "input_string.replace(\" \",\"\")                                        # remove all spaces"
   ]
  },
  {
   "cell_type": "code",
   "execution_count": null,
   "id": "77739c3b-2d61-43b6-ba34-5efd0de78b45",
   "metadata": {},
   "outputs": [],
   "source": []
  },
  {
   "cell_type": "markdown",
   "id": "7e45004f-3eb2-4580-80a5-bff7f2fddfc4",
   "metadata": {},
   "source": [
    "8. Find the length of a string without using the `len()` function."
   ]
  },
  {
   "cell_type": "markdown",
   "id": "3f3f3d7e-4dc5-459f-b334-283bebf021f6",
   "metadata": {},
   "source": [
    "Ans."
   ]
  },
  {
   "cell_type": "code",
   "execution_count": 9,
   "id": "18bb2be8-ee13-4286-806c-e18e79abddba",
   "metadata": {},
   "outputs": [],
   "source": [
    "def length(string):                             # counting the length of the string with function\n",
    "    count=0\n",
    "    for char in string:\n",
    "        count+=1                               # count function counnt the character of the string\n",
    "    return count"
   ]
  },
  {
   "cell_type": "code",
   "execution_count": 11,
   "id": "46d33470-e9b7-476f-aed7-572d4d86a6f7",
   "metadata": {},
   "outputs": [
    {
     "name": "stdout",
     "output_type": "stream",
     "text": [
      " the length of the string is 15\n"
     ]
    }
   ],
   "source": [
    "string=\"compound effect\"                     # given string\n",
    "length=length(string)\n",
    "print(' the length of the string is' , length)       # print the final output\n"
   ]
  },
  {
   "cell_type": "code",
   "execution_count": null,
   "id": "6ddfcda8-03a5-46ea-8c4f-ef2d2370d771",
   "metadata": {},
   "outputs": [],
   "source": []
  },
  {
   "cell_type": "markdown",
   "id": "91292a8a-d6ca-4148-921c-e2c28d78b158",
   "metadata": {},
   "source": [
    "9. Check if a string contains a specific word."
   ]
  },
  {
   "cell_type": "markdown",
   "id": "f32e6bc3-ce5d-4693-9e6f-83185b75a1a2",
   "metadata": {},
   "source": [
    "Ans."
   ]
  },
  {
   "cell_type": "code",
   "execution_count": 1,
   "id": "ccd9cb3b-445e-4d9b-a4b2-50f694560c8b",
   "metadata": {},
   "outputs": [
    {
     "name": "stdin",
     "output_type": "stream",
     "text": [
      "Enter a string:  the truth table is true and calculation js not right\n"
     ]
    }
   ],
   "source": [
    "input_string = input(\"Enter a string: \")              #take the input form the user"
   ]
  },
  {
   "cell_type": "code",
   "execution_count": 2,
   "id": "9b6f32ea-230c-4461-af90-bb203490d3a8",
   "metadata": {},
   "outputs": [
    {
     "name": "stdin",
     "output_type": "stream",
     "text": [
      "Enter the word to check for:  true\n"
     ]
    }
   ],
   "source": [
    "# Word to check for\n",
    "word_to_find = input(\"Enter the word to check for: \")"
   ]
  },
  {
   "cell_type": "code",
   "execution_count": 3,
   "id": "11ef1d17-7799-4e00-b10d-ef880225a33c",
   "metadata": {},
   "outputs": [],
   "source": [
    "index = input_string.find(word_to_find)        # check the word by find function"
   ]
  },
  {
   "cell_type": "code",
   "execution_count": 5,
   "id": "20e1b82f-2a58-4db6-a1ee-5bc7da9d5461",
   "metadata": {},
   "outputs": [
    {
     "name": "stdout",
     "output_type": "stream",
     "text": [
      "The string contains the word 'true' at index 19.\n"
     ]
    }
   ],
   "source": [
    "if index != -1:\n",
    "    print(f\"The string contains the word '{word_to_find}' at index {index}.\")\n",
    "else:\n",
    "    print(f\"The string does not contain the word '{word_to_find}'.\")"
   ]
  },
  {
   "cell_type": "code",
   "execution_count": null,
   "id": "45c69c9e-b30c-428a-b1a5-3ee49a087ead",
   "metadata": {},
   "outputs": [],
   "source": [
    " "
   ]
  },
  {
   "cell_type": "markdown",
   "id": "8fc4a673-bddf-4233-992b-45faddef28ee",
   "metadata": {},
   "source": [
    "10. Replace a word in a string with another word."
   ]
  },
  {
   "cell_type": "markdown",
   "id": "4445255f-f192-4492-918f-5aebbab9de59",
   "metadata": {},
   "source": [
    "Ans."
   ]
  },
  {
   "cell_type": "code",
   "execution_count": 3,
   "id": "9c1dfe56-4309-4fd4-8f04-7457ab988e50",
   "metadata": {},
   "outputs": [
    {
     "name": "stdin",
     "output_type": "stream",
     "text": [
      "Enter the string : core python programe,pycharm and jupyter\n"
     ]
    }
   ],
   "source": [
    "e=input(\"Enter the string :\")                       # take a string from user"
   ]
  },
  {
   "cell_type": "code",
   "execution_count": 4,
   "id": "5e567fd8-cc7d-4f82-9381-d2562af9a125",
   "metadata": {},
   "outputs": [
    {
     "name": "stdin",
     "output_type": "stream",
     "text": [
      "Enter the word to replace jupyter\n"
     ]
    }
   ],
   "source": [
    "j=input(\"Enter the word to replace\")                # take a word to replace"
   ]
  },
  {
   "cell_type": "code",
   "execution_count": 5,
   "id": "ad7f9aaf-7440-4d0a-81d6-486f9820ba19",
   "metadata": {},
   "outputs": [
    {
     "name": "stdin",
     "output_type": "stream",
     "text": [
      "Enter the replacement word  java\n"
     ]
    }
   ],
   "source": [
    "replacement=input(\"Enter the replacement word \")    # iterate the function to replace a word"
   ]
  },
  {
   "cell_type": "code",
   "execution_count": 9,
   "id": "e692ece6-aced-4b03-a331-d7ba386f3e72",
   "metadata": {},
   "outputs": [],
   "source": [
    "output_string=e.replace(j,replacement)              # function gives the output by replacing the word we gave to replace"
   ]
  },
  {
   "cell_type": "code",
   "execution_count": 10,
   "id": "7aa2d494-cc61-4424-851e-8b71b0e1b6fc",
   "metadata": {},
   "outputs": [
    {
     "name": "stdout",
     "output_type": "stream",
     "text": [
      "the modified string is core python programe,pycharm and java\n"
     ]
    }
   ],
   "source": [
    "print(\"the modified string is\", output_string)"
   ]
  },
  {
   "cell_type": "code",
   "execution_count": null,
   "id": "147247e9-cd55-485c-b419-06dcd735c8d5",
   "metadata": {},
   "outputs": [],
   "source": [
    "\n"
   ]
  },
  {
   "cell_type": "markdown",
   "id": "b97740c7-8b70-4b30-9b14-6dc0bd1c970a",
   "metadata": {},
   "source": [
    "11. Count the occurrences of a word in a string."
   ]
  },
  {
   "cell_type": "markdown",
   "id": "5ae3c41c-7cf9-4f65-9d4e-95b992cc5d77",
   "metadata": {},
   "source": [
    "Ans."
   ]
  },
  {
   "cell_type": "code",
   "execution_count": 8,
   "id": "7081f3f5-c2ca-4347-b349-498f6e272f6e",
   "metadata": {},
   "outputs": [
    {
     "name": "stdin",
     "output_type": "stream",
     "text": [
      "Enter a string:  harish is a good boy and he is very brilliant. harish is businessman\n"
     ]
    }
   ],
   "source": [
    "input_string = input(\"Enter a string: \")                                      #take the input form the user"
   ]
  },
  {
   "cell_type": "code",
   "execution_count": 10,
   "id": "5473cd70-efff-49ec-82e6-857b7ffcc2f9",
   "metadata": {},
   "outputs": [
    {
     "name": "stdin",
     "output_type": "stream",
     "text": [
      "Enter the word to count:  harish\n"
     ]
    }
   ],
   "source": [
    "word_to_count = input(\"Enter the word to count: \")                            # also take the word to count the occurence"
   ]
  },
  {
   "cell_type": "code",
   "execution_count": 11,
   "id": "0b265820-a28d-467c-9c2b-a32c6437201c",
   "metadata": {},
   "outputs": [],
   "source": [
    "count = input_string.lower().count(word_to_count.lower())                     #counnt the occurence with this count function\n"
   ]
  },
  {
   "cell_type": "code",
   "execution_count": 12,
   "id": "c2522586-e955-432c-acc4-6b898ff4b71c",
   "metadata": {},
   "outputs": [
    {
     "name": "stdout",
     "output_type": "stream",
     "text": [
      "The word 'harish' appears 2 times in the string.\n"
     ]
    }
   ],
   "source": [
    "print(f\"The word '{word_to_count}' appears {count} times in the string.\")"
   ]
  },
  {
   "cell_type": "code",
   "execution_count": null,
   "id": "86919f52-2217-430d-8777-607509d15fc7",
   "metadata": {},
   "outputs": [],
   "source": []
  },
  {
   "cell_type": "markdown",
   "id": "9564d081-20ca-4fa4-ac91-9737af23a46b",
   "metadata": {},
   "source": [
    "12. Find the first occurrence of a word in a string."
   ]
  },
  {
   "cell_type": "markdown",
   "id": "effb9ae6-3a81-4991-81b6-dd487bc51c84",
   "metadata": {},
   "source": [
    "Ans."
   ]
  },
  {
   "cell_type": "code",
   "execution_count": 28,
   "id": "f649d7f0-5b19-4370-8112-abd547cdeb53",
   "metadata": {},
   "outputs": [],
   "source": [
    "def first_word(text,word):                                                 # check the occurence of the word by definin a function first_word\n",
    "    index = text.find(word)\n",
    "    if index == -1:\n",
    "        return None\n",
    "    else:\n",
    "        return index"
   ]
  },
  {
   "cell_type": "code",
   "execution_count": 29,
   "id": "993ab6cf-7516-410d-9b9a-ddef342abf2d",
   "metadata": {},
   "outputs": [],
   "source": [
    "text='my vilage is very clean and beautiful.its surrounded by the satpuda hills'                  # given string"
   ]
  },
  {
   "cell_type": "code",
   "execution_count": 30,
   "id": "4197b12a-de14-43fe-a0c2-32aeb8d4226d",
   "metadata": {},
   "outputs": [],
   "source": [
    "word='is'                                                                                # find  this  word in a text"
   ]
  },
  {
   "cell_type": "code",
   "execution_count": 31,
   "id": "20a9520f-fffc-458e-b13c-e3df861bd826",
   "metadata": {},
   "outputs": [
    {
     "name": "stdout",
     "output_type": "stream",
     "text": [
      "the first occurence of the 'is' is 10\n"
     ]
    }
   ],
   "source": [
    "result=print(f\"the first occurence of the '{word}' is {first_word(text,word)}\")"
   ]
  },
  {
   "cell_type": "markdown",
   "id": "520143f9-2208-41cc-8057-f5f4924868a9",
   "metadata": {},
   "source": [
    "13. Find the last occurrence of a word in a string."
   ]
  },
  {
   "cell_type": "markdown",
   "id": "0acaecde-e65c-49d4-90ef-90f1c6b6dad9",
   "metadata": {},
   "source": [
    "Ans."
   ]
  },
  {
   "cell_type": "code",
   "execution_count": 33,
   "id": "e304fa07-61e1-43ae-a323-e6ec48d884bc",
   "metadata": {},
   "outputs": [],
   "source": [
    "def first_word(text,word):                                               # check the occurence of the word by definin a function first_word\n",
    "    index = text.find(word)\n",
    "    index = text.rfind(word)\n",
    "    if index == -1:\n",
    "        return None\n",
    "    else:\n",
    "        return index"
   ]
  },
  {
   "cell_type": "code",
   "execution_count": 34,
   "id": "2425004c-6c45-4e89-92dd-b53b1a52b376",
   "metadata": {},
   "outputs": [],
   "source": [
    "text='my vilage is very clean and beautiful. my village is surrounded by the satpuda hills'"
   ]
  },
  {
   "cell_type": "code",
   "execution_count": 35,
   "id": "0ea25370-cd2d-4d1a-8fe6-cc6af08608fb",
   "metadata": {},
   "outputs": [],
   "source": [
    "word='is'"
   ]
  },
  {
   "cell_type": "code",
   "execution_count": 41,
   "id": "04c867d4-0113-495b-8cf8-688f6c7a9c5b",
   "metadata": {},
   "outputs": [
    {
     "name": "stdout",
     "output_type": "stream",
     "text": [
      "the first occurence of the 'is' is 50\n"
     ]
    }
   ],
   "source": [
    "result=print(f\"the first occurence of the '{word}' is {first_word(text,word)}\")"
   ]
  },
  {
   "cell_type": "code",
   "execution_count": null,
   "id": "c7ab75bc-525a-489c-bd4f-05ed0bd9469f",
   "metadata": {},
   "outputs": [],
   "source": []
  },
  {
   "cell_type": "markdown",
   "id": "14367593-2ada-42ec-917e-ead6a85c093f",
   "metadata": {},
   "source": [
    "14. Split a string into a list of words."
   ]
  },
  {
   "cell_type": "markdown",
   "id": "33b446ac-89c1-4f47-835e-e3ad87e5f5d8",
   "metadata": {},
   "source": [
    "Ans."
   ]
  },
  {
   "cell_type": "code",
   "execution_count": 42,
   "id": "ac5a8c3a-7d69-402a-a33d-759a3de1b427",
   "metadata": {},
   "outputs": [],
   "source": [
    "def word_list(string):\n",
    "    text=string.split()\n",
    "    return text\n",
    "                                                                                       # word_list function take a string and split the string by split in built function"
   ]
  },
  {
   "cell_type": "code",
   "execution_count": 43,
   "id": "471b9ce8-c9a0-42a7-b720-443d940478c6",
   "metadata": {},
   "outputs": [
    {
     "name": "stdout",
     "output_type": "stream",
     "text": [
      "the splitted string is  ['this', 'is', 'the', 'given', 'string', 'by', 'the', 'users']\n"
     ]
    }
   ],
   "source": [
    "string=\"this is the given string by the users\"\n",
    "o_string=word_list(string)\n",
    "print(\"the splitted string is \",o_string)"
   ]
  },
  {
   "cell_type": "code",
   "execution_count": null,
   "id": "31164e39-2b2d-4b82-a220-16e70fa10a3e",
   "metadata": {},
   "outputs": [],
   "source": []
  },
  {
   "cell_type": "markdown",
   "id": "13468bd8-2530-46b8-9b69-55b578953f23",
   "metadata": {},
   "source": [
    "15. Join a list of words into a string."
   ]
  },
  {
   "cell_type": "markdown",
   "id": "a8f7d5b9-15cf-4476-8b0d-078bd636816f",
   "metadata": {},
   "source": [
    "Ans."
   ]
  },
  {
   "cell_type": "code",
   "execution_count": 2,
   "id": "b3af930d-b822-4eaa-af92-524d8e8f6ec3",
   "metadata": {},
   "outputs": [],
   "source": [
    "word_list=['jignesh','123','harish','pranav']                       # define a word of a list"
   ]
  },
  {
   "cell_type": "code",
   "execution_count": 3,
   "id": "721155b8-700a-4e50-83d6-47acf86caffb",
   "metadata": {},
   "outputs": [],
   "source": [
    "out_string=\" \".join(word_list)                                     # this function is convert the list into the string"
   ]
  },
  {
   "cell_type": "code",
   "execution_count": 6,
   "id": "7b95b0eb-888f-4894-bdf6-1c46b5fc368b",
   "metadata": {},
   "outputs": [
    {
     "data": {
      "text/plain": [
       "'jignesh 123 harish pranav'"
      ]
     },
     "execution_count": 6,
     "metadata": {},
     "output_type": "execute_result"
    }
   ],
   "source": [
    "out_string                                                         # final output\n",
    "\n"
   ]
  },
  {
   "cell_type": "code",
   "execution_count": 8,
   "id": "e76fe7a7-e12a-496c-9367-03b460b9c3f9",
   "metadata": {},
   "outputs": [
    {
     "data": {
      "text/plain": [
       "str"
      ]
     },
     "execution_count": 8,
     "metadata": {},
     "output_type": "execute_result"
    }
   ],
   "source": [
    "type(out_string)"
   ]
  },
  {
   "cell_type": "code",
   "execution_count": null,
   "id": "8898cea8-5839-4776-bc54-bf1b96ab82b5",
   "metadata": {},
   "outputs": [],
   "source": []
  },
  {
   "cell_type": "markdown",
   "id": "73ddeea0-bf72-4a08-b46d-534a229616f1",
   "metadata": {},
   "source": [
    "16. Convert a string where words are separated by spaces to one where words\n",
    "are separated by underscores."
   ]
  },
  {
   "cell_type": "markdown",
   "id": "8bed45de-3e62-497a-b7bc-74e3a2aac998",
   "metadata": {},
   "source": [
    "Ans."
   ]
  },
  {
   "cell_type": "code",
   "execution_count": 1,
   "id": "489db918-8b62-43c3-8ee4-9688eb171d20",
   "metadata": {},
   "outputs": [],
   "source": [
    "My_string= \"MY NAME IS JIGNESH RAJPUT\"                        #this is given string\n",
    "replace=My_string.replace(\" \",\"_\")                            # this function gives a output which replace the spaces into the underscore"
   ]
  },
  {
   "cell_type": "code",
   "execution_count": 2,
   "id": "3b4a131c-a8ee-485e-8614-19dcbe385d21",
   "metadata": {},
   "outputs": [
    {
     "name": "stdout",
     "output_type": "stream",
     "text": [
      "MY_NAME_IS_JIGNESH_RAJPUT\n"
     ]
    }
   ],
   "source": [
    "print(replace)                                                #print the function"
   ]
  },
  {
   "cell_type": "code",
   "execution_count": null,
   "id": "28a3466b-601e-4904-b5d0-7c743fca249e",
   "metadata": {},
   "outputs": [],
   "source": []
  },
  {
   "cell_type": "markdown",
   "id": "d4d26dd1-ed10-4ae8-ad92-8d82d5488885",
   "metadata": {},
   "source": [
    "17. Check if a string starts with a specific word or phrase."
   ]
  },
  {
   "cell_type": "markdown",
   "id": "05171c79-691e-47d9-b5c0-54becf547063",
   "metadata": {},
   "source": [
    "Ans."
   ]
  },
  {
   "cell_type": "code",
   "execution_count": 1,
   "id": "b45b00ca-a0d6-4af9-859f-8b0edf448198",
   "metadata": {},
   "outputs": [],
   "source": [
    "My_string=\"Hello, Good Morning friend Have a nice day\"         #given string \n"
   ]
  },
  {
   "cell_type": "code",
   "execution_count": 9,
   "id": "350d97d1-b558-4c3a-97aa-8ea8a66b25b4",
   "metadata": {},
   "outputs": [],
   "source": [
    "specific_phrase=\"Hello\"                                     # call the starting word"
   ]
  },
  {
   "cell_type": "code",
   "execution_count": 12,
   "id": "7284a002-9bcb-4a4c-87e0-d3f1e4dea729",
   "metadata": {},
   "outputs": [
    {
     "name": "stdout",
     "output_type": "stream",
     "text": [
      "The String Starts With Specific Word'Hello'.\n"
     ]
    }
   ],
   "source": [
    "if My_string.startswith(specific_phrase):\n",
    "    print(f\"The String Starts With Specific Word'{specific_phrase}'.\")\n",
    "else:\n",
    "    print(f\"The String does not Starts With Specific Word '{specific_phrase}' . \")            # check with if else condition "
   ]
  },
  {
   "cell_type": "code",
   "execution_count": 17,
   "id": "aaec9393-8540-4adc-b962-986f63f08b95",
   "metadata": {},
   "outputs": [],
   "source": []
  },
  {
   "cell_type": "markdown",
   "id": "1ef3172d-a0fb-487b-bd20-1e4684f790d6",
   "metadata": {},
   "source": [
    "18. Check if a string ends with a specific word or phrase."
   ]
  },
  {
   "cell_type": "markdown",
   "id": "30f18a6c-cdb5-4fa8-8225-84b88d290b15",
   "metadata": {},
   "source": [
    "Ans."
   ]
  },
  {
   "cell_type": "code",
   "execution_count": 13,
   "id": "32a8752d-c222-4cd9-8ff2-71103f259cff",
   "metadata": {},
   "outputs": [],
   "source": [
    "My_string=\"Hello, Good Morning friend Have a nice day\"                  #given string \n"
   ]
  },
  {
   "cell_type": "code",
   "execution_count": 17,
   "id": "c1208a50-9d89-43ff-bc0f-3946f6ab3f94",
   "metadata": {},
   "outputs": [],
   "source": [
    "specific_phrase=\"day\"                                       # call the starting word"
   ]
  },
  {
   "cell_type": "code",
   "execution_count": 18,
   "id": "3d60dbc2-17ef-43ee-9f7d-8c4a48ec4f8b",
   "metadata": {},
   "outputs": [
    {
     "name": "stdout",
     "output_type": "stream",
     "text": [
      "The String Starts With Specific Word'day'.\n"
     ]
    }
   ],
   "source": [
    "if My_string.endswith(specific_phrase):\n",
    "    print(f\"The String Starts With Specific Word'{specific_phrase}'.\")\n",
    "else:\n",
    "    print(f\"The String does not Starts With Specific Word '{specific_phrase}' . \")   # check with if else condition "
   ]
  },
  {
   "cell_type": "code",
   "execution_count": null,
   "id": "6a3b8534-50dd-4a4f-8dcb-542e33443cd5",
   "metadata": {},
   "outputs": [],
   "source": []
  },
  {
   "cell_type": "markdown",
   "id": "194ed5f0-c6a6-4f7a-87ce-deadcb5d1669",
   "metadata": {},
   "source": [
    "19. Convert a string to title case (e.g., \"hello world\" to \"Hello World\")."
   ]
  },
  {
   "cell_type": "markdown",
   "id": "19902866-0112-4ba7-a219-72d87e4fe784",
   "metadata": {},
   "source": [
    "Ans."
   ]
  },
  {
   "cell_type": "code",
   "execution_count": 20,
   "id": "c01a00da-1e94-4afc-ad7c-b8efeb85a838",
   "metadata": {},
   "outputs": [
    {
     "name": "stdin",
     "output_type": "stream",
     "text": [
      "enter the string hello world\n"
     ]
    }
   ],
   "source": [
    "input_string=input(\"enter the string\")                                 # take a 'hello world' input form the user"
   ]
  },
  {
   "cell_type": "code",
   "execution_count": 23,
   "id": "3487bc47-cb42-4281-816e-76b7729124ef",
   "metadata": {},
   "outputs": [
    {
     "data": {
      "text/plain": [
       "'Hello World'"
      ]
     },
     "execution_count": 23,
     "metadata": {},
     "output_type": "execute_result"
    }
   ],
   "source": [
    "input_string.title()                                                # convert the string 'hello world' into 'Hello World' by title inbuilt function"
   ]
  },
  {
   "cell_type": "code",
   "execution_count": null,
   "id": "84077c89-80d7-4bba-985d-09963e7f08fe",
   "metadata": {},
   "outputs": [],
   "source": []
  },
  {
   "cell_type": "markdown",
   "id": "d5167229-05fd-4aa2-99c2-539c19e70dcc",
   "metadata": {},
   "source": [
    "20. Find the longest word in a string."
   ]
  },
  {
   "cell_type": "markdown",
   "id": "02be71df-dcf5-46e3-913e-29e167b99f3f",
   "metadata": {},
   "source": [
    "Ans."
   ]
  },
  {
   "cell_type": "code",
   "execution_count": 1,
   "id": "0152f47d-4e2a-4664-8dfd-e1989dc7acde",
   "metadata": {},
   "outputs": [],
   "source": [
    "                                        # given string to find the longest word"
   ]
  },
  {
   "cell_type": "code",
   "execution_count": 7,
   "id": "fe4ca84a-2152-45d8-80dd-1cab323e3891",
   "metadata": {},
   "outputs": [],
   "source": [
    "def find_longest_word(input_string):\n",
    "    words=input_string.split()\n",
    "    longest_word=\" \"\n",
    "    max_length=0\n",
    "    for word in words:\n",
    "        word=word.strip(\".,!?\")\n",
    "        if len(word) > max_length:\n",
    "            longest_word=word\n",
    "            max_length=len(word)\n",
    "    return longest_word"
   ]
  },
  {
   "cell_type": "code",
   "execution_count": 9,
   "id": "ffe3afaf-0016-4816-83f9-690b0d2d083d",
   "metadata": {},
   "outputs": [
    {
     "name": "stdout",
     "output_type": "stream",
     "text": [
      "The longest word in the string is 'mercedes' with a length of 8 characters.\n"
     ]
    }
   ],
   "source": [
    "input_string='mercedes bens is top class car in the world' \n",
    "longest_word=find_longest_word(input_string)\n",
    "print(f\"The longest word in the string is '{longest_word}' with a length of {len(longest_word)} characters.\")"
   ]
  },
  {
   "cell_type": "raw",
   "id": "92c3a76d-1453-44e0-9d81-d5f385daf947",
   "metadata": {},
   "source": []
  },
  {
   "cell_type": "markdown",
   "id": "a0dd5e33-399b-49b9-a82c-6c24e9c76438",
   "metadata": {},
   "source": [
    "21. Find the shortest word in a string."
   ]
  },
  {
   "cell_type": "markdown",
   "id": "a7107046-9290-4d91-9a56-df2ccadf6f44",
   "metadata": {},
   "source": [
    "Ans."
   ]
  },
  {
   "cell_type": "code",
   "execution_count": 1,
   "id": "1ed47837-ed74-45e1-8537-1ab4756b1d34",
   "metadata": {},
   "outputs": [],
   "source": [
    "def find_shortest_word(input_string):\n",
    "                                                            # Split the input string into words using space as the separator\n",
    "    words = input_string.split()\n",
    "\n",
    "                                                            # Initialize variables to store the shortest word and its length\n",
    "    shortest_word = None\n",
    "    min_length = float('inf')\n",
    "\n",
    "                                                             # Iterate through the words and find the shortest one\n",
    "    for word in words:\n",
    "                                                             # Remove any punctuation marks from the word (optional)\n",
    "        word = word.strip(\".,!?\")\n",
    "\n",
    "                                                             # Check if the current word is shorter than the previously found shortest word\n",
    "        if len(word) < min_length:\n",
    "            shortest_word = word\n",
    "            min_length = len(word)\n",
    "\n",
    "    return shortest_word\n",
    "\n",
    "input_string = \"This is a sample sentence with some short words like 'cat' and 'dog'.\"\n",
    "\n",
    "shortest_word = find_shortest_word(input_string)\n",
    "\n",
    "if shortest_word:\n",
    "    print(f\"The shortest word in the string is '{shortest_word}' with a length of {len(shortest_word)} characters.\")\n",
    "else:\n",
    "    print(\"No words found in the string.\")"
   ]
  },
  {
   "cell_type": "code",
   "execution_count": null,
   "id": "1d6fdf7e-efe2-4d80-8439-df8298dfdeba",
   "metadata": {},
   "outputs": [],
   "source": [
    "\n"
   ]
  },
  {
   "cell_type": "markdown",
   "id": "3859d05e-01a8-4d10-964e-1576da0ed9e6",
   "metadata": {},
   "source": [
    "22. Reverse the order of words in a string.\n",
    "\n"
   ]
  },
  {
   "cell_type": "markdown",
   "id": "099bc155-69bd-4abd-ac1e-0ef991c6993b",
   "metadata": {},
   "source": [
    "Ans."
   ]
  },
  {
   "cell_type": "code",
   "execution_count": 39,
   "id": "ce3d0390-4919-40d1-9227-e753047504d6",
   "metadata": {},
   "outputs": [
    {
     "name": "stdin",
     "output_type": "stream",
     "text": [
      "Enter the  string that you want to reverse hello i am jignesh\n"
     ]
    }
   ],
   "source": [
    "inpt_string=input(\"Enter the  string that you want to reverse\")           #take a string from users\n",
    "split_words=inpt_string.split()                                           # split the string "
   ]
  },
  {
   "cell_type": "code",
   "execution_count": 40,
   "id": "f4ea028c-d48e-4dd9-8bdd-9efd1fd85f44",
   "metadata": {},
   "outputs": [],
   "source": [
    "reverse_word=split_words[::-1]                                            #then reverse the spliting of words"
   ]
  },
  {
   "cell_type": "code",
   "execution_count": 41,
   "id": "1e6de4dc-fbdf-49ba-8e49-50cd5623de15",
   "metadata": {},
   "outputs": [
    {
     "data": {
      "text/plain": [
       "'jignesh am i hello'"
      ]
     },
     "execution_count": 41,
     "metadata": {},
     "output_type": "execute_result"
    }
   ],
   "source": [
    "reverse=\" \".join(reverse_word)                                            # reverse order of a words join in empty string\n",
    "reverse"
   ]
  },
  {
   "cell_type": "markdown",
   "id": "d15a43ab-134f-45c7-8de2-6d125b71d921",
   "metadata": {},
   "source": [
    "23. Check if a string is alphanumeric."
   ]
  },
  {
   "cell_type": "markdown",
   "id": "e2aa615d-5f82-4e12-a04c-60c90b279162",
   "metadata": {},
   "source": [
    "Ans."
   ]
  },
  {
   "cell_type": "code",
   "execution_count": 50,
   "id": "160b695d-920f-4e07-b8f4-7c5b28598740",
   "metadata": {},
   "outputs": [],
   "source": [
    "stri=\"jignsh123\"                                                           # take a string\n",
    "result=stri.isalnum()                                                     # check a string that is aplhanumeric or not with the help of isalnum()\n"
   ]
  },
  {
   "cell_type": "code",
   "execution_count": 56,
   "id": "991abff0-bd6f-40d3-a1e5-644e68e5dbbc",
   "metadata": {},
   "outputs": [
    {
     "name": "stdout",
     "output_type": "stream",
     "text": [
      "The given string 'jignsh123' is alphanumric . \n"
     ]
    }
   ],
   "source": [
    "if result:\n",
    "    print(f\"The given string '{stri}' is alphanumric . \")\n",
    "else:\n",
    "    print(f\"The given string '{stri}' is not alphanumeric . \")               # print the final output"
   ]
  },
  {
   "cell_type": "code",
   "execution_count": null,
   "id": "9723ff73-ee99-4cc1-985c-e71b6616b41e",
   "metadata": {},
   "outputs": [],
   "source": []
  },
  {
   "cell_type": "markdown",
   "id": "fb1c8c58-13df-4d17-99fa-12a491e9a0ec",
   "metadata": {},
   "source": [
    "24. Extract all digits from a string."
   ]
  },
  {
   "cell_type": "markdown",
   "id": "83c837ad-22c0-4157-b50e-8c15f9707bf3",
   "metadata": {},
   "source": [
    "Ans."
   ]
  },
  {
   "cell_type": "code",
   "execution_count": 2,
   "id": "22a07b2f-5555-4367-8aed-eefacfce9899",
   "metadata": {},
   "outputs": [],
   "source": [
    "def extract_digits(input_string):     #make a function \n",
    "    digits = \"\"\n",
    "    for char in input_string:         # check the given string have  a digit or not\n",
    "        if char.isdigit():\n",
    "            digits += char\n",
    "    return digits                    # return digit\n",
    "\n"
   ]
  },
  {
   "cell_type": "code",
   "execution_count": 3,
   "id": "dc6c0137-dc62-4d53-b293-a8838e4cd692",
   "metadata": {},
   "outputs": [
    {
     "name": "stdout",
     "output_type": "stream",
     "text": [
      "1234567890\n"
     ]
    }
   ],
   "source": [
    "input_string = \"Hello, my phone number is 123-456-7890.\"\n",
    "digits = extract_digits(input_string)\n",
    "print(digits)  #result"
   ]
  },
  {
   "cell_type": "code",
   "execution_count": null,
   "id": "eff085f7-1fac-4b40-b52d-42385b6ae23a",
   "metadata": {},
   "outputs": [],
   "source": []
  },
  {
   "cell_type": "markdown",
   "id": "8b609e73-20e1-4654-8d1a-43a073362a71",
   "metadata": {},
   "source": [
    "25. Extract all alphabets from a string."
   ]
  },
  {
   "cell_type": "markdown",
   "id": "fd11788d-1bb7-4d72-8fc3-fb2aa352827a",
   "metadata": {},
   "source": [
    "Ans."
   ]
  },
  {
   "cell_type": "code",
   "execution_count": 9,
   "id": "5ba3ec4a-0b67-43e0-bff5-6c5dbdea6697",
   "metadata": {},
   "outputs": [],
   "source": [
    "def extract_alphabet(input_string):     #make a function \n",
    "    alphabet = \"\"\n",
    "    for char in input_string:         # check the given string have  a digit or not\n",
    "        if char.isalpha():\n",
    "            alphabet += char\n",
    "    return alphabet                    # return digit\n",
    "\n"
   ]
  },
  {
   "cell_type": "code",
   "execution_count": 10,
   "id": "735e02f4-5ca0-46b6-a3fc-6c9139c68824",
   "metadata": {},
   "outputs": [
    {
     "name": "stdout",
     "output_type": "stream",
     "text": [
      "HelloMMyphonenumberis\n"
     ]
    }
   ],
   "source": [
    "input_string = \"Hello, MMy phone number is 123-456-7890.\"\n",
    "alphabet = extract_alphabet(input_string)\n",
    "print(alphabet)"
   ]
  },
  {
   "cell_type": "code",
   "execution_count": null,
   "id": "56752fdb-9b5b-4b90-ae42-10f887cca168",
   "metadata": {},
   "outputs": [],
   "source": []
  },
  {
   "cell_type": "markdown",
   "id": "4fc93dfd-6027-4097-b70b-0b32431fa219",
   "metadata": {},
   "source": [
    "26. Count the number of uppercase letters in a string."
   ]
  },
  {
   "cell_type": "markdown",
   "id": "ea82185c-ae8a-465d-8ec8-a55318447a58",
   "metadata": {},
   "source": [
    "Ans."
   ]
  },
  {
   "cell_type": "code",
   "execution_count": 12,
   "id": "b4606963-a032-4d48-9548-c49c8c366757",
   "metadata": {},
   "outputs": [],
   "source": [
    "#count the uppercase\n",
    "def number_uppercase(input_string):\n",
    "    count=0\n",
    "    for char in input_string:\n",
    "        if char.isupper():\n",
    "            count += 1\n",
    "    return count"
   ]
  },
  {
   "cell_type": "code",
   "execution_count": 13,
   "id": "9106dc45-fca1-4e57-9896-00d18066f434",
   "metadata": {},
   "outputs": [],
   "source": [
    "input_string= 'My Name Is Jignesh'"
   ]
  },
  {
   "cell_type": "code",
   "execution_count": 15,
   "id": "35479f74-65c0-4c92-bbca-13ba696c526f",
   "metadata": {},
   "outputs": [
    {
     "name": "stdout",
     "output_type": "stream",
     "text": [
      "the number of the uppercase is  4\n"
     ]
    }
   ],
   "source": [
    "count=number_uppercase(input_string)\n",
    "print(\"the number of the uppercase is \",count)"
   ]
  },
  {
   "cell_type": "code",
   "execution_count": null,
   "id": "b4127e29-fee9-4103-a924-f0cac7bf454d",
   "metadata": {},
   "outputs": [],
   "source": []
  },
  {
   "cell_type": "markdown",
   "id": "8f38d209-78c4-438e-9172-6733ee2d4f70",
   "metadata": {},
   "source": [
    "27. Count the number of lowercase letters in a string."
   ]
  },
  {
   "cell_type": "markdown",
   "id": "18c290af-4c77-41dc-abe8-0c99d84fc402",
   "metadata": {},
   "source": [
    "Ans."
   ]
  },
  {
   "cell_type": "code",
   "execution_count": 16,
   "id": "c8d23e88-eb26-491b-8c3e-9dcdeb9915e9",
   "metadata": {},
   "outputs": [],
   "source": [
    "def number_lowercase(input_string):\n",
    "    count=0\n",
    "    for char in input_string:\n",
    "        if char.islower():\n",
    "            count += 1\n",
    "    return count"
   ]
  },
  {
   "cell_type": "code",
   "execution_count": 17,
   "id": "83814fa7-6290-40c1-b4d0-d758982a02a4",
   "metadata": {},
   "outputs": [],
   "source": [
    "input_string= 'My Name Is Jignesh'"
   ]
  },
  {
   "cell_type": "code",
   "execution_count": 18,
   "id": "f2d989ca-03ec-455d-b206-a964be320cfc",
   "metadata": {},
   "outputs": [
    {
     "name": "stdout",
     "output_type": "stream",
     "text": [
      "the number of the lowecase is  11\n"
     ]
    }
   ],
   "source": [
    "count=number_lowercase(input_string)\n",
    "print(\"the number of the lowecase is \",count)"
   ]
  },
  {
   "cell_type": "code",
   "execution_count": null,
   "id": "4dbbcf56-ad4b-47f2-82db-12170e9b64e5",
   "metadata": {},
   "outputs": [],
   "source": []
  },
  {
   "cell_type": "markdown",
   "id": "90b245a6-6814-47c8-ba41-51c575610110",
   "metadata": {},
   "source": [
    "28. Swap the case of each character in a string."
   ]
  },
  {
   "cell_type": "markdown",
   "id": "3066044f-d048-42e9-9d1b-a18d8470f874",
   "metadata": {},
   "source": [
    "Ans."
   ]
  },
  {
   "cell_type": "code",
   "execution_count": 19,
   "id": "2b48ac8b-6d65-481b-adb0-f23835c2f991",
   "metadata": {},
   "outputs": [],
   "source": [
    "def swap_case(input_string):\n",
    "    swapped_string=input_string.swapcase()\n",
    "    return swapped_string\n"
   ]
  },
  {
   "cell_type": "code",
   "execution_count": 21,
   "id": "f29ffd7f-b9dc-4fa5-8180-4bae9181068f",
   "metadata": {},
   "outputs": [
    {
     "name": "stdout",
     "output_type": "stream",
     "text": [
      "heLLO bROTHERS,good morning\n"
     ]
    }
   ],
   "source": [
    "input_string='HEllo Brothers,GOOD MORNING'\n",
    "swapped_result=swap_case(input_string)\n",
    "print(swapped_result)"
   ]
  },
  {
   "cell_type": "code",
   "execution_count": null,
   "id": "7879a533-3b73-4e2a-8f7b-3361bb234289",
   "metadata": {},
   "outputs": [],
   "source": []
  },
  {
   "cell_type": "markdown",
   "id": "f91133be-503d-4d3a-a658-82bb44df79cd",
   "metadata": {},
   "source": [
    "29. Remove a specific word from a string."
   ]
  },
  {
   "cell_type": "markdown",
   "id": "ed0c296e-3e63-4256-9549-0e22a57fbf10",
   "metadata": {},
   "source": [
    "Ans."
   ]
  },
  {
   "cell_type": "code",
   "execution_count": 23,
   "id": "154cf834-199f-40c4-9512-fd47983956ed",
   "metadata": {},
   "outputs": [],
   "source": [
    "def remove_word(input_string, word_to_remove):\n",
    "    # Use str.replace() to replace the word with an empty string\n",
    "    modified_string = input_string.replace(word_to_remove, \"\")\n",
    "    return modified_string\n",
    "\n"
   ]
  },
  {
   "cell_type": "code",
   "execution_count": 24,
   "id": "3d1eb4e7-e4c9-4b02-8f21-d761fe076951",
   "metadata": {},
   "outputs": [
    {
     "name": "stdout",
     "output_type": "stream",
     "text": [
      "Hello, this is an  sentence.\n"
     ]
    }
   ],
   "source": [
    "input_string = \"Hello, this is an example sentence.\"\n",
    "word_to_remove = \"example\"\n",
    "result = remove_word(input_string, word_to_remove)\n",
    "print(result)\n"
   ]
  },
  {
   "cell_type": "markdown",
   "id": "46ab5581-19e8-4b5e-8c4e-fbd60630e761",
   "metadata": {},
   "source": [
    "30. Check if a string is a valid email address.\n"
   ]
  },
  {
   "cell_type": "markdown",
   "id": "a9ba3d1f-abe1-477b-aa20-82f14fa5cec0",
   "metadata": {},
   "source": [
    "Ans."
   ]
  },
  {
   "cell_type": "code",
   "execution_count": 3,
   "id": "991c60a5-426e-4837-a67d-837d9c4d1143",
   "metadata": {},
   "outputs": [],
   "source": [
    "def is_valid_email(email):\n",
    "    # Check for the presence of '@' and '.'\n",
    "    if '@' in email and '.' in email:\n",
    "        # Check that there is only one '@' character\n",
    "        if email.count('@') == 1:\n",
    "            # Split the email into parts before and after '@'\n",
    "            username, domain = email.split('@')\n",
    "\n",
    "            # Check that both parts have at least one character\n",
    "            if username and domain:\n",
    "                # Check that the domain part contains at least one dot\n",
    "                if '.' in domain:\n",
    "                    return True \n",
    "                \n",
    "    \n",
    "\n",
    "    return False\n"
   ]
  },
  {
   "cell_type": "code",
   "execution_count": 4,
   "id": "1880b062-443a-4289-954e-df25ecfc36bb",
   "metadata": {},
   "outputs": [
    {
     "name": "stdout",
     "output_type": "stream",
     "text": [
      "Valid email address\n"
     ]
    }
   ],
   "source": [
    "email = \"example@email.com\"\n",
    "if is_valid_email(email):\n",
    "    print(\"Valid email address\")\n",
    "else:\n",
    "    print(\"Invalid email address\")\n"
   ]
  },
  {
   "cell_type": "code",
   "execution_count": null,
   "id": "3db92a1f-87e7-492c-811f-1393d2b42248",
   "metadata": {},
   "outputs": [],
   "source": []
  },
  {
   "cell_type": "markdown",
   "id": "0446c225-df9d-40b1-a324-b729e65179e7",
   "metadata": {},
   "source": [
    "\n",
    "31. Extract the username from an email address string."
   ]
  },
  {
   "cell_type": "markdown",
   "id": "a3b5721b-883b-451b-aa09-265c0bc9dda8",
   "metadata": {},
   "source": [
    "Ans."
   ]
  },
  {
   "cell_type": "code",
   "execution_count": 2,
   "id": "bf8d838c-cc54-4b36-9439-2b7ba9f9cf4d",
   "metadata": {},
   "outputs": [],
   "source": [
    "def extract_username(email):\n",
    "    if \"@\" and \".\" in email:\n",
    "        if email.count('@')==1:\n",
    "            username,domain=email.split('@')\n",
    "            return username\n",
    "    else:\n",
    "        return False\n",
    "    \n",
    "            "
   ]
  },
  {
   "cell_type": "code",
   "execution_count": 4,
   "id": "3539e373-764a-4851-bde3-d08a26d1259b",
   "metadata": {},
   "outputs": [
    {
     "name": "stdout",
     "output_type": "stream",
     "text": [
      "jignesh89\n"
     ]
    }
   ],
   "source": [
    "email='jignesh89@gmail.com'\n",
    "find_username=extract_username(email)\n",
    "print(find_username)"
   ]
  },
  {
   "cell_type": "code",
   "execution_count": null,
   "id": "9055fe93-a94e-4a39-aa61-2a07e66ffde9",
   "metadata": {},
   "outputs": [],
   "source": []
  },
  {
   "cell_type": "markdown",
   "id": "7e96438d-d20a-432e-857c-d128649cab75",
   "metadata": {},
   "source": [
    "32. Extract the domain name from an email address string."
   ]
  },
  {
   "cell_type": "markdown",
   "id": "43b7153a-54d5-4845-bc05-4ab98ced912c",
   "metadata": {},
   "source": [
    "Ans."
   ]
  },
  {
   "cell_type": "code",
   "execution_count": 6,
   "id": "9a598af6-de27-48b9-869d-61b0b5657645",
   "metadata": {},
   "outputs": [],
   "source": [
    "def extract_username(email):\n",
    "    if \"@\" and \".\" in email:\n",
    "        if email.count('@')==1:\n",
    "            username,domain=email.split('@')\n",
    "            return domain\n",
    "    else:\n",
    "        return False\n",
    "    \n",
    "            "
   ]
  },
  {
   "cell_type": "code",
   "execution_count": 9,
   "id": "e67102ac-bdc3-458c-8335-80a1eee67cef",
   "metadata": {},
   "outputs": [
    {
     "name": "stdout",
     "output_type": "stream",
     "text": [
      "gmail.com\n"
     ]
    }
   ],
   "source": [
    "email='jignesh89@gmail.com'\n",
    "find_username=extract_username(email)\n",
    "print(find_username)"
   ]
  },
  {
   "cell_type": "markdown",
   "id": "80eb512c-c5ac-4845-809a-8ca83e6c3dd0",
   "metadata": {},
   "source": [
    "33. Replace multiple spaces in a string with a single space."
   ]
  },
  {
   "cell_type": "markdown",
   "id": "1e6dbcf5-44c9-4380-8c53-6d18b03c8174",
   "metadata": {},
   "source": [
    "Ans."
   ]
  },
  {
   "cell_type": "code",
   "execution_count": 13,
   "id": "c857c0fc-9f6a-4c1b-be93-bd85d3db5a00",
   "metadata": {},
   "outputs": [
    {
     "name": "stdout",
     "output_type": "stream",
     "text": [
      "this is mty first blog\n"
     ]
    }
   ],
   "source": [
    "def multi_spaces(input_string):\n",
    "    splitting= input_string.split()\n",
    "    right_string=' '.join(splitting)\n",
    "    return right_string\n",
    "\n",
    "input_string= 'this    is       mty first      blog'\n",
    "single_space=multi_spaces(input_string)\n",
    "print(single_space)"
   ]
  },
  {
   "cell_type": "code",
   "execution_count": null,
   "id": "1b3cc461-4ad8-4857-a043-a2d482117ba2",
   "metadata": {},
   "outputs": [],
   "source": []
  },
  {
   "cell_type": "markdown",
   "id": "8244efd5-acaa-497b-b2ae-ed18afe61b95",
   "metadata": {},
   "source": [
    "34. Check if a string is a valid URL."
   ]
  },
  {
   "cell_type": "markdown",
   "id": "8933dcf0-f8de-4f6b-a9f2-6b76fec57130",
   "metadata": {},
   "source": [
    "Ans."
   ]
  },
  {
   "cell_type": "code",
   "execution_count": 18,
   "id": "13026185-5f16-4662-ab6e-0e0c02987d7a",
   "metadata": {},
   "outputs": [
    {
     "name": "stdout",
     "output_type": "stream",
     "text": [
      "https://www.example.com is a valid URL.\n"
     ]
    }
   ],
   "source": [
    "def is_valid_url(url):\n",
    "                                                                                # Check if the URL starts with a valid scheme (http, https, or ftp)\n",
    "    if url.startswith(\"http://\") or url.startswith(\"https://\") or url.startswith(\"ftp://\"):\n",
    "                                                                                # Check if there are no spaces in the URL\n",
    "        if \" \" not in url:\n",
    "            return True\n",
    "\n",
    "    return False\n",
    "\n",
    "# Example usage:\n",
    "url = \"https://www.example.com\"\n",
    "if is_valid_url(url):\n",
    "    print(f\"{url} is a valid URL.\")\n",
    "else:\n",
    "    print(f\"{url} is not a valid URL.\")\n"
   ]
  },
  {
   "cell_type": "code",
   "execution_count": null,
   "id": "3640730b-6cd3-40e7-9ca8-a6ff714c10bf",
   "metadata": {},
   "outputs": [],
   "source": []
  },
  {
   "cell_type": "markdown",
   "id": "aac07e5f-ea09-481b-87c7-3e35c481cb6a",
   "metadata": {},
   "source": [
    "35. Extract the protocol (http or https) from a URL string."
   ]
  },
  {
   "cell_type": "markdown",
   "id": "afab7902-806d-47cc-ba37-678a36808be3",
   "metadata": {},
   "source": [
    "Ans."
   ]
  },
  {
   "cell_type": "code",
   "execution_count": 30,
   "id": "7ef7ce97-14a1-4715-ba7a-2459655738be",
   "metadata": {},
   "outputs": [],
   "source": [
    "def extract_protocol(url):\n",
    "    # Check if the URL starts with 'https://'\n",
    "    if url.startswith('https://'):\n",
    "        return 'https'\n",
    "    # Check if the URL starts with 'http://'\n",
    "    elif url.startswith('http://'):\n",
    "        return 'http'\n",
    "    # If neither http nor https is found, return None to indicate an invalid protocol\n",
    "    else:\n",
    "        return None\n"
   ]
  },
  {
   "cell_type": "code",
   "execution_count": 31,
   "id": "d93f3e00-bb63-4922-bac3-f60b9c02e4e2",
   "metadata": {},
   "outputs": [
    {
     "name": "stdout",
     "output_type": "stream",
     "text": [
      "Protocol: https\n"
     ]
    }
   ],
   "source": [
    "url = \"https://www.example.com\"\n",
    "protocol = extract_protocol(url)\n",
    "\n",
    "if protocol:\n",
    "    print(f\"Protocol: {protocol}\")\n",
    "else:\n",
    "    print(\"Invalid URL or unsupported protocol.\")\n"
   ]
  },
  {
   "cell_type": "markdown",
   "id": "6b2a9142-3af5-430f-9266-8a1516580a31",
   "metadata": {},
   "source": [
    "36. Find the frequency of each character in a string."
   ]
  },
  {
   "cell_type": "markdown",
   "id": "ac84d3fe-4f1a-4a1d-9ac2-0b69162e9abd",
   "metadata": {},
   "source": [
    "Ans."
   ]
  },
  {
   "cell_type": "code",
   "execution_count": 2,
   "id": "f773ba5e-651f-4827-8d05-aa3b0af31789",
   "metadata": {},
   "outputs": [],
   "source": [
    "def character_frequency(string):\n",
    "    # Create an empty dictionary to store character counts\n",
    "    char_count = {}\n",
    "\n",
    "    # Iterate through the string\n",
    "    for char in string:\n",
    "        # Check if the character is already in the dictionary\n",
    "        if char in char_count:\n",
    "            # If it is, increment the count\n",
    "            char_count[char] += 1\n",
    "        else:\n",
    "            # If it's not, initialize the count to 1\n",
    "            char_count[char] = 1\n",
    "\n",
    "    return char_count"
   ]
  },
  {
   "cell_type": "code",
   "execution_count": 3,
   "id": "68583320-a2e4-4f88-a455-accde79b1cd2",
   "metadata": {},
   "outputs": [
    {
     "name": "stdout",
     "output_type": "stream",
     "text": [
      "'h' occurs 1 times.\n",
      "'e' occurs 1 times.\n",
      "'l' occurs 3 times.\n",
      "'o' occurs 2 times.\n",
      "',' occurs 1 times.\n",
      "' ' occurs 1 times.\n",
      "'w' occurs 1 times.\n",
      "'r' occurs 1 times.\n",
      "'d' occurs 1 times.\n",
      "'!' occurs 1 times.\n"
     ]
    }
   ],
   "source": [
    "\n",
    "input_string = \"hello, world!\"\n",
    "frequency = character_frequency(input_string)\n",
    "\n",
    "for char, count in frequency.items():\n",
    "    print(f\"'{char}' occurs {count} times.\")\n"
   ]
  },
  {
   "cell_type": "code",
   "execution_count": null,
   "id": "8259604c-fe7f-499f-a3a7-3a09030204f6",
   "metadata": {},
   "outputs": [],
   "source": []
  },
  {
   "cell_type": "markdown",
   "id": "9c84b78a-1f56-49f0-8070-1993488a880a",
   "metadata": {},
   "source": [
    "37. Remove all punctuation from a string."
   ]
  },
  {
   "cell_type": "markdown",
   "id": "9244cb21-6098-453c-be22-767c8e5be814",
   "metadata": {},
   "source": [
    "Ans."
   ]
  },
  {
   "cell_type": "code",
   "execution_count": 37,
   "id": "3f15618d-4405-4d4d-b334-40e8b8d70ddb",
   "metadata": {},
   "outputs": [
    {
     "name": "stdout",
     "output_type": "stream",
     "text": [
      "Hello World This is an example string\n"
     ]
    }
   ],
   "source": [
    "import string\n",
    "def remove_punctuation(input_string):\n",
    "    # Create a translation table that maps all punctuation characters to None\n",
    "    translator = str.maketrans('', '', string.punctuation)\n",
    "    \n",
    "    # Use the translate method to remove the punctuation\n",
    "    cleaned_string = input_string.translate(translator)\n",
    "    \n",
    "    return cleaned_string\n",
    "\n",
    "# Example usage:\n",
    "input_string = \"Hello, World! This is an example string.\"\n",
    "cleaned_string = remove_punctuation(input_string)\n",
    "print(cleaned_string)\n"
   ]
  },
  {
   "cell_type": "code",
   "execution_count": 39,
   "id": "a1105ee0-bda4-4783-bdc1-2ad0e02df2e3",
   "metadata": {},
   "outputs": [],
   "source": [
    "def remove_punctuation(input_string):\n",
    "    # Define a set of punctuation characters\n",
    "    punctuation = set(\".,!?;:-'\\\"()[]{}\")\n",
    "\n",
    "    # Create a new string with punctuation characters removed\n",
    "    cleaned_string = ''.join(char for char in input_string if char not in punctuation)\n",
    "\n",
    "    return cleaned_string"
   ]
  },
  {
   "cell_type": "code",
   "execution_count": null,
   "id": "35202fc8-b91a-4681-939c-b57d0f804b54",
   "metadata": {},
   "outputs": [],
   "source": [
    "input_string = \"Hello, World! This is an example string.\""
   ]
  },
  {
   "cell_type": "code",
   "execution_count": null,
   "id": "94d27ff3-e67a-49cb-82f0-e38d30cbf2d4",
   "metadata": {},
   "outputs": [],
   "source": [
    "cleaned_string = remove_punctuation(input_string)"
   ]
  },
  {
   "cell_type": "code",
   "execution_count": 40,
   "id": "84fea1d8-2922-4d47-9b0a-053682264d91",
   "metadata": {},
   "outputs": [
    {
     "name": "stdout",
     "output_type": "stream",
     "text": [
      "Hello World This is an example string\n"
     ]
    }
   ],
   "source": [
    "print(cleaned_string)"
   ]
  },
  {
   "cell_type": "code",
   "execution_count": null,
   "id": "5c54044c-b8cf-4892-84df-a92eb1f1bb22",
   "metadata": {},
   "outputs": [],
   "source": []
  },
  {
   "cell_type": "markdown",
   "id": "5d2db738-3778-44cc-be7a-efea5caf3884",
   "metadata": {},
   "source": [
    "38. Check if a string contains only digits."
   ]
  },
  {
   "cell_type": "markdown",
   "id": "f83b2d43-5d40-4487-afd5-5be7c393d71e",
   "metadata": {},
   "source": [
    "Ans."
   ]
  },
  {
   "cell_type": "code",
   "execution_count": 41,
   "id": "d22e4af6-1738-497d-87e0-49c605c5a435",
   "metadata": {},
   "outputs": [],
   "source": [
    "def contains_only_digits(input_string):\n",
    "    return input_string.isdigit()"
   ]
  },
  {
   "cell_type": "code",
   "execution_count": 42,
   "id": "7071c019-d679-49e4-b45f-ef2bfffb1a43",
   "metadata": {},
   "outputs": [],
   "source": [
    "string1 = \"12345\"\n",
    "string2 = \"123abc\"\n"
   ]
  },
  {
   "cell_type": "code",
   "execution_count": 43,
   "id": "b36cff1d-7b41-4a2c-98dd-714a38e8d647",
   "metadata": {},
   "outputs": [
    {
     "name": "stdout",
     "output_type": "stream",
     "text": [
      "'12345' contains only digits.\n",
      "'123abc' does not contain only digits.\n"
     ]
    }
   ],
   "source": [
    "if contains_only_digits(string1):\n",
    "    print(f\"'{string1}' contains only digits.\")\n",
    "else:\n",
    "    print(f\"'{string1}' does not contain only digits.\")\n",
    "\n",
    "if contains_only_digits(string2):\n",
    "    print(f\"'{string2}' contains only digits.\")\n",
    "else:\n",
    "    print(f\"'{string2}' does not contain only digits.\")\n"
   ]
  },
  {
   "cell_type": "code",
   "execution_count": null,
   "id": "ca09e43c-83e2-40b6-b765-122d7e9c2c60",
   "metadata": {},
   "outputs": [],
   "source": []
  },
  {
   "cell_type": "markdown",
   "id": "21498ee4-af10-4f69-a8c6-3853ac7ddf2d",
   "metadata": {},
   "source": [
    "39. Check if a string contains only alphabets."
   ]
  },
  {
   "cell_type": "markdown",
   "id": "0dece2bd-2956-4909-9846-33d2e2ddad80",
   "metadata": {},
   "source": [
    "Ans."
   ]
  },
  {
   "cell_type": "code",
   "execution_count": null,
   "id": "7676cada-beac-410d-9b72-2f2b389d37c4",
   "metadata": {},
   "outputs": [],
   "source": [
    "def contains_only_alphabets(input_string):\n",
    "    return input_string.isalpha()"
   ]
  },
  {
   "cell_type": "code",
   "execution_count": null,
   "id": "f3dc5d66-455e-4532-98e4-5c63ca4eb6ab",
   "metadata": {},
   "outputs": [],
   "source": [
    "string1 = \"Hello\"\n",
    "string2 = \"Hello123\"\n"
   ]
  },
  {
   "cell_type": "code",
   "execution_count": null,
   "id": "a5f9e5b6-3d02-4183-9042-1ed34fa3c910",
   "metadata": {},
   "outputs": [],
   "source": [
    "if contains_only_alphabets(string1):\n",
    "    print(f\"'{string1}' contains only alphabets.\")\n",
    "else:\n",
    "    print(f\"'{string1}' does not contain only alphabets.\")\n",
    "\n",
    "if contains_only_alphabets(string2):\n",
    "    print(f\"'{string2}' contains only alphabets.\")\n",
    "else:\n",
    "    print(f\"'{string2}' does not contain only alphabets.\")\n"
   ]
  },
  {
   "cell_type": "code",
   "execution_count": null,
   "id": "1cb46c62-de5f-4c50-9ed7-f080680e6a07",
   "metadata": {},
   "outputs": [],
   "source": []
  },
  {
   "cell_type": "markdown",
   "id": "c0b4af4b-d45d-49d3-83cb-2c5957833345",
   "metadata": {},
   "source": [
    "40. Convert a string to a list of characters.\n"
   ]
  },
  {
   "cell_type": "markdown",
   "id": "68fc4569-ec83-476b-b0f3-3011310b627f",
   "metadata": {},
   "source": [
    "Ans."
   ]
  },
  {
   "cell_type": "code",
   "execution_count": 44,
   "id": "a1ed523b-fed9-43fe-9c4a-e8ab2a470b2e",
   "metadata": {},
   "outputs": [
    {
     "name": "stdout",
     "output_type": "stream",
     "text": [
      "['H', 'e', 'l', 'l', 'o', ',', ' ', 'W', 'o', 'r', 'l', 'd', '!']\n"
     ]
    }
   ],
   "source": [
    "my_string = \"Hello, World!\"\n",
    "char_list = list(my_string)\n",
    "print(char_list)\n"
   ]
  },
  {
   "cell_type": "markdown",
   "id": "9fbd3f87-f9cd-46c9-8dc2-4b0d26a20dcc",
   "metadata": {},
   "source": [
    "41. Check if two strings are anagrams"
   ]
  },
  {
   "cell_type": "markdown",
   "id": "becb1122-882b-4d9c-994b-313b2ce14664",
   "metadata": {},
   "source": [
    "ANS."
   ]
  },
  {
   "cell_type": "code",
   "execution_count": 48,
   "id": "ad2aac05-095d-4779-a862-c352ac267d8f",
   "metadata": {},
   "outputs": [],
   "source": [
    "def are_anagrams(str1, str2):\n",
    "    # Remove spaces and convert to lowercase\n",
    "    str1 = str1.replace(\" \", \"\").lower()\n",
    "    str2 = str2.replace(\" \", \"\").lower()\n",
    "\n",
    "    # Check if lengths are the same\n",
    "    if len(str1) != len(str2):\n",
    "        return False\n",
    "\n",
    "    # Sort and compare the strings\n",
    "    return sorted(str1) == sorted(str2)"
   ]
  },
  {
   "cell_type": "code",
   "execution_count": 49,
   "id": "4423f859-9d6b-4448-bccd-33fb11d69e1b",
   "metadata": {},
   "outputs": [
    {
     "name": "stdout",
     "output_type": "stream",
     "text": [
      "'listen' and 'silent' are anagrams.\n"
     ]
    }
   ],
   "source": [
    "string1 = \"listen\"\n",
    "string2 = \"silent\"\n",
    "if are_anagrams(string1, string2):\n",
    "    print(f\"'{string1}' and '{string2}' are anagrams.\")\n",
    "else:\n",
    "    print(f\"'{string1}' and '{string2}' are not anagrams.\")\n"
   ]
  },
  {
   "cell_type": "code",
   "execution_count": null,
   "id": "0865b7f6-0a8b-437b-954e-af948a8625ea",
   "metadata": {},
   "outputs": [],
   "source": []
  },
  {
   "cell_type": "markdown",
   "id": "e650aa9d-e4b7-499a-a05b-f5f9e0b8f5a2",
   "metadata": {},
   "source": [
    "42. Encode a string using a Caesar cipher."
   ]
  },
  {
   "cell_type": "markdown",
   "id": "f6ab0542-c626-48d3-a639-35585b726c79",
   "metadata": {},
   "source": [
    "Ans."
   ]
  },
  {
   "cell_type": "code",
   "execution_count": 50,
   "id": "83591c01-9782-4e8b-8f31-377df91a9cd0",
   "metadata": {},
   "outputs": [],
   "source": [
    "def caesar_cipher(text, shift):\n",
    "    encrypted_text = \"\"\n",
    "\n",
    "    for char in text:\n",
    "        if char.isalpha():  # Check if the character is a letter\n",
    "            is_upper = char.isupper()  # Check if the letter is uppercase\n",
    "            char = char.lower()  # Convert to lowercase for shifting\n",
    "            shifted = chr(((ord(char) - ord('a') + shift) % 26) + ord('a'))\n",
    "            if is_upper:\n",
    "                shifted = shifted.upper()  # Convert back to uppercase if original was uppercase\n",
    "            encrypted_text += shifted\n",
    "        else:\n",
    "            encrypted_text += char  # Non-alphabetic characters remain unchanged\n",
    "\n",
    "    return encrypted_text"
   ]
  },
  {
   "cell_type": "code",
   "execution_count": 51,
   "id": "c6d879a7-f2b7-4227-a61d-3ee80312667a",
   "metadata": {},
   "outputs": [
    {
     "name": "stdout",
     "output_type": "stream",
     "text": [
      "Original:  Hello, World!\n",
      "Encrypted:  Khoor, Zruog!\n"
     ]
    }
   ],
   "source": [
    "# Example usage:\n",
    "plaintext = \"Hello, World!\"\n",
    "shift = 3\n",
    "encrypted_text = caesar_cipher(plaintext, shift)\n",
    "print(\"Original: \", plaintext)\n",
    "print(\"Encrypted: \", encrypted_text)\n"
   ]
  },
  {
   "cell_type": "code",
   "execution_count": null,
   "id": "3c24e9a7-56d0-4754-b72c-d7b5e90ea444",
   "metadata": {},
   "outputs": [],
   "source": []
  },
  {
   "cell_type": "markdown",
   "id": "8d3b698b-9cd3-4b1d-856c-81a44dcf8061",
   "metadata": {},
   "source": [
    "43. Decode a Caesar cipher encoded string."
   ]
  },
  {
   "cell_type": "markdown",
   "id": "dd47b1df-88ba-46d1-9863-1c4636418b16",
   "metadata": {},
   "source": [
    "Ans."
   ]
  },
  {
   "cell_type": "code",
   "execution_count": 52,
   "id": "10539e48-2b46-4d25-a3b1-4102c38aa7b9",
   "metadata": {},
   "outputs": [],
   "source": [
    "def caesar_decipher(encrypted_text, shift):\n",
    "    decrypted_text = \"\"\n",
    "\n",
    "    for char in encrypted_text:\n",
    "        if char.isalpha():  # Check if the character is a letter\n",
    "            is_upper = char.isupper()  # Check if the letter is uppercase\n",
    "            char = char.lower()  # Convert to lowercase for shifting\n",
    "            shifted = chr(((ord(char) - ord('a') - shift) % 26) + ord('a'))\n",
    "            if is_upper:\n",
    "                shifted = shifted.upper()  # Convert back to uppercase if original was uppercase\n",
    "            decrypted_text += shifted\n",
    "        else:\n",
    "            decrypted_text += char  # Non-alphabetic characters remain unchanged\n",
    "\n",
    "    return decrypted_text\n"
   ]
  },
  {
   "cell_type": "code",
   "execution_count": 53,
   "id": "97937529-220c-4d69-980f-6de94226370b",
   "metadata": {},
   "outputs": [
    {
     "name": "stdout",
     "output_type": "stream",
     "text": [
      "Encrypted:  Khoor, Zruog!\n",
      "Decrypted:  Hello, World!\n"
     ]
    }
   ],
   "source": [
    "encrypted_text = \"Khoor, Zruog!\"\n",
    "shift = 3\n",
    "decrypted_text = caesar_decipher(encrypted_text, shift)\n",
    "print(\"Encrypted: \", encrypted_text)\n",
    "print(\"Decrypted: \", decrypted_text)\n"
   ]
  },
  {
   "cell_type": "code",
   "execution_count": null,
   "id": "5b8ad4b4-582a-437c-8ae1-a7bb4ecb4fdc",
   "metadata": {},
   "outputs": [],
   "source": []
  },
  {
   "cell_type": "markdown",
   "id": "dc9655a9-4b58-48ec-9f18-347318aa8852",
   "metadata": {},
   "source": [
    "44. Find the most frequent word in a string."
   ]
  },
  {
   "cell_type": "markdown",
   "id": "377a9b4c-022e-4cd2-b5e0-0d991d0ef3b9",
   "metadata": {},
   "source": [
    "Ans."
   ]
  },
  {
   "cell_type": "code",
   "execution_count": 1,
   "id": "d189acd9-3413-4ff8-a42a-6cda05d3db1c",
   "metadata": {},
   "outputs": [],
   "source": [
    "from collections import Counter\n",
    "\n",
    "def most_frequent_word(text):\n",
    "    words = text.split()  # Split the input text into words\n",
    "    word_count = Counter(words)  # Count the frequency of each word\n",
    "    most_common_word, frequency = word_count.most_common(1)[0]  # Get the most common word and its frequency\n",
    "    return most_common_word, frequency"
   ]
  },
  {
   "cell_type": "code",
   "execution_count": 2,
   "id": "ce080f43-fab4-4232-aa77-2c0f14aef5cd",
   "metadata": {},
   "outputs": [
    {
     "name": "stdout",
     "output_type": "stream",
     "text": [
      "The most frequent word is 'sample' with a frequency of 3.\n"
     ]
    }
   ],
   "source": [
    "input_text = \"This is a sample string with some sample words. This string contains some repeated words like sample and some.\"\n",
    "most_common, frequency = most_frequent_word(input_text)\n",
    "print(f\"The most frequent word is '{most_common}' with a frequency of {frequency}.\")\n"
   ]
  },
  {
   "cell_type": "code",
   "execution_count": null,
   "id": "83ae4937-022f-42bc-8796-fb236a8de914",
   "metadata": {},
   "outputs": [],
   "source": []
  },
  {
   "cell_type": "markdown",
   "id": "82d446f4-d198-48c0-b652-bd1d3b022d1f",
   "metadata": {},
   "source": [
    "45. Find all unique words in a string"
   ]
  },
  {
   "cell_type": "markdown",
   "id": "c6d75f55-7cdd-4b87-b74c-ee9f0c7a855e",
   "metadata": {},
   "source": [
    "Ans."
   ]
  },
  {
   "cell_type": "code",
   "execution_count": 3,
   "id": "b32370b3-45cb-421d-bd3b-20b93649bcd9",
   "metadata": {},
   "outputs": [],
   "source": [
    "def unique_words(text):\n",
    "    words = text.split()  # Split the input text into words\n",
    "    unique_words = set(words)  # Use a set to store unique words\n",
    "    return unique_words"
   ]
  },
  {
   "cell_type": "code",
   "execution_count": 4,
   "id": "09ac33ec-d7c1-4224-a323-fe30bfa158ad",
   "metadata": {},
   "outputs": [
    {
     "name": "stdout",
     "output_type": "stream",
     "text": [
      "Unique words in the string:\n",
      "like\n",
      "string\n",
      "with\n",
      "some\n",
      "words.\n",
      "is\n",
      "and\n",
      "repeated\n",
      "This\n",
      "sample\n",
      "words\n",
      "a\n",
      "contains\n",
      "some.\n"
     ]
    }
   ],
   "source": [
    "input_text = \"This is a sample string with some sample words. This string contains some repeated words like sample and some.\"\n",
    "unique_words_set = unique_words(input_text)\n",
    "print(\"Unique words in the string:\")\n",
    "for word in unique_words_set:\n",
    "    print(word)\n"
   ]
  },
  {
   "cell_type": "code",
   "execution_count": null,
   "id": "5bef4faf-ae30-4fd7-9bcb-af92048e19eb",
   "metadata": {},
   "outputs": [],
   "source": []
  },
  {
   "cell_type": "markdown",
   "id": "92a30f5a-9b9b-49fa-92b9-184734346695",
   "metadata": {},
   "source": [
    "46. Count the number of syllables in a string."
   ]
  },
  {
   "cell_type": "markdown",
   "id": "75e5cf50-fb6e-4a5e-855e-12e9d90926b4",
   "metadata": {},
   "source": [
    "Ans."
   ]
  },
  {
   "cell_type": "code",
   "execution_count": 7,
   "id": "6976cd34-e47b-4dfd-9f88-a8771ebd4d8e",
   "metadata": {},
   "outputs": [],
   "source": [
    "def count_syllables(word):\n",
    "                                                                 # Convert the word to lowercase for consistent handling of vowels\n",
    "    word = word.lower()\n",
    "    \n",
    "                                                                 # Initialize variables to count syllables and track if the previous character was a vowel\n",
    "    syllable_count = 0\n",
    "    prev_char_was_vowel = False\n",
    "    \n",
    "                                                                  # Define a set of vowels\n",
    "    vowels = {'a', 'e', 'i', 'o', 'u'}\n",
    "     \n",
    "                                                                 # Loop through each character in the word\n",
    "    for char in word:\n",
    "        if char in vowels:\n",
    "                                                                 # If the current character is a vowel and the previous character was not, it's a new syllable\n",
    "            if not prev_char_was_vowel:\n",
    "                syllable_count += 1\n",
    "            prev_char_was_vowel = True\n",
    "        else:\n",
    "            prev_char_was_vowel = False\n",
    "    \n",
    "                                                                # Handling cases where 'e' at the end is silent\n",
    "    if word.endswith('e') and syllable_count > 1:\n",
    "        syllable_count -= 1\n",
    "\n",
    "                                                                # Ensure there's at least one syllable\n",
    "    if syllable_count == 0:\n",
    "        syllable_count = 1\n",
    "    \n",
    "    return syllable_count"
   ]
  },
  {
   "cell_type": "code",
   "execution_count": 8,
   "id": "caa948c1-5615-4d79-bffc-ea35f2203b3e",
   "metadata": {},
   "outputs": [
    {
     "name": "stdout",
     "output_type": "stream",
     "text": [
      "The word 'example' has 2 syllables.\n"
     ]
    }
   ],
   "source": [
    "word = \"example\"\n",
    "syllable_count = count_syllables(word)\n",
    "print(f\"The word '{word}' has {syllable_count} syllables.\")\n",
    "\n"
   ]
  },
  {
   "cell_type": "code",
   "execution_count": null,
   "id": "2d88c123-4586-4284-ade0-a152b811a015",
   "metadata": {},
   "outputs": [],
   "source": []
  },
  {
   "cell_type": "markdown",
   "id": "b5288b0a-6fea-4bde-a119-d763622f588b",
   "metadata": {},
   "source": [
    "47. Check if a string contains any special characters."
   ]
  },
  {
   "cell_type": "markdown",
   "id": "379eb9eb-07e7-4adf-9963-f9c388bd5e98",
   "metadata": {},
   "source": [
    "Ans."
   ]
  },
  {
   "cell_type": "code",
   "execution_count": 1,
   "id": "b6b930c2-3fc5-4335-8803-e76ffcc54ec8",
   "metadata": {},
   "outputs": [
    {
     "name": "stdout",
     "output_type": "stream",
     "text": [
      "The string contains special characters.\n"
     ]
    }
   ],
   "source": [
    "def contains_special_characters(input_string):\n",
    "    allowed_characters = set(\"abcdefghijklmnopqrstuvwxyzABCDEFGHIJKLMNOPQRSTUVWXYZ0123456789 \")\n",
    "    \n",
    "    for char in input_string:\n",
    "        if char not in allowed_characters:\n",
    "            return True  # Special character found\n",
    "    \n",
    "    return False  # No special characters found\n",
    "\n",
    "# Example usage:\n",
    "text = \"Hello, this is a sample text with special characters like @ and $.\"\n",
    "if contains_special_characters(text):\n",
    "    print(\"The string contains special characters.\")\n",
    "else:\n",
    "    print(\"The string does not contain special characters.\")\n"
   ]
  },
  {
   "cell_type": "code",
   "execution_count": null,
   "id": "c9577877-d3b0-418a-a9a6-d5069c0a2754",
   "metadata": {},
   "outputs": [],
   "source": []
  },
  {
   "cell_type": "markdown",
   "id": "b32d29af-195e-4b32-ad50-60df0e03d935",
   "metadata": {},
   "source": [
    "48. Remove the nth word from a string."
   ]
  },
  {
   "cell_type": "markdown",
   "id": "acc3af0b-a959-4776-be88-0d2f14085afc",
   "metadata": {},
   "source": [
    "Ans."
   ]
  },
  {
   "cell_type": "code",
   "execution_count": 3,
   "id": "77435f85-faa9-4a93-ae62-8992f254cc31",
   "metadata": {},
   "outputs": [
    {
     "name": "stdout",
     "output_type": "stream",
     "text": [
      "This is example sentence to demonstrate word removal.\n"
     ]
    }
   ],
   "source": [
    "def remove_nth_word(input_string, n):\n",
    "    # Split the input string into words\n",
    "    words = input_string.split()\n",
    "\n",
    "    # Check if n is a valid index\n",
    "    if 1 <= n <= len(words):\n",
    "        # Remove the nth word\n",
    "        del words[n - 1]\n",
    "\n",
    "        # Join the remaining words back into a string\n",
    "        result = ' '.join(words)\n",
    "\n",
    "        return result\n",
    "    else:\n",
    "        # Return the original string if n is out of bounds\n",
    "        return input_string\n",
    "\n",
    "# Example usage:\n",
    "input_string = \"This is an example sentence to demonstrate word removal.\"\n",
    "n = 3  # Remove the third word (in this case, \"an\")\n",
    "new_string = remove_nth_word(input_string, n)\n",
    "print(new_string)\n"
   ]
  },
  {
   "cell_type": "code",
   "execution_count": null,
   "id": "4b6fe6dc-e496-46d7-b759-13174918ff10",
   "metadata": {},
   "outputs": [],
   "source": []
  },
  {
   "cell_type": "markdown",
   "id": "c933f0d2-9209-46c1-a5ab-ba4b2eb4c773",
   "metadata": {},
   "source": [
    "49. Insert a word at the nth position in a string."
   ]
  },
  {
   "cell_type": "markdown",
   "id": "3f6aa920-ef9f-4039-916f-2bc902bf87f2",
   "metadata": {},
   "source": [
    "Ans."
   ]
  },
  {
   "cell_type": "code",
   "execution_count": 1,
   "id": "8aa876d3-6fa7-41a4-8161-d9d6dc0fb994",
   "metadata": {},
   "outputs": [],
   "source": [
    "def insert_word_at_nth_position(input_string, word_to_insert, n):\n",
    "    # Split the input string into words\n",
    "    words = input_string.split()\n",
    "\n",
    "    # Check if n is a valid position (1 to len(words) + 1)\n",
    "    if 1 <= n <= len(words) + 1:\n",
    "        # Insert the word at the specified position\n",
    "        words.insert(n - 1, word_to_insert)\n",
    "\n",
    "        # Join the words back into a string\n",
    "        result = ' '.join(words)\n",
    "\n",
    "        return result\n",
    "    else:\n",
    "        # If n is out of bounds, append the word at the end of the string\n",
    "        return input_string + ' ' + word_to_insert"
   ]
  },
  {
   "cell_type": "code",
   "execution_count": 2,
   "id": "aab7feae-af93-4300-9932-77623067e587",
   "metadata": {},
   "outputs": [
    {
     "name": "stdout",
     "output_type": "stream",
     "text": [
      "This is new an example sentence.\n"
     ]
    }
   ],
   "source": [
    "input_string = \"This is an example sentence.\"\n",
    "word_to_insert = \"new\"\n",
    "n = 3  # Insert the word \"new\" at the third position\n",
    "new_string = insert_word_at_nth_position(input_string, word_to_insert, n)\n",
    "print(new_string)\n"
   ]
  },
  {
   "cell_type": "code",
   "execution_count": null,
   "id": "34e26765-0b3a-4dd3-b957-0287cb2212c8",
   "metadata": {},
   "outputs": [],
   "source": []
  },
  {
   "cell_type": "markdown",
   "id": "c5b7118c-a5c5-4901-9fed-774ce8724e98",
   "metadata": {},
   "source": [
    "50. Convert a CSV string to a list of lists."
   ]
  },
  {
   "cell_type": "markdown",
   "id": "8b3e5033-1be5-43b1-9706-0cc54afddc71",
   "metadata": {},
   "source": [
    "Ans."
   ]
  },
  {
   "cell_type": "code",
   "execution_count": 4,
   "id": "7a001906-d2b4-4448-88dc-b0512e4fe129",
   "metadata": {},
   "outputs": [
    {
     "name": "stdout",
     "output_type": "stream",
     "text": [
      "['1', 'John', 'Doe']\n",
      "['2', 'Jane', 'Smith']\n",
      "['3', 'Bob', 'Johnson']\n"
     ]
    }
   ],
   "source": [
    "import csv\n",
    "from io import StringIO\n",
    "\n",
    "def csv_string_to_list(csv_string):\n",
    "    # Create a StringIO object to simulate a file-like object\n",
    "    csv_file = StringIO(csv_string)\n",
    "\n",
    "    # Initialize a CSV reader\n",
    "    csv_reader = csv.reader(csv_file)\n",
    "\n",
    "    # Read the CSV data into a list of lists\n",
    "    data = [row for row in csv_reader]\n",
    "\n",
    "    return data\n",
    "\n",
    "# Example usage:\n",
    "csv_string = \"1,John,Doe\\n2,Jane,Smith\\n3,Bob,Johnson\"\n",
    "csv_data = csv_string_to_list(csv_string)\n",
    "for row in csv_data:\n",
    "    print(row)\n"
   ]
  },
  {
   "cell_type": "code",
   "execution_count": null,
   "id": "f677f6f2-4d62-46ef-9eef-7e83241bf88d",
   "metadata": {},
   "outputs": [],
   "source": []
  },
  {
   "cell_type": "raw",
   "id": "76c51454-12aa-41aa-97da-9d750e6ac353",
   "metadata": {},
   "source": [
    "List Based Practice Problem :"
   ]
  },
  {
   "cell_type": "markdown",
   "id": "e1d03445-f7cc-405b-8244-4448a2070beb",
   "metadata": {},
   "source": [
    "1. Create a list with integers from 1 to 10."
   ]
  },
  {
   "cell_type": "markdown",
   "id": "d0139a91-392f-4636-bb96-0ecd10929d50",
   "metadata": {},
   "source": [
    "Ans."
   ]
  },
  {
   "cell_type": "code",
   "execution_count": 5,
   "id": "52bc871b-304d-4edd-b066-30124c054a7f",
   "metadata": {},
   "outputs": [
    {
     "name": "stdout",
     "output_type": "stream",
     "text": [
      "[1, 2, 3, 4, 5, 6, 7, 8, 9, 10]\n"
     ]
    }
   ],
   "source": [
    "my_list = []\n",
    "for i in range(1, 11):\n",
    "    my_list.append(i)\n",
    "print(my_list)\n"
   ]
  },
  {
   "cell_type": "code",
   "execution_count": null,
   "id": "7df5b84c-62d2-4aa7-b44a-664a6bf9c105",
   "metadata": {},
   "outputs": [],
   "source": []
  },
  {
   "cell_type": "markdown",
   "id": "671c1292-871e-4ec7-834e-7066427555df",
   "metadata": {},
   "source": [
    "2. Find the length of a list without using the `len()` function."
   ]
  },
  {
   "cell_type": "markdown",
   "id": "6dcff0ed-bd3b-4833-b10e-c121987b5d67",
   "metadata": {},
   "source": [
    "Ans."
   ]
  },
  {
   "cell_type": "code",
   "execution_count": 7,
   "id": "a0f86ed4-49d4-4572-aa0e-5cb94162cc7d",
   "metadata": {},
   "outputs": [
    {
     "name": "stdout",
     "output_type": "stream",
     "text": [
      "The length of the list is: 10\n"
     ]
    }
   ],
   "source": [
    "def find_list_length(my_list):\n",
    "    length = 0\n",
    "    for _ in my_list:\n",
    "        length += 1\n",
    "    return length\n",
    "\n",
    "# Example usage:\n",
    "my_list = [1, 2, 3, 4, 5, 6, 7, 8, 9, 10]\n",
    "length = find_list_length(my_list)\n",
    "print(\"The length of the list is:\", length)\n"
   ]
  },
  {
   "cell_type": "code",
   "execution_count": null,
   "id": "1da8d032-8f6c-4d4f-b19a-e52af1b3d18a",
   "metadata": {},
   "outputs": [],
   "source": []
  },
  {
   "cell_type": "markdown",
   "id": "7bc0da65-6ab6-46fc-b888-94ac771a7685",
   "metadata": {},
   "source": [
    "3. Append an element to the end of a list."
   ]
  },
  {
   "cell_type": "markdown",
   "id": "167c9dd0-a314-43f3-b6c8-b3a441cbaa1e",
   "metadata": {},
   "source": [
    "Ans."
   ]
  },
  {
   "cell_type": "code",
   "execution_count": 8,
   "id": "ac75c6df-f0fb-4c3d-ac1b-c7915105b622",
   "metadata": {},
   "outputs": [
    {
     "name": "stdout",
     "output_type": "stream",
     "text": [
      "[1, 2, 3, 4, 5, 6]\n"
     ]
    }
   ],
   "source": [
    "my_list = [1, 2, 3, 4, 5]\n",
    "element_to_append = 6\n",
    "my_list.append(element_to_append)\n",
    "print(my_list)\n"
   ]
  },
  {
   "cell_type": "code",
   "execution_count": null,
   "id": "8f551734-2d86-4519-a91e-c0ca0f30eca0",
   "metadata": {},
   "outputs": [],
   "source": []
  },
  {
   "cell_type": "markdown",
   "id": "f45051ea-23a6-4237-8c94-31e06fb2679b",
   "metadata": {},
   "source": [
    "4. Insert an element at a specific index in a list."
   ]
  },
  {
   "cell_type": "markdown",
   "id": "f06273c7-e920-4adf-9d01-291c36b9669c",
   "metadata": {},
   "source": [
    "Ans."
   ]
  },
  {
   "cell_type": "code",
   "execution_count": 10,
   "id": "89d968ff-4080-4cc9-9da5-35ff14e11c7a",
   "metadata": {},
   "outputs": [
    {
     "name": "stdout",
     "output_type": "stream",
     "text": [
      "[1, 2, 6, 3, 4, 5]\n"
     ]
    }
   ],
   "source": [
    "my_list = [1, 2, 3, 4, 5]\n",
    "element_to_insert = 6\n",
    "index_to_insert = 2  # The index at which you want to insert the element\n",
    "\n",
    "my_list.insert(index_to_insert, element_to_insert)\n",
    "print(my_list)\n"
   ]
  },
  {
   "cell_type": "code",
   "execution_count": null,
   "id": "41404b1f-114c-4c1c-bfed-96719790b521",
   "metadata": {},
   "outputs": [],
   "source": []
  },
  {
   "cell_type": "markdown",
   "id": "09e34ce8-4d17-4948-af3e-6af385ca7622",
   "metadata": {},
   "source": [
    "5. Remove an element from a list by its value."
   ]
  },
  {
   "cell_type": "markdown",
   "id": "0b7d17ed-1a68-4c1a-8f6f-bb03ae56f3de",
   "metadata": {},
   "source": [
    "Ans."
   ]
  },
  {
   "cell_type": "code",
   "execution_count": null,
   "id": "9c7b0c42-ece7-4761-8c92-3076d86606dc",
   "metadata": {},
   "outputs": [],
   "source": [
    "my_list = [1, 2, 3, 4, 5]\n",
    "element_to_remove = 3  # The element you want to remove"
   ]
  },
  {
   "cell_type": "code",
   "execution_count": null,
   "id": "7b1897fd-6366-44d0-b024-89829ae1dadd",
   "metadata": {},
   "outputs": [],
   "source": [
    "if element_to_remove in my_list:\n",
    "    my_list.remove(element_to_remove)\n",
    "    print(\"Element removed:\", element_to_remove)\n",
    "else:\n",
    "    print(\"Element not found in the list.\")\n"
   ]
  },
  {
   "cell_type": "code",
   "execution_count": 11,
   "id": "d4e42e05-ff06-4e8b-a9e2-d14a149b8a1e",
   "metadata": {},
   "outputs": [
    {
     "name": "stdout",
     "output_type": "stream",
     "text": [
      "[1, 2, 6, 3, 4, 5]\n"
     ]
    }
   ],
   "source": [
    "print(my_list)\n"
   ]
  },
  {
   "cell_type": "code",
   "execution_count": null,
   "id": "3df79a72-1988-46c6-8732-abff4dc471b2",
   "metadata": {},
   "outputs": [],
   "source": []
  },
  {
   "cell_type": "markdown",
   "id": "ad3093d2-df00-421e-973e-43735c8f19c5",
   "metadata": {},
   "source": [
    "6. Remove an element from a list by its index."
   ]
  },
  {
   "cell_type": "markdown",
   "id": "792e2a7a-7761-4882-9536-d5dca3115b6f",
   "metadata": {},
   "source": [
    "Ans."
   ]
  },
  {
   "cell_type": "code",
   "execution_count": null,
   "id": "2227abde-5904-43e5-a6ef-7e40157b5575",
   "metadata": {},
   "outputs": [],
   "source": [
    "my_list = [1, 2, 3, 4, 5]\n",
    "index_to_remove = 2  # The index of the element you want to remove\n",
    "\n",
    "if 0 <= index_to_remove < len(my_list):\n",
    "    my_list = my_list[:index_to_remove] + my_list[index_to_remove + 1:]\n",
    "    print(my_list)\n",
    "else:\n",
    "    print(\"Index is out of bounds.\")\n"
   ]
  },
  {
   "cell_type": "code",
   "execution_count": null,
   "id": "192936e2-2da0-4a4b-b87c-1e3c637f1ba1",
   "metadata": {},
   "outputs": [],
   "source": []
  },
  {
   "cell_type": "markdown",
   "id": "558ac17c-30de-4348-aa9b-e893d2f1bf34",
   "metadata": {},
   "source": [
    "7. Check if an element exists in a list."
   ]
  },
  {
   "cell_type": "markdown",
   "id": "46c1122f-ea5e-4958-9ca3-5ba849822e2a",
   "metadata": {},
   "source": [
    "Ans."
   ]
  },
  {
   "cell_type": "code",
   "execution_count": 13,
   "id": "ab3297e4-2e76-4d40-9568-bdac4cecbf06",
   "metadata": {},
   "outputs": [],
   "source": [
    "def element_exists(my_list, element_to_check):\n",
    "    for item in my_list:\n",
    "        if item == element_to_check:\n",
    "            return True\n",
    "    return False\n",
    "\n"
   ]
  },
  {
   "cell_type": "code",
   "execution_count": 14,
   "id": "e26e0882-4230-4a08-a5b6-54c74617a9be",
   "metadata": {},
   "outputs": [
    {
     "name": "stdout",
     "output_type": "stream",
     "text": [
      "Element 3 exists in the list.\n"
     ]
    }
   ],
   "source": [
    "my_list = [1, 2, 3, 4, 5]\n",
    "element_to_check = 3\n",
    "\n",
    "if element_exists(my_list, element_to_check):\n",
    "    print(\"Element\", element_to_check, \"exists in the list.\")\n",
    "else:\n",
    "    print(\"Element\", element_to_check, \"does not exist in the list.\")\n"
   ]
  },
  {
   "cell_type": "code",
   "execution_count": null,
   "id": "9f89e2e2-1995-41fd-bfdd-550304b64f37",
   "metadata": {},
   "outputs": [],
   "source": []
  },
  {
   "cell_type": "markdown",
   "id": "39c8b643-a381-4455-90da-ad7a68020948",
   "metadata": {},
   "source": [
    "8. Find the index of the first occurrence of an element in a list."
   ]
  },
  {
   "cell_type": "markdown",
   "id": "3e531bdf-78c5-45db-b0dc-7ff7bea2a8d0",
   "metadata": {},
   "source": [
    "Ans."
   ]
  },
  {
   "cell_type": "code",
   "execution_count": 15,
   "id": "eff12b6b-419e-497e-afc5-d52d41a4f1c3",
   "metadata": {},
   "outputs": [
    {
     "name": "stdout",
     "output_type": "stream",
     "text": [
      "The first occurrence of 3 is at index: 2\n"
     ]
    }
   ],
   "source": [
    "my_list = [1, 2, 3, 4, 5, 3]\n",
    "element_to_find = 3\n",
    "\n",
    "if element_to_find in my_list:\n",
    "    index = my_list.index(element_to_find)\n",
    "    print(\"The first occurrence of\", element_to_find, \"is at index:\", index)\n",
    "else:\n",
    "    print(\"Element not found in the list.\")\n"
   ]
  },
  {
   "cell_type": "code",
   "execution_count": null,
   "id": "311d77f9-3d69-4c5d-a03b-1309e56f3e73",
   "metadata": {},
   "outputs": [],
   "source": []
  },
  {
   "cell_type": "markdown",
   "id": "ead648d5-da10-4a9e-8e37-9639a0731e05",
   "metadata": {},
   "source": [
    "9. Count the occurrences of an element in a list."
   ]
  },
  {
   "cell_type": "markdown",
   "id": "97ff5cdd-3a23-4b95-ad41-7ccc51ef3fea",
   "metadata": {},
   "source": [
    "Ans."
   ]
  },
  {
   "cell_type": "code",
   "execution_count": 16,
   "id": "d503d15b-957b-4a2c-95d3-d535b08bbfcb",
   "metadata": {},
   "outputs": [
    {
     "name": "stdout",
     "output_type": "stream",
     "text": [
      "The element 3 appears 2 times in the list.\n"
     ]
    }
   ],
   "source": [
    "my_list = [1, 2, 3, 4, 5, 3]\n",
    "element_to_count = 3\n",
    "\n",
    "count = my_list.count(element_to_count)\n",
    "print(\"The element\", element_to_count, \"appears\", count, \"times in the list.\")\n"
   ]
  },
  {
   "cell_type": "code",
   "execution_count": null,
   "id": "ce4ff824-ff94-4a39-831f-4158dcd4d3f5",
   "metadata": {},
   "outputs": [],
   "source": []
  },
  {
   "cell_type": "markdown",
   "id": "53069aa2-2e01-485d-bc40-01e42b316f0d",
   "metadata": {},
   "source": [
    "10. Reverse the order of elements in a list."
   ]
  },
  {
   "cell_type": "markdown",
   "id": "965b87d0-5fca-479a-bb96-962a000facac",
   "metadata": {},
   "source": [
    "Ans."
   ]
  },
  {
   "cell_type": "code",
   "execution_count": 17,
   "id": "2895f645-cde8-4f5b-9750-341d2cd1f4a2",
   "metadata": {},
   "outputs": [
    {
     "name": "stdout",
     "output_type": "stream",
     "text": [
      "[5, 4, 3, 2, 1]\n"
     ]
    }
   ],
   "source": [
    "my_list = [1, 2, 3, 4, 5]\n",
    "reversed_list = my_list[::-1]\n",
    "print(reversed_list)\n"
   ]
  },
  {
   "cell_type": "code",
   "execution_count": null,
   "id": "26f27a13-4449-4e36-907b-e9fc62e8a8ce",
   "metadata": {},
   "outputs": [],
   "source": []
  },
  {
   "cell_type": "markdown",
   "id": "df627a07-5106-4766-89a1-68948bcb3bc0",
   "metadata": {},
   "source": [
    "11. Sort a list in ascending order."
   ]
  },
  {
   "cell_type": "markdown",
   "id": "ab212d11-1566-41c9-8a11-ca1fb7927acb",
   "metadata": {},
   "source": [
    "Ans."
   ]
  },
  {
   "cell_type": "code",
   "execution_count": 18,
   "id": "e0989501-9a7b-40b1-977c-b35a1afb6cb9",
   "metadata": {},
   "outputs": [
    {
     "name": "stdout",
     "output_type": "stream",
     "text": [
      "[1, 2, 3, 4, 5]\n"
     ]
    }
   ],
   "source": [
    "my_list = [5, 1, 3, 2, 4]\n",
    "sorted_list = sorted(my_list)\n",
    "print(sorted_list)\n"
   ]
  },
  {
   "cell_type": "code",
   "execution_count": null,
   "id": "1d115239-e64c-403c-a55b-0814b6372b82",
   "metadata": {},
   "outputs": [],
   "source": []
  },
  {
   "cell_type": "markdown",
   "id": "646b9777-267e-447f-84da-af32dd186914",
   "metadata": {},
   "source": [
    "12. Sort a list in descending order."
   ]
  },
  {
   "cell_type": "markdown",
   "id": "b37ee6e4-46b0-4518-b4f2-7cdfa18e85b5",
   "metadata": {},
   "source": [
    "Ans."
   ]
  },
  {
   "cell_type": "code",
   "execution_count": 19,
   "id": "dbf33a9e-a522-45e8-b0d7-4e34d908e0af",
   "metadata": {},
   "outputs": [
    {
     "name": "stdout",
     "output_type": "stream",
     "text": [
      "[5, 4, 3, 2, 1]\n"
     ]
    }
   ],
   "source": [
    "my_list = [5, 1, 3, 2, 4]\n",
    "sorted_list = sorted(my_list, reverse=True)\n",
    "print(sorted_list)\n"
   ]
  },
  {
   "cell_type": "code",
   "execution_count": null,
   "id": "0568a0a8-04e8-49d2-a34c-fcf49309a573",
   "metadata": {},
   "outputs": [],
   "source": []
  },
  {
   "cell_type": "markdown",
   "id": "e3efe61b-cb35-44eb-b135-8807ea37093b",
   "metadata": {},
   "source": [
    "13. Create a list of even numbers from 1 to 20.\n"
   ]
  },
  {
   "cell_type": "markdown",
   "id": "b9ce8f86-b02b-47b9-b6a4-c84e9cb808ac",
   "metadata": {},
   "source": [
    "Ans."
   ]
  },
  {
   "cell_type": "code",
   "execution_count": 20,
   "id": "a74f5b54-bb42-4a49-a845-ab30d79bc2d9",
   "metadata": {},
   "outputs": [
    {
     "name": "stdout",
     "output_type": "stream",
     "text": [
      "[2, 4, 6, 8, 10, 12, 14, 16, 18, 20]\n"
     ]
    }
   ],
   "source": [
    "even_numbers = [i for i in range(2, 21, 2)]\n",
    "print(even_numbers)\n"
   ]
  },
  {
   "cell_type": "code",
   "execution_count": null,
   "id": "0ffe6f71-7a99-490a-b91a-62af268b2429",
   "metadata": {},
   "outputs": [],
   "source": []
  },
  {
   "cell_type": "markdown",
   "id": "99f8f26f-7266-4396-ad21-ca93c90e2040",
   "metadata": {},
   "source": [
    "14. Create a list of odd numbers from 1 to 20."
   ]
  },
  {
   "cell_type": "markdown",
   "id": "db80fabb-0c37-4208-964e-556bb9174467",
   "metadata": {},
   "source": [
    "Ans."
   ]
  },
  {
   "cell_type": "code",
   "execution_count": 21,
   "id": "4287e23b-b649-4ce0-82c4-e6ec223613bc",
   "metadata": {},
   "outputs": [
    {
     "name": "stdout",
     "output_type": "stream",
     "text": [
      "[1, 3, 5, 7, 9, 11, 13, 15, 17, 19]\n"
     ]
    }
   ],
   "source": [
    "odd_numbers = [i for i in range(1, 21) if i % 2 != 0]\n",
    "print(odd_numbers)\n",
    "\n"
   ]
  },
  {
   "cell_type": "code",
   "execution_count": null,
   "id": "4143a95d-4a1d-4b31-83d2-e95a074049a8",
   "metadata": {},
   "outputs": [],
   "source": []
  },
  {
   "cell_type": "markdown",
   "id": "0331ccc9-e7cd-49db-bc03-1145f754128a",
   "metadata": {},
   "source": [
    "15. Find the sum of all elements in a list."
   ]
  },
  {
   "cell_type": "markdown",
   "id": "900149f9-1737-4895-a515-c33bef38e795",
   "metadata": {},
   "source": [
    "Ans."
   ]
  },
  {
   "cell_type": "code",
   "execution_count": 22,
   "id": "d6861867-ca4d-4385-992e-6ad3e0b6eab5",
   "metadata": {},
   "outputs": [
    {
     "name": "stdout",
     "output_type": "stream",
     "text": [
      "The sum of all elements in the list is: 15\n"
     ]
    }
   ],
   "source": [
    "my_list = [1, 2, 3, 4, 5]\n",
    "total_sum = sum(my_list)\n",
    "print(\"The sum of all elements in the list is:\", total_sum)\n"
   ]
  },
  {
   "cell_type": "code",
   "execution_count": null,
   "id": "24cf55ef-db58-45a5-b88e-7ce27f01bde8",
   "metadata": {},
   "outputs": [],
   "source": []
  },
  {
   "cell_type": "markdown",
   "id": "5734843e-dd67-4b24-a1e0-7fb7c44211b5",
   "metadata": {},
   "source": [
    "16. Find the maximum value in a list."
   ]
  },
  {
   "cell_type": "markdown",
   "id": "9cb8d5a5-e3a9-4454-8c28-497d32a5d597",
   "metadata": {},
   "source": [
    "Ans."
   ]
  },
  {
   "cell_type": "code",
   "execution_count": 23,
   "id": "70c45876-cdb5-4cfb-9153-bb7a27403277",
   "metadata": {},
   "outputs": [
    {
     "name": "stdout",
     "output_type": "stream",
     "text": [
      "The maximum value in the list is: 9\n"
     ]
    }
   ],
   "source": [
    "my_list = [4, 7, 1, 9, 3, 6]\n",
    "max_value = max(my_list)\n",
    "print(\"The maximum value in the list is:\", max_value)\n"
   ]
  },
  {
   "cell_type": "code",
   "execution_count": null,
   "id": "47c36bd2-e8f2-4f0a-8b86-7236f466aafc",
   "metadata": {},
   "outputs": [],
   "source": []
  },
  {
   "cell_type": "markdown",
   "id": "4efdaa51-87fd-4d9d-90f3-38eed653ce11",
   "metadata": {},
   "source": [
    "17. Find the minimum value in a list."
   ]
  },
  {
   "cell_type": "markdown",
   "id": "d3f0e7c7-29e7-4a48-9e3c-6ae393c334f9",
   "metadata": {},
   "source": [
    "Ans."
   ]
  },
  {
   "cell_type": "code",
   "execution_count": 24,
   "id": "ba8e2c2e-6846-4781-8fd5-1cf3287a1b5b",
   "metadata": {},
   "outputs": [
    {
     "name": "stdout",
     "output_type": "stream",
     "text": [
      "The minimum value in the list is: 1\n"
     ]
    }
   ],
   "source": [
    "my_list = [4, 7, 1, 9, 3, 6]\n",
    "min_value = min(my_list)\n",
    "print(\"The minimum value in the list is:\", min_value)\n"
   ]
  },
  {
   "cell_type": "code",
   "execution_count": null,
   "id": "24f23748-862a-4955-af4b-08a24d605a75",
   "metadata": {},
   "outputs": [],
   "source": []
  },
  {
   "cell_type": "markdown",
   "id": "493310be-8f48-40b3-8a6c-972e711cbc98",
   "metadata": {},
   "source": [
    "18. Create a list of squares of numbers from 1 to 10."
   ]
  },
  {
   "cell_type": "markdown",
   "id": "1989090a-d9c1-48fd-9839-9fb26a2de406",
   "metadata": {},
   "source": [
    "Ans."
   ]
  },
  {
   "cell_type": "code",
   "execution_count": 25,
   "id": "97f09e9c-2d01-49dd-94e0-3fe4e9cc0969",
   "metadata": {},
   "outputs": [
    {
     "name": "stdout",
     "output_type": "stream",
     "text": [
      "[1, 4, 9, 16, 25, 36, 49, 64, 81, 100]\n"
     ]
    }
   ],
   "source": [
    "squares = [i ** 2 for i in range(1, 11)]\n",
    "print(squares)\n"
   ]
  },
  {
   "cell_type": "code",
   "execution_count": null,
   "id": "e6908f47-6223-44c7-b91b-1c5133f737d5",
   "metadata": {},
   "outputs": [],
   "source": []
  },
  {
   "cell_type": "markdown",
   "id": "bb722ffa-a77a-4e46-a2b8-fb6eda3f11b1",
   "metadata": {},
   "source": [
    "19. Create a list of random num"
   ]
  },
  {
   "cell_type": "markdown",
   "id": "4d71cee8-dad6-4efa-b4bb-87de673dca4e",
   "metadata": {},
   "source": [
    "Ans."
   ]
  },
  {
   "cell_type": "code",
   "execution_count": 26,
   "id": "add04687-bcf3-4666-a95c-2c892cbabf56",
   "metadata": {},
   "outputs": [
    {
     "name": "stdout",
     "output_type": "stream",
     "text": [
      "[1083814273, 378494188, 2479403867, 955863294, 1613448261, 110225632, 1921058495, 508781842, 3753001289, 4271921684]\n"
     ]
    }
   ],
   "source": [
    "def custom_random(seed, n, a, c, m):\n",
    "    numbers = []\n",
    "    for _ in range(n):\n",
    "        seed = (a * seed + c) % m\n",
    "        numbers.append(seed)\n",
    "    return numbers\n",
    "\n",
    "# Parameters for the Linear Congruential Generator\n",
    "seed = 42\n",
    "n = 10  # Generate 10 random numbers\n",
    "a = 1664525\n",
    "c = 1013904223\n",
    "m = 2**32\n",
    "\n",
    "random_numbers = custom_random(seed, n, a, c, m)\n",
    "print(random_numbers)\n"
   ]
  },
  {
   "cell_type": "code",
   "execution_count": 27,
   "id": "3849c99d-0d15-4a25-9934-7b74ec44bf13",
   "metadata": {},
   "outputs": [
    {
     "name": "stdout",
     "output_type": "stream",
     "text": [
      "[35, 73, 72, 69, 90, 49, 40, 58, 36, 72]\n"
     ]
    }
   ],
   "source": [
    "import random\n",
    "\n",
    "# Generate a list of 10 random integers between 1 and 100\n",
    "random_numbers = [random.randint(1, 100) for _ in range(10)]\n",
    "print(random_numbers)\n"
   ]
  },
  {
   "cell_type": "code",
   "execution_count": null,
   "id": "4dca8718-caa7-4f9d-8d43-67ea2271f7e1",
   "metadata": {},
   "outputs": [],
   "source": []
  },
  {
   "cell_type": "markdown",
   "id": "d4158dcc-4a69-497a-bbe5-155fe9831c51",
   "metadata": {},
   "source": [
    "20. Remove duplicates from a list."
   ]
  },
  {
   "cell_type": "markdown",
   "id": "5baeea63-d8d9-4823-8d9e-f15acb389731",
   "metadata": {},
   "source": [
    "Ans."
   ]
  },
  {
   "cell_type": "code",
   "execution_count": null,
   "id": "b7ff5a37-3867-4ce0-892d-3244c562fc12",
   "metadata": {},
   "outputs": [],
   "source": [
    "original_list = [1, 2, 2, 3, 4, 4, 5]\n",
    "unique_list = list(set(original_list))\n",
    "print(unique_list)\n"
   ]
  },
  {
   "cell_type": "code",
   "execution_count": null,
   "id": "0c705fcd-e19b-4f7a-ae9d-3a294eb9f79b",
   "metadata": {},
   "outputs": [],
   "source": []
  },
  {
   "cell_type": "markdown",
   "id": "d15d33c9-eb89-4f56-abff-e4364b4b32aa",
   "metadata": {},
   "source": [
    "21. Find the common elements between two lists."
   ]
  },
  {
   "cell_type": "markdown",
   "id": "b519508c-90ba-43ad-83e6-01d352d2301a",
   "metadata": {},
   "source": [
    "Ans"
   ]
  },
  {
   "cell_type": "code",
   "execution_count": 28,
   "id": "74d58941-e472-4b5a-bebd-8215be14e48c",
   "metadata": {},
   "outputs": [
    {
     "name": "stdout",
     "output_type": "stream",
     "text": [
      "[3, 4, 5]\n"
     ]
    }
   ],
   "source": [
    "list1 = [1, 2, 3, 4, 5]\n",
    "list2 = [3, 4, 5, 6, 7]\n",
    "common_elements = []\n",
    "for item in list1:\n",
    "    if item in list2:\n",
    "        common_elements.append(item)\n",
    "print(common_elements)\n"
   ]
  },
  {
   "cell_type": "code",
   "execution_count": null,
   "id": "c65b4c14-48ee-4d55-8b55-b10c40823933",
   "metadata": {},
   "outputs": [],
   "source": []
  },
  {
   "cell_type": "markdown",
   "id": "6e7959bf-dd76-4681-99ad-cb5d00d3019f",
   "metadata": {},
   "source": [
    "22. Find the difference between two lists."
   ]
  },
  {
   "cell_type": "markdown",
   "id": "f8c631c3-5716-4d81-88a3-48bfc6a2225c",
   "metadata": {},
   "source": [
    "Ans."
   ]
  },
  {
   "cell_type": "code",
   "execution_count": 29,
   "id": "ab05a313-b780-4d4d-8588-43b228afbb95",
   "metadata": {},
   "outputs": [
    {
     "name": "stdout",
     "output_type": "stream",
     "text": [
      "[1, 2]\n"
     ]
    }
   ],
   "source": [
    "list1 = [1, 2, 3, 4, 5]\n",
    "list2 = [3, 4, 5, 6, 7]\n",
    "difference = list(set(list1).difference(list2))\n",
    "print(difference)\n"
   ]
  },
  {
   "cell_type": "code",
   "execution_count": null,
   "id": "80a7140a-e4cd-48d5-a45f-54d5eb0b7acc",
   "metadata": {},
   "outputs": [],
   "source": []
  },
  {
   "cell_type": "markdown",
   "id": "d81c0405-0284-4ea3-8b65-2b557917e300",
   "metadata": {},
   "source": [
    "23. Merge two lists."
   ]
  },
  {
   "cell_type": "markdown",
   "id": "b4c7b267-53c1-4980-b6d9-77020842675b",
   "metadata": {},
   "source": [
    "Ans."
   ]
  },
  {
   "cell_type": "code",
   "execution_count": 30,
   "id": "14374128-4726-4b8d-9e14-f94563d74a99",
   "metadata": {},
   "outputs": [
    {
     "name": "stdout",
     "output_type": "stream",
     "text": [
      "[1, 2, 3, 4, 5, 6]\n"
     ]
    }
   ],
   "source": [
    "list1 = [1, 2, 3]\n",
    "list2 = [4, 5, 6]\n",
    "merged_list = list1 + list2\n",
    "print(merged_list)\n"
   ]
  },
  {
   "cell_type": "code",
   "execution_count": null,
   "id": "1f003ecb-0f8a-4325-9e88-cd84ab1f8ab6",
   "metadata": {},
   "outputs": [],
   "source": []
  },
  {
   "cell_type": "markdown",
   "id": "80312af3-49cf-41bc-874e-869cd400d1b8",
   "metadata": {},
   "source": [
    "24. Multiply all elements in a list by 2."
   ]
  },
  {
   "cell_type": "markdown",
   "id": "e145c0f7-a775-4670-ac78-992bd1ca0569",
   "metadata": {},
   "source": [
    "Ans."
   ]
  },
  {
   "cell_type": "code",
   "execution_count": null,
   "id": "709122ba-9683-45a3-adf7-fcbf2616085e",
   "metadata": {},
   "outputs": [],
   "source": [
    "original_list = [1, 2, 3, 4, 5]\n",
    "for i in range(len(original_list)):\n",
    "    original_list[i] *= 2\n",
    "print(original_list)\n"
   ]
  },
  {
   "cell_type": "code",
   "execution_count": null,
   "id": "6543ab33-3e64-4da6-8cd3-7be119c7ec4a",
   "metadata": {},
   "outputs": [],
   "source": []
  },
  {
   "cell_type": "markdown",
   "id": "80b58883-1f0a-44d7-b964-d23a1e10f00f",
   "metadata": {},
   "source": [
    "25. Filter out all even numbers from a list."
   ]
  },
  {
   "cell_type": "markdown",
   "id": "14868e0f-fa48-4955-a01d-55a4f6837feb",
   "metadata": {},
   "source": [
    "Ans."
   ]
  },
  {
   "cell_type": "code",
   "execution_count": 2,
   "id": "4123c406-db3a-42e2-a5bc-cba54a2ecda8",
   "metadata": {},
   "outputs": [
    {
     "name": "stdout",
     "output_type": "stream",
     "text": [
      "[1, 3, 5, 7, 9]\n"
     ]
    }
   ],
   "source": [
    "original_list = [1, 2, 3, 4, 5, 6, 7, 8, 9]\n",
    "filtered_list = []\n",
    "for x in original_list:\n",
    "    if x % 2 != 0:\n",
    "        filtered_list.append(x)\n",
    "print(filtered_list)\n"
   ]
  },
  {
   "cell_type": "code",
   "execution_count": null,
   "id": "cc536bfb-1600-4e6a-94c9-1d20c0920bb4",
   "metadata": {},
   "outputs": [],
   "source": []
  },
  {
   "cell_type": "markdown",
   "id": "bf280059-32c9-4020-83e1-4f1106983394",
   "metadata": {},
   "source": [
    "26. Convert a list of strings to a list of integers."
   ]
  },
  {
   "cell_type": "markdown",
   "id": "004e6ba4-fa8b-41cf-a30f-112597d3ccc1",
   "metadata": {},
   "source": [
    "Ans."
   ]
  },
  {
   "cell_type": "code",
   "execution_count": 6,
   "id": "c850dd10-533b-4963-ad66-d6cf8ad0f9f4",
   "metadata": {},
   "outputs": [
    {
     "name": "stdout",
     "output_type": "stream",
     "text": [
      "[1, 2, 3, 4, 5]\n"
     ]
    }
   ],
   "source": [
    "string_list = [\"1\", \"2\", \"3\", \"4\", \"5\"]\n",
    "integer_list = list(map(int, string_list))\n",
    "print(integer_list)"
   ]
  },
  {
   "cell_type": "code",
   "execution_count": null,
   "id": "647b2aed-4bec-4faa-a9c3-0202e1276ead",
   "metadata": {},
   "outputs": [],
   "source": []
  },
  {
   "cell_type": "markdown",
   "id": "34ab7900-d6ef-45b8-9609-acde697456d9",
   "metadata": {},
   "source": [
    "27. Convert a list of integers to a list of strings."
   ]
  },
  {
   "cell_type": "markdown",
   "id": "769e8436-231d-4ef6-a7cd-f53c4b91ffed",
   "metadata": {},
   "source": [
    "Ans."
   ]
  },
  {
   "cell_type": "code",
   "execution_count": 5,
   "id": "ec7dfbcb-87c3-4601-86ac-fec7c1726438",
   "metadata": {},
   "outputs": [
    {
     "name": "stdout",
     "output_type": "stream",
     "text": [
      "['1', '2', '3', '4', '5']\n"
     ]
    }
   ],
   "source": [
    "integer_list = [1, 2, 3, 4, 5]\n",
    "string_list = [str(x) for x in integer_list]\n",
    "print(string_list)"
   ]
  },
  {
   "cell_type": "code",
   "execution_count": null,
   "id": "ca144c07-9310-40e5-8814-080c07245b1e",
   "metadata": {},
   "outputs": [],
   "source": []
  },
  {
   "cell_type": "markdown",
   "id": "53d4f737-f0d1-4710-af19-c5a81674a325",
   "metadata": {},
   "source": [
    "28. Flatten a nested list."
   ]
  },
  {
   "cell_type": "markdown",
   "id": "7df04a11-0947-41bf-9a4d-5ca7b7bc3e9e",
   "metadata": {},
   "source": [
    "Ans."
   ]
  },
  {
   "cell_type": "code",
   "execution_count": 7,
   "id": "b666c31a-f684-48a9-ace5-d96f552806d0",
   "metadata": {},
   "outputs": [
    {
     "name": "stdout",
     "output_type": "stream",
     "text": [
      "[1, 2, 3, 4, 5, 6, 7]\n"
     ]
    }
   ],
   "source": [
    "def flatten_list(nested_list):\n",
    "    flattened = []\n",
    "    for i in nested_list:\n",
    "        if isinstance(i, list):\n",
    "            flattened.extend(flatten_list(i))\n",
    "        else:\n",
    "            flattened.append(i)\n",
    "    return flattened\n",
    "\n",
    "nested_list = [1, [2, 3], [4, [5, 6]], 7]\n",
    "flattened_list = flatten_list(nested_list)\n",
    "print(flattened_list)\n"
   ]
  },
  {
   "cell_type": "code",
   "execution_count": null,
   "id": "1b2bbb29-81ff-4112-b00f-9f6787e10d2a",
   "metadata": {},
   "outputs": [],
   "source": []
  },
  {
   "cell_type": "markdown",
   "id": "d441eb17-95d8-4e7b-949a-c1b9cfb0d9bd",
   "metadata": {},
   "source": [
    "29. Create a list of the first 10 Fibonacci numbers."
   ]
  },
  {
   "cell_type": "markdown",
   "id": "e8008551-8c18-4244-b3ea-e077d4a10479",
   "metadata": {},
   "source": [
    "Ans."
   ]
  },
  {
   "cell_type": "code",
   "execution_count": 8,
   "id": "f9436b63-70d2-42ca-af90-559d3052d951",
   "metadata": {},
   "outputs": [
    {
     "name": "stdout",
     "output_type": "stream",
     "text": [
      "[0, 1, 1, 2, 3, 5, 8, 13, 21, 34]\n"
     ]
    }
   ],
   "source": [
    "# Function to generate the first 10 Fibonacci numbers\n",
    "def generate_fibonacci(n):\n",
    "    fibonacci_list = [0, 1]\n",
    "    while len(fibonacci_list) < n:\n",
    "        next_number = fibonacci_list[-1] + fibonacci_list[-2]\n",
    "        fibonacci_list.append(next_number)\n",
    "    return fibonacci_list\n",
    "\n",
    "# Generate the first 10 Fibonacci numbers\n",
    "first_10_fibonacci = generate_fibonacci(10)\n",
    "\n",
    "# Print the list\n",
    "print(first_10_fibonacci)\n"
   ]
  },
  {
   "cell_type": "code",
   "execution_count": null,
   "id": "725b3930-e1ba-4682-beef-ba185cc04bd5",
   "metadata": {},
   "outputs": [],
   "source": []
  },
  {
   "cell_type": "markdown",
   "id": "012840bb-0d56-4c4b-b8a8-511eba87d069",
   "metadata": {},
   "source": [
    "30. Check if a list is sorted."
   ]
  },
  {
   "cell_type": "markdown",
   "id": "3b361789-ac4e-4b65-bd97-77f3def7aaf0",
   "metadata": {},
   "source": [
    "Ans."
   ]
  },
  {
   "cell_type": "code",
   "execution_count": 9,
   "id": "b9b80140-da58-4121-8f3e-61ac2658d326",
   "metadata": {},
   "outputs": [
    {
     "name": "stdout",
     "output_type": "stream",
     "text": [
      "The list is sorted.\n"
     ]
    }
   ],
   "source": [
    "def is_sorted(input_list):\n",
    "    for i in range(len(input_list) - 1):\n",
    "        if input_list[i] > input_list[i + 1]:\n",
    "            return False\n",
    "    return True\n",
    "\n",
    "# Example usage:\n",
    "my_list = [1, 2, 3, 4, 5]\n",
    "if is_sorted(my_list):\n",
    "    print(\"The list is sorted.\")\n",
    "else:\n",
    "    print(\"The list is not sorted.\")\n"
   ]
  },
  {
   "cell_type": "code",
   "execution_count": null,
   "id": "71740146-af47-415a-9019-1407ec006bb8",
   "metadata": {},
   "outputs": [],
   "source": []
  },
  {
   "cell_type": "markdown",
   "id": "32c3ca9d-377e-47d6-9f05-e35427caa032",
   "metadata": {},
   "source": [
    "31. Rotate a list to the left by `n` positions."
   ]
  },
  {
   "cell_type": "markdown",
   "id": "2c1cfd63-2f9a-4ead-a83b-99a4771265c4",
   "metadata": {},
   "source": [
    "Ans."
   ]
  },
  {
   "cell_type": "code",
   "execution_count": 10,
   "id": "5967b62c-cc83-4edd-9f94-6f760551ad7f",
   "metadata": {},
   "outputs": [
    {
     "name": "stdout",
     "output_type": "stream",
     "text": [
      "[3, 4, 5, 1, 2]\n"
     ]
    }
   ],
   "source": [
    "def rotate_left(lst, n):\n",
    "    if not lst:\n",
    "        return lst  # If the list is empty, return it as it is\n",
    "\n",
    "    n = n % len(lst)  # Ensure n is within the length of the list\n",
    "    return lst[n:] + lst[:n]\n",
    "\n",
    "# Example usage:\n",
    "my_list = [1, 2, 3, 4, 5]\n",
    "n = 2  # Number of positions to rotate left\n",
    "rotated_list = rotate_left(my_list, n)\n",
    "print(rotated_list)\n"
   ]
  },
  {
   "cell_type": "code",
   "execution_count": null,
   "id": "d14329f6-257c-41b0-9a1a-1fe6d05a2a8c",
   "metadata": {},
   "outputs": [],
   "source": []
  },
  {
   "cell_type": "markdown",
   "id": "c7d1b041-0c86-4052-9134-eb209afbff6f",
   "metadata": {},
   "source": [
    "32. Rotate a list to the right by `n` positions."
   ]
  },
  {
   "cell_type": "markdown",
   "id": "7d94b7e3-ca39-4241-8013-ad19bae1e126",
   "metadata": {},
   "source": [
    "Ans."
   ]
  },
  {
   "cell_type": "code",
   "execution_count": 11,
   "id": "10d35a57-2fba-4648-8718-ae15cb891c8f",
   "metadata": {},
   "outputs": [
    {
     "name": "stdout",
     "output_type": "stream",
     "text": [
      "[4, 5, 1, 2, 3]\n"
     ]
    }
   ],
   "source": [
    "def rotate_right(lst, n):\n",
    "    if not lst:\n",
    "        return lst  # If the list is empty, return it as it is\n",
    "\n",
    "    n = n % len(lst)  # Ensure n is within the length of the list\n",
    "    return lst[-n:] + lst[:-n]\n",
    "\n",
    "# Example usage:\n",
    "my_list = [1, 2, 3, 4, 5]\n",
    "n = 2  # Number of positions to rotate right\n",
    "rotated_list = rotate_right(my_list, n)\n",
    "print(rotated_list)\n"
   ]
  },
  {
   "cell_type": "code",
   "execution_count": null,
   "id": "b5b03dad-331f-4b14-96d6-69809cfec373",
   "metadata": {},
   "outputs": [],
   "source": []
  },
  {
   "cell_type": "markdown",
   "id": "b2f033b7-93a1-478c-ab21-fd4519a74ad8",
   "metadata": {},
   "source": [
    "33. Create a list of prime numbers up to 50."
   ]
  },
  {
   "cell_type": "markdown",
   "id": "3ec28173-f852-4646-a76b-d5886e0e4614",
   "metadata": {},
   "source": [
    "Ans."
   ]
  },
  {
   "cell_type": "code",
   "execution_count": 12,
   "id": "41ccb17b-fdd7-4c90-b068-aff3f5a1a65d",
   "metadata": {},
   "outputs": [
    {
     "name": "stdout",
     "output_type": "stream",
     "text": [
      "[2, 3, 5, 7, 11, 13, 17, 19, 23, 29, 31, 37, 41, 43, 47]\n"
     ]
    }
   ],
   "source": [
    "def is_prime(num):\n",
    "    if num <= 1:\n",
    "        return False\n",
    "    if num <= 3:\n",
    "        return True\n",
    "    if num % 2 == 0 or num % 3 == 0:\n",
    "        return False\n",
    "    i = 5\n",
    "    while i * i <= num:\n",
    "        if num % i == 0 or num % (i + 2) == 0:\n",
    "            return False\n",
    "        i += 6\n",
    "    return True\n",
    "\n",
    "def generate_primes_up_to_n(n):\n",
    "    prime_list = [2, 3]\n",
    "    for num in range(5, n + 1, 6):\n",
    "        if is_prime(num):\n",
    "            prime_list.append(num)\n",
    "        if is_prime(num + 2):\n",
    "            prime_list.append(num + 2)\n",
    "    return prime_list\n",
    "\n",
    "# Generate prime numbers up to 50\n",
    "primes_up_to_50 = generate_primes_up_to_n(50)\n",
    "\n",
    "print(primes_up_to_50)\n"
   ]
  },
  {
   "cell_type": "code",
   "execution_count": null,
   "id": "654856b8-2b3d-4452-beca-ba5df14db0c7",
   "metadata": {},
   "outputs": [],
   "source": []
  },
  {
   "cell_type": "markdown",
   "id": "6b377c36-4673-45f8-90f2-839948ef2973",
   "metadata": {},
   "source": [
    "34. Split a list into chunks of size `n`."
   ]
  },
  {
   "cell_type": "markdown",
   "id": "64684d8e-98d1-4a95-85f1-a45d8cf6650d",
   "metadata": {},
   "source": [
    "Ans."
   ]
  },
  {
   "cell_type": "code",
   "execution_count": 13,
   "id": "6be98b2d-6579-485f-97f8-1e854a94eeb3",
   "metadata": {},
   "outputs": [
    {
     "name": "stdout",
     "output_type": "stream",
     "text": [
      "[[1, 2, 3], [4, 5, 6], [7, 8, 9]]\n"
     ]
    }
   ],
   "source": [
    "def split_list_into_chunks(input_list, chunk_size):\n",
    "    return [input_list[i:i + chunk_size] for i in range(0, len(input_list), chunk_size)]\n",
    "\n",
    "# Example usage:\n",
    "my_list = [1, 2, 3, 4, 5, 6, 7, 8, 9]\n",
    "chunk_size = 3\n",
    "chunks = split_list_into_chunks(my_list, chunk_size)\n",
    "print(chunks)\n"
   ]
  },
  {
   "cell_type": "code",
   "execution_count": null,
   "id": "b0dcdc94-7463-4452-b763-179a804f93c5",
   "metadata": {},
   "outputs": [],
   "source": []
  },
  {
   "cell_type": "markdown",
   "id": "5c09ea25-644c-4cc4-a1de-a0b89607538e",
   "metadata": {},
   "source": [
    "35. Find the second largest number in a list."
   ]
  },
  {
   "cell_type": "markdown",
   "id": "a66accf0-8a27-4261-a251-c2ca0f11814d",
   "metadata": {},
   "source": [
    "Ans."
   ]
  },
  {
   "cell_type": "code",
   "execution_count": 15,
   "id": "99c81dce-9a46-4d13-9cba-591ca365ec85",
   "metadata": {},
   "outputs": [],
   "source": [
    "def find_second_largest(numbers):\n",
    "    if len(numbers) < 2:\n",
    "        return None  # There is no second largest number in a list with less than two elements\n",
    "\n",
    "    largest = second_largest = float('-inf')  # Initialize both largest and second largest to negative infinity\n",
    "\n",
    "    for num in numbers:\n",
    "        if num > largest:\n",
    "            second_largest = largest\n",
    "            largest = num\n",
    "        elif num > second_largest and num != largest:\n",
    "            second_largest = num\n",
    "\n",
    "    return second_largest"
   ]
  },
  {
   "cell_type": "code",
   "execution_count": 16,
   "id": "7e488473-76ca-491a-973d-9e79b684b6d2",
   "metadata": {},
   "outputs": [
    {
     "name": "stdout",
     "output_type": "stream",
     "text": [
      "The second largest number is: 8\n"
     ]
    }
   ],
   "source": [
    "\n",
    "my_list = [4, 2, 9, 7, 5, 8]\n",
    "second_largest = find_second_largest(my_list)\n",
    "if second_largest is not None:\n",
    "    print(\"The second largest number is:\", second_largest)\n",
    "else:\n",
    "    print(\"There is no second largest number in the list.\")\n"
   ]
  },
  {
   "cell_type": "code",
   "execution_count": null,
   "id": "bbd65106-5c28-4c11-9ca3-e083c2eab6e3",
   "metadata": {},
   "outputs": [],
   "source": []
  },
  {
   "cell_type": "markdown",
   "id": "03671feb-c927-4739-8a02-0f078b3bcaae",
   "metadata": {},
   "source": [
    "36. Replace every element in a list with its square."
   ]
  },
  {
   "cell_type": "markdown",
   "id": "f398a551-d667-4b72-88ba-08767b5e8f84",
   "metadata": {},
   "source": [
    "Ans."
   ]
  },
  {
   "cell_type": "code",
   "execution_count": 17,
   "id": "e8a034ba-d89a-4312-8d80-f6ae8e06a18d",
   "metadata": {},
   "outputs": [
    {
     "name": "stdout",
     "output_type": "stream",
     "text": [
      "[1, 4, 9, 16, 25]\n"
     ]
    }
   ],
   "source": [
    "original_list = [1, 2, 3, 4, 5]\n",
    "\n",
    "squared_list = [x ** 2 for x in original_list]\n",
    "\n",
    "print(squared_list)\n"
   ]
  },
  {
   "cell_type": "code",
   "execution_count": null,
   "id": "6b2fd5f9-3879-41f0-9c6d-ee3ac57d1761",
   "metadata": {},
   "outputs": [],
   "source": []
  },
  {
   "cell_type": "markdown",
   "id": "975d63d3-68c9-4cb2-ab3f-035a367ae61e",
   "metadata": {},
   "source": [
    "37. Convert a list to a dictionary where list elements become keys and their\n",
    "indices become values."
   ]
  },
  {
   "cell_type": "markdown",
   "id": "76aa2ff3-d717-4d94-afd1-062d58080451",
   "metadata": {},
   "source": [
    "Ans."
   ]
  },
  {
   "cell_type": "code",
   "execution_count": 18,
   "id": "f27343a8-f864-409c-b763-58034af4d0b8",
   "metadata": {},
   "outputs": [
    {
     "name": "stdout",
     "output_type": "stream",
     "text": [
      "{'apple': 0, 'banana': 1, 'cherry': 2, 'date': 3}\n"
     ]
    }
   ],
   "source": [
    "my_list = [\"apple\", \"banana\", \"cherry\", \"date\"]\n",
    "\n",
    "my_dict = {element: index for index, element in enumerate(my_list)}\n",
    "\n",
    "print(my_dict)\n"
   ]
  },
  {
   "cell_type": "code",
   "execution_count": null,
   "id": "6b659aea-614d-48a6-8926-26093d426dcc",
   "metadata": {},
   "outputs": [],
   "source": []
  },
  {
   "cell_type": "markdown",
   "id": "3e70ac70-0375-4881-898c-45005e9cd90d",
   "metadata": {},
   "source": [
    "38. Shuffle the elements of a list randomly."
   ]
  },
  {
   "cell_type": "markdown",
   "id": "baed1c00-4a4b-42c3-85cc-72b171a80093",
   "metadata": {},
   "source": [
    "Ans."
   ]
  },
  {
   "cell_type": "code",
   "execution_count": 19,
   "id": "9389d62a-d11c-45e6-8a31-4ef1180ea390",
   "metadata": {},
   "outputs": [
    {
     "name": "stdout",
     "output_type": "stream",
     "text": [
      "[1, 4, 2, 3, 5]\n"
     ]
    }
   ],
   "source": [
    "import random\n",
    "\n",
    "my_list = [1, 2, 3, 4, 5]\n",
    "\n",
    "# Shuffle the list randomly\n",
    "random.shuffle(my_list)\n",
    "\n",
    "print(my_list)\n"
   ]
  },
  {
   "cell_type": "code",
   "execution_count": null,
   "id": "f71a0a59-e899-432b-85ed-2c78928ce7a5",
   "metadata": {},
   "outputs": [],
   "source": []
  },
  {
   "cell_type": "markdown",
   "id": "37e5459f-d6c0-4329-a45c-be4be3b2797e",
   "metadata": {},
   "source": [
    "39. Create a list of the first 10 factorial numbers."
   ]
  },
  {
   "cell_type": "markdown",
   "id": "07efa013-1bcd-4e1c-aed5-4669ea7794b7",
   "metadata": {},
   "source": [
    "Ans."
   ]
  },
  {
   "cell_type": "code",
   "execution_count": 20,
   "id": "dd319992-a6a1-4384-b5bf-2378b1db909f",
   "metadata": {},
   "outputs": [
    {
     "name": "stdout",
     "output_type": "stream",
     "text": [
      "[1, 1, 2, 6, 24, 120, 720, 5040, 40320, 362880]\n"
     ]
    }
   ],
   "source": [
    "def factorial(n):\n",
    "    if n == 0:\n",
    "        return 1\n",
    "    else:\n",
    "        return n * factorial(n - 1)\n",
    "\n",
    "# Create a list of the first 10 factorial numbers\n",
    "factorial_numbers = [factorial(i) for i in range(10)]\n",
    "\n",
    "print(factorial_numbers)\n"
   ]
  },
  {
   "cell_type": "code",
   "execution_count": null,
   "id": "5ceb33d3-786c-4c2b-8e32-bdfb2705df6f",
   "metadata": {},
   "outputs": [],
   "source": []
  },
  {
   "cell_type": "markdown",
   "id": "68a9eb36-dd5e-4319-8870-c1c9d14410f5",
   "metadata": {},
   "source": [
    "37. Create a tuple of random numbers."
   ]
  },
  {
   "cell_type": "markdown",
   "id": "bc64fb0f-4fde-4608-8e53-a032e158ba6b",
   "metadata": {},
   "source": [
    "Ans."
   ]
  },
  {
   "cell_type": "code",
   "execution_count": 1,
   "id": "e062210e-982f-43bd-a7ef-f7d5d5e7a106",
   "metadata": {},
   "outputs": [
    {
     "name": "stdout",
     "output_type": "stream",
     "text": [
      "(31, 73, 94, 95, 74)\n"
     ]
    }
   ],
   "source": [
    "import random\n",
    "\n",
    "# Generate a tuple of 5 random numbers between 1 and 100\n",
    "random_numbers = tuple(random.randint(1, 100) for _ in range(5))\n",
    "\n",
    "print(random_numbers)\n"
   ]
  },
  {
   "cell_type": "code",
   "execution_count": null,
   "id": "415b29a2-6172-48a7-a66f-53ae25ab127e",
   "metadata": {},
   "outputs": [],
   "source": []
  },
  {
   "cell_type": "markdown",
   "id": "aacd34fb-a9e4-495a-b80d-5fb6df130410",
   "metadata": {},
   "source": [
    "38. Check if a tuple is sorted."
   ]
  },
  {
   "cell_type": "markdown",
   "id": "24487bc9-a10d-4a3e-b26f-30977450bd07",
   "metadata": {},
   "source": [
    "Ans."
   ]
  },
  {
   "cell_type": "code",
   "execution_count": 2,
   "id": "d71a37a0-68f7-41d6-b275-871784b34468",
   "metadata": {},
   "outputs": [
    {
     "name": "stdout",
     "output_type": "stream",
     "text": [
      "The tuple is sorted.\n"
     ]
    }
   ],
   "source": [
    "def is_sorted(t):\n",
    "    return all(t[i] <= t[i + 1] for i in range(len(t) - 1))\n",
    "\n",
    "# Example usage:\n",
    "my_tuple = (1, 2, 3, 4, 5)\n",
    "if is_sorted(my_tuple):\n",
    "    print(\"The tuple is sorted.\")\n",
    "else:\n",
    "    print(\"The tuple is not sorted.\")\n"
   ]
  },
  {
   "cell_type": "code",
   "execution_count": null,
   "id": "7e5062b9-fc18-4349-b158-82def52a3f5a",
   "metadata": {},
   "outputs": [],
   "source": []
  },
  {
   "cell_type": "markdown",
   "id": "3426f128-fb04-40d9-a6ba-fdcc60f6b68c",
   "metadata": {},
   "source": [
    "39. Rotate a tuple to the left by `n` positions."
   ]
  },
  {
   "cell_type": "markdown",
   "id": "86e53827-c7d9-4c8d-a5c1-2fb21d51ba1b",
   "metadata": {},
   "source": [
    "Ans."
   ]
  },
  {
   "cell_type": "code",
   "execution_count": 3,
   "id": "4221c522-6ba1-4b64-bb1b-8877762be1c1",
   "metadata": {},
   "outputs": [
    {
     "name": "stdout",
     "output_type": "stream",
     "text": [
      "(3, 4, 5, 1, 2)\n"
     ]
    }
   ],
   "source": [
    "def rotate_tuple_left(t, n):\n",
    "    if not t:\n",
    "        return t  # Return an empty tuple if the input tuple is empty\n",
    "    n = n % len(t)  # Ensure n is within the range of the tuple length\n",
    "    return t[n:] + t[:n]\n",
    "\n",
    "# Example usage:\n",
    "my_tuple = (1, 2, 3, 4, 5)\n",
    "n = 2  # Rotate left by 2 positions\n",
    "rotated_tuple = rotate_tuple_left(my_tuple, n)\n",
    "print(rotated_tuple)\n"
   ]
  },
  {
   "cell_type": "code",
   "execution_count": null,
   "id": "7559142f-cc5a-45e7-9b7a-b34a6af8e53c",
   "metadata": {},
   "outputs": [],
   "source": []
  },
  {
   "cell_type": "markdown",
   "id": "bc378152-e2e1-4e0b-b08c-04180d377cbc",
   "metadata": {},
   "source": [
    "40. Rotate a tuple to the right by `n` positions."
   ]
  },
  {
   "cell_type": "markdown",
   "id": "5ac8b3ef-f4bc-4655-80ef-959c1cee9033",
   "metadata": {},
   "source": [
    "Ans."
   ]
  },
  {
   "cell_type": "code",
   "execution_count": 4,
   "id": "e1b36366-1e5e-43ac-997f-5b59fe36e3e6",
   "metadata": {},
   "outputs": [
    {
     "name": "stdout",
     "output_type": "stream",
     "text": [
      "(4, 5, 1, 2, 3)\n"
     ]
    }
   ],
   "source": [
    "def rotate_tuple_right(t, n):\n",
    "    if not t:\n",
    "        return t  # Return an empty tuple if the input tuple is empty\n",
    "    n = n % len(t)  # Ensure n is within the range of the tuple length\n",
    "    return t[-n:] + t[:-n]\n",
    "\n",
    "# Example usage:\n",
    "my_tuple = (1, 2, 3, 4, 5)\n",
    "n = 2  # Rotate right by 2 positions\n",
    "rotated_tuple = rotate_tuple_right(my_tuple, n)\n",
    "print(rotated_tuple)\n"
   ]
  },
  {
   "cell_type": "code",
   "execution_count": null,
   "id": "d48d718d-38e9-48db-a394-000451acb53a",
   "metadata": {},
   "outputs": [],
   "source": []
  },
  {
   "cell_type": "markdown",
   "id": "7390573e-6e00-4beb-9bb9-d1eb7306a050",
   "metadata": {},
   "source": [
    "41. Create a tuple of the first 5 Fibonacci numbers."
   ]
  },
  {
   "cell_type": "markdown",
   "id": "f246d3b8-c5f9-45a2-81b3-f9f54718b63c",
   "metadata": {},
   "source": [
    "Ans."
   ]
  },
  {
   "cell_type": "code",
   "execution_count": 5,
   "id": "946b86bc-6bf2-4a49-a049-050ff8fb6a9c",
   "metadata": {},
   "outputs": [
    {
     "name": "stdout",
     "output_type": "stream",
     "text": [
      "(0, 1, 1, 2, 3)\n"
     ]
    }
   ],
   "source": [
    "# Function to generate the first n Fibonacci numbers\n",
    "def generate_fibonacci(n):\n",
    "    fibonacci_numbers = [0, 1]  # Initialize with the first two Fibonacci numbers\n",
    "\n",
    "    while len(fibonacci_numbers) < n:\n",
    "        next_fibonacci = fibonacci_numbers[-1] + fibonacci_numbers[-2]\n",
    "        fibonacci_numbers.append(next_fibonacci)\n",
    "\n",
    "    return tuple(fibonacci_numbers[:n])\n",
    "\n",
    "# Generate a tuple of the first 5 Fibonacci numbers\n",
    "first_5_fibonacci = generate_fibonacci(5)\n",
    "\n",
    "print(first_5_fibonacci)\n"
   ]
  },
  {
   "cell_type": "code",
   "execution_count": null,
   "id": "34e99733-60a6-4e9c-b860-a8e33a49ef92",
   "metadata": {},
   "outputs": [],
   "source": []
  },
  {
   "cell_type": "markdown",
   "id": "7c7bcdf3-fee8-4ab3-9ca9-f53e40a45476",
   "metadata": {},
   "source": [
    "42. Create a tuple from user input."
   ]
  },
  {
   "cell_type": "markdown",
   "id": "b75b61e8-8fe1-4ae9-8abe-8b417ff9c6b5",
   "metadata": {},
   "source": [
    "Ans."
   ]
  },
  {
   "cell_type": "code",
   "execution_count": 6,
   "id": "d477f74d-7f2e-4b4a-b67a-c8c538a56bd9",
   "metadata": {},
   "outputs": [
    {
     "name": "stdin",
     "output_type": "stream",
     "text": [
      "Enter a list of values separated by spaces:  ldkov\n"
     ]
    },
    {
     "name": "stdout",
     "output_type": "stream",
     "text": [
      "Tuple created from user input: ('ldkov',)\n"
     ]
    }
   ],
   "source": [
    "# Collect user input as a list\n",
    "user_input = input(\"Enter a list of values separated by spaces: \")\n",
    "input_list = user_input.split()\n",
    "\n",
    "# Convert the list of input values to a tuple\n",
    "user_tuple = tuple(input_list)\n",
    "\n",
    "# Display the resulting tuple\n",
    "print(\"Tuple created from user input:\", user_tuple)\n"
   ]
  },
  {
   "cell_type": "code",
   "execution_count": null,
   "id": "4cc3c750-0b37-4d64-8b18-bf13754964b3",
   "metadata": {},
   "outputs": [],
   "source": []
  },
  {
   "cell_type": "markdown",
   "id": "a40f61c0-a4e2-40cf-8611-fea872e2cf14",
   "metadata": {},
   "source": [
    "43. Swap two elements in a tuple."
   ]
  },
  {
   "cell_type": "markdown",
   "id": "84366b38-e95d-41cd-b291-3e1aa3a40564",
   "metadata": {},
   "source": [
    "Ans."
   ]
  },
  {
   "cell_type": "code",
   "execution_count": 7,
   "id": "feb7adf2-6800-4511-9c90-c4d450d262bb",
   "metadata": {},
   "outputs": [
    {
     "name": "stdout",
     "output_type": "stream",
     "text": [
      "(1, 4, 3, 2, 5)\n"
     ]
    }
   ],
   "source": [
    "# Function to swap two elements in a tuple\n",
    "def swap_elements(t, index1, index2):\n",
    "    if 0 <= index1 < len(t) and 0 <= index2 < len(t):\n",
    "        t_list = list(t)  # Convert the tuple to a list\n",
    "        t_list[index1], t_list[index2] = t_list[index2], t_list[index1]  # Swap the elements\n",
    "        return tuple(t_list)  # Convert the list back to a tuple\n",
    "    else:\n",
    "        return t  # Return the original tuple if indices are out of range\n",
    "\n",
    "# Example usage:\n",
    "my_tuple = (1, 2, 3, 4, 5)\n",
    "index1 = 1\n",
    "index2 = 3\n",
    "swapped_tuple = swap_elements(my_tuple, index1, index2)\n",
    "print(swapped_tuple)\n"
   ]
  },
  {
   "cell_type": "code",
   "execution_count": null,
   "id": "c4f98d81-8807-4cb7-9b3c-7cdc9907617b",
   "metadata": {},
   "outputs": [],
   "source": []
  },
  {
   "cell_type": "markdown",
   "id": "52610822-cbcb-4bb5-8f38-e5821fa10683",
   "metadata": {},
   "source": [
    "44. Reverse the elements of a tuple."
   ]
  },
  {
   "cell_type": "markdown",
   "id": "f0ac75d3-fbfe-4c79-b87d-c3b90d5429e3",
   "metadata": {},
   "source": [
    "Ans."
   ]
  },
  {
   "cell_type": "code",
   "execution_count": 1,
   "id": "ba30fbc6-e3f3-4f7d-85d2-fc0879b9dbd5",
   "metadata": {},
   "outputs": [
    {
     "name": "stdout",
     "output_type": "stream",
     "text": [
      "(5, 4, 3, 2, 1)\n"
     ]
    }
   ],
   "source": [
    "# Function to reverse a tuple\n",
    "def reverse_tuple(t):\n",
    "    return t[::-1]\n",
    "\n",
    "# Example usage:\n",
    "my_tuple = (1, 2, 3, 4, 5)\n",
    "reversed_tuple = reverse_tuple(my_tuple)\n",
    "print(reversed_tuple)\n"
   ]
  },
  {
   "cell_type": "code",
   "execution_count": null,
   "id": "fdc918e8-5d15-4399-95a7-802f63ecb8b1",
   "metadata": {},
   "outputs": [],
   "source": []
  },
  {
   "cell_type": "markdown",
   "id": "20e203fd-e51c-478b-934c-89d5d7f9767a",
   "metadata": {},
   "source": [
    "45. Create a tuple of the first `n` powers of 2."
   ]
  },
  {
   "cell_type": "markdown",
   "id": "2cbedb20-40fa-4b6d-986f-260a72d8fd3b",
   "metadata": {},
   "source": [
    "Ans."
   ]
  },
  {
   "cell_type": "code",
   "execution_count": 2,
   "id": "09fa39bc-d689-4f5f-80f4-31dd06ada1bd",
   "metadata": {},
   "outputs": [
    {
     "name": "stdout",
     "output_type": "stream",
     "text": [
      "(1, 2, 4, 8, 16)\n"
     ]
    }
   ],
   "source": [
    "# Function to generate a tuple of the first n powers of 2\n",
    "def powers_of_2(n):\n",
    "    return tuple(2 ** i for i in range(n))\n",
    "\n",
    "# Example usage:\n",
    "n = 5  # Generate the first 5 powers of 2\n",
    "powers_tuple = powers_of_2(n)\n",
    "print(powers_tuple)\n"
   ]
  },
  {
   "cell_type": "code",
   "execution_count": null,
   "id": "1eec5673-a735-4f34-a7bf-6a4823bb4dae",
   "metadata": {},
   "outputs": [],
   "source": []
  },
  {
   "cell_type": "markdown",
   "id": "a2ea52c7-76b7-45a1-bea5-ac3d7a50f09d",
   "metadata": {},
   "source": [
    "46. Find the longest string in a tuple of strings."
   ]
  },
  {
   "cell_type": "markdown",
   "id": "e4fbbd32-a74b-4359-a1e3-c8b4a24483a0",
   "metadata": {},
   "source": [
    "Ans."
   ]
  },
  {
   "cell_type": "code",
   "execution_count": 3,
   "id": "4a25de09-f02c-452f-86ed-a9169671b94a",
   "metadata": {},
   "outputs": [
    {
     "name": "stdout",
     "output_type": "stream",
     "text": [
      "The longest string is: banana\n"
     ]
    }
   ],
   "source": [
    "# Function to find the longest string in a tuple of strings\n",
    "def find_longest_string(strings):\n",
    "    if not strings:\n",
    "        return None  # Return None if the tuple is empty\n",
    "\n",
    "    longest = strings[0]  # Initialize with the first string\n",
    "\n",
    "    for string in strings:\n",
    "        if len(string) > len(longest):\n",
    "            longest = string\n",
    "\n",
    "    return longest\n",
    "\n",
    "# Example usage:\n",
    "my_tuple = (\"apple\", \"banana\", \"cherry\", \"date\", \"fig\")\n",
    "longest_string = find_longest_string(my_tuple)\n",
    "\n",
    "if longest_string is not None:\n",
    "    print(\"The longest string is:\", longest_string)\n",
    "else:\n",
    "    print(\"The tuple is empty.\")\n"
   ]
  },
  {
   "cell_type": "code",
   "execution_count": null,
   "id": "0229a967-9fcf-4e18-b009-9515c5b779ae",
   "metadata": {},
   "outputs": [],
   "source": []
  },
  {
   "cell_type": "markdown",
   "id": "d04afcc5-96ce-423d-bada-8be9b9b50fed",
   "metadata": {},
   "source": [
    "47. Find the shortest string in a tuple of strings."
   ]
  },
  {
   "cell_type": "markdown",
   "id": "2a5cc2e0-0fb4-4c02-8e28-cbea32b9e873",
   "metadata": {},
   "source": [
    "Ans."
   ]
  },
  {
   "cell_type": "code",
   "execution_count": 4,
   "id": "110cd876-222c-4c96-a606-cf5a01320052",
   "metadata": {},
   "outputs": [
    {
     "name": "stdout",
     "output_type": "stream",
     "text": [
      "The shortest string is: fig\n"
     ]
    }
   ],
   "source": [
    "# Function to find the shortest string in a tuple of strings\n",
    "def find_shortest_string(strings):\n",
    "    if not strings:\n",
    "        return None  # Return None if the tuple is empty\n",
    "\n",
    "    shortest = strings[0]  # Initialize with the first string\n",
    "\n",
    "    for string in strings:\n",
    "        if len(string) < len(shortest):\n",
    "            shortest = string\n",
    "\n",
    "    return shortest\n",
    "\n",
    "# Example usage:\n",
    "my_tuple = (\"apple\", \"banana\", \"cherry\", \"date\", \"fig\")\n",
    "shortest_string = find_shortest_string(my_tuple)\n",
    "\n",
    "if shortest_string is not None:\n",
    "    print(\"The shortest string is:\", shortest_string)\n",
    "else:\n",
    "    print(\"The tuple is empty.\")\n"
   ]
  },
  {
   "cell_type": "code",
   "execution_count": null,
   "id": "c2b3da5e-16a6-4176-ba7c-a09ce8b5a640",
   "metadata": {},
   "outputs": [],
   "source": []
  },
  {
   "cell_type": "markdown",
   "id": "a7f7c320-dc50-408e-8ee6-2d1e3721666b",
   "metadata": {},
   "source": [
    "48. Create a tuple of the first `n` triangular numbers."
   ]
  },
  {
   "cell_type": "markdown",
   "id": "9a0ced74-119a-4dbd-858c-5d3ab89bc753",
   "metadata": {},
   "source": [
    "Ans."
   ]
  },
  {
   "cell_type": "code",
   "execution_count": 5,
   "id": "ec3f630a-df7a-4125-9963-1fb4f3a115e4",
   "metadata": {},
   "outputs": [
    {
     "name": "stdout",
     "output_type": "stream",
     "text": [
      "(1, 3, 6, 10, 15)\n"
     ]
    }
   ],
   "source": [
    "# Function to generate a tuple of the first n triangular numbers\n",
    "def generate_triangular_numbers(n):\n",
    "    if n < 1:\n",
    "        return ()  # Return an empty tuple for n < 1\n",
    "    triangular_numbers = [i * (i + 1) // 2 for i in range(1, n + 1)]\n",
    "    return tuple(triangular_numbers)\n",
    "\n",
    "# Example usage:\n",
    "n = 5  # Generate the first 5 triangular numbers\n",
    "triangular_numbers_tuple = generate_triangular_numbers(n)\n",
    "print(triangular_numbers_tuple)\n"
   ]
  },
  {
   "cell_type": "code",
   "execution_count": null,
   "id": "7e61722d-b081-41f3-9364-f03d802da37d",
   "metadata": {},
   "outputs": [],
   "source": []
  },
  {
   "cell_type": "markdown",
   "id": "5a685b5d-52a8-4f33-a932-cf4e26af594d",
   "metadata": {},
   "source": [
    "49. Check if a tuple contains another tuple as a subsequence."
   ]
  },
  {
   "cell_type": "markdown",
   "id": "ba04089a-3e2c-4bc0-af6f-ce765e7d6a2b",
   "metadata": {},
   "source": [
    "Ans."
   ]
  },
  {
   "cell_type": "code",
   "execution_count": 7,
   "id": "2bfea4f5-d529-449f-96a3-c2d3305dc4d7",
   "metadata": {},
   "outputs": [
    {
     "name": "stdout",
     "output_type": "stream",
     "text": [
      "The sub_tuple is a subsequence of the main_tuple.\n"
     ]
    }
   ],
   "source": [
    "# Function to check if a tuple contains another tuple as a subsequence\n",
    "def contains_subsequence(main_tuple, sub_tuple):\n",
    "    if not sub_tuple:\n",
    "        return True  # An empty sub_tuple is always considered a subsequence\n",
    "\n",
    "    if not main_tuple:\n",
    "        return False  # An empty main_tuple can't contain a subsequence\n",
    "\n",
    "    # Iterate through the main_tuple to find the subsequence\n",
    "    i = 0  # Index in main_tuple\n",
    "    j = 0  # Index in sub_tuple\n",
    "\n",
    "    while i < len(main_tuple):\n",
    "        if main_tuple[i] == sub_tuple[j]:\n",
    "            j += 1\n",
    "            if j == len(sub_tuple):\n",
    "                return True  # The entire sub_tuple is found\n",
    "        i += 1\n",
    "\n",
    "    return False  # The sub_tuple was not found in main_tuple\n",
    "\n",
    "# Example usage:\n",
    "main_tuple = (1, 2, 3, 4, 5, 6, 7, 8)\n",
    "sub_tuple = (3, 4, 5)\n",
    "if contains_subsequence(main_tuple, sub_tuple):\n",
    "    print(\"The sub_tuple is a subsequence of the main_tuple.\")\n",
    "else:\n",
    "    print(\"The sub_tuple is not a subsequence of the main_tuple.\")\n"
   ]
  },
  {
   "cell_type": "code",
   "execution_count": null,
   "id": "b9ca3fa8-50ed-42c1-b905-45f6d409be8a",
   "metadata": {},
   "outputs": [],
   "source": []
  },
  {
   "cell_type": "markdown",
   "id": "faf8601c-1bc3-45bb-a236-7d180a3ae256",
   "metadata": {},
   "source": [
    "50. Create a tuple of alternating 1s and 0s of length `n`."
   ]
  },
  {
   "cell_type": "markdown",
   "id": "a1f22aeb-b61c-41d4-95c3-8713d64259db",
   "metadata": {},
   "source": [
    "Ans."
   ]
  },
  {
   "cell_type": "code",
   "execution_count": null,
   "id": "0af29a0a-c17a-4feb-b7d6-ad78882f1270",
   "metadata": {},
   "outputs": [],
   "source": [
    "# Function to create a tuple of alternating 1s and 0s of length n\n",
    "def alternating_ones_and_zeros(n):\n",
    "    if n <= 0:\n",
    "        return ()  # Return an empty tuple for n <= 0\n",
    "    return tuple(i % 2 for i in range(n))\n",
    "\n",
    "# Example usage:\n",
    "n = 10  # Create a tuple of length 10 with alternating 1s and 0s\n",
    "alternating_tuple = alternating_ones_and_zeros(n)\n",
    "print(alternating_tuple)\n"
   ]
  },
  {
   "cell_type": "markdown",
   "id": "43df87df-7624-4fa1-8564-b948ba733824",
   "metadata": {},
   "source": []
  },
  {
   "cell_type": "markdown",
   "id": "2553484a-5e22-48fa-b902-d69e4db42770",
   "metadata": {},
   "source": [
    "Set Based Practice Problem :"
   ]
  },
  {
   "cell_type": "markdown",
   "id": "9cae6e3a-6cc7-4b67-80aa-2f03dabd63be",
   "metadata": {},
   "source": [
    "1. Create a set with integers from 1 to 5."
   ]
  },
  {
   "cell_type": "markdown",
   "id": "ba265191-36ed-4077-8a81-7269854d5741",
   "metadata": {},
   "source": [
    "Ans."
   ]
  },
  {
   "cell_type": "code",
   "execution_count": 2,
   "id": "0a2551d4-0d01-4486-adcd-7ef3de6a85a3",
   "metadata": {},
   "outputs": [
    {
     "name": "stdout",
     "output_type": "stream",
     "text": [
      "{1, 2, 3, 4, 5}\n"
     ]
    }
   ],
   "source": [
    "my_set = {1, 2, 3, 4, 5}\n",
    "print(my_set)"
   ]
  },
  {
   "cell_type": "code",
   "execution_count": null,
   "id": "c535cabc-5421-4f41-b78e-5cab3d56e353",
   "metadata": {},
   "outputs": [],
   "source": []
  },
  {
   "cell_type": "markdown",
   "id": "532ce636-4164-4f69-ba8b-baf269a24235",
   "metadata": {},
   "source": [
    "2. Add an element to a set.\n"
   ]
  },
  {
   "cell_type": "markdown",
   "id": "7c34bf00-49ac-4762-858e-d7f258f39f54",
   "metadata": {},
   "source": [
    "Ans."
   ]
  },
  {
   "cell_type": "code",
   "execution_count": null,
   "id": "46b661c5-b416-48e5-afa2-448147b9df9f",
   "metadata": {},
   "outputs": [],
   "source": [
    "# Create a set\n",
    "my_set = {1, 2, 3}\n",
    "\n",
    "# Add an element to the set\n",
    "my_set.add(4)\n",
    "\n",
    "# The set now contains the added element\n",
    "print(my_set)  # Output: {1, 2, 3, 4}\n"
   ]
  },
  {
   "cell_type": "code",
   "execution_count": null,
   "id": "981cb2e7-1edb-44ed-8eb9-81f7d28544f3",
   "metadata": {},
   "outputs": [],
   "source": []
  },
  {
   "cell_type": "markdown",
   "id": "de75cc80-fefe-42bd-a5a2-5dc7c73abc8d",
   "metadata": {},
   "source": [
    "3. Remove an element from a set.\n"
   ]
  },
  {
   "cell_type": "markdown",
   "id": "50fef4b3-51e5-44be-a380-9c5d5bb1f4cb",
   "metadata": {},
   "source": [
    "Ans."
   ]
  },
  {
   "cell_type": "code",
   "execution_count": 4,
   "id": "ada6bf62-8962-4c57-a2d0-548e87bac465",
   "metadata": {},
   "outputs": [
    {
     "name": "stdout",
     "output_type": "stream",
     "text": [
      "{1, 2, 4}\n"
     ]
    }
   ],
   "source": [
    "# Create a set\n",
    "my_set = {1, 2, 3, 4}\n",
    "\n",
    "# Remove an element from the set\n",
    "element_to_remove = 3\n",
    "my_set.remove(element_to_remove)\n",
    "\n",
    "# The set no longer contains the removed element\n",
    "print(my_set)  # Output: {1, 2, 4}\n"
   ]
  },
  {
   "cell_type": "code",
   "execution_count": null,
   "id": "c952340c-9f94-4a88-b226-fc9024446b5a",
   "metadata": {},
   "outputs": [],
   "source": []
  },
  {
   "cell_type": "markdown",
   "id": "05f095a8-50c5-44ad-985e-48be60a7331f",
   "metadata": {},
   "source": [
    "4. Check if an element exists in a set."
   ]
  },
  {
   "cell_type": "markdown",
   "id": "a11d29eb-098d-4886-ac10-2ffc2525a401",
   "metadata": {},
   "source": [
    "Ans."
   ]
  },
  {
   "cell_type": "code",
   "execution_count": 5,
   "id": "98a27a8f-7802-436a-a8e7-22382eb8e18a",
   "metadata": {},
   "outputs": [
    {
     "name": "stdout",
     "output_type": "stream",
     "text": [
      "3 exists in the set.\n"
     ]
    }
   ],
   "source": [
    "# Create a set\n",
    "my_set = {1, 2, 3, 4}\n",
    "\n",
    "# Check if an element exists in the set\n",
    "element_to_check = 3\n",
    "if element_to_check in my_set:\n",
    "    print(f\"{element_to_check} exists in the set.\")\n",
    "else:\n",
    "    print(f\"{element_to_check} does not exist in the set.\")\n"
   ]
  },
  {
   "cell_type": "code",
   "execution_count": null,
   "id": "2210a4de-d7ca-4fa5-8ff4-6a0e9227c105",
   "metadata": {},
   "outputs": [],
   "source": []
  },
  {
   "cell_type": "markdown",
   "id": "564b4f3c-85bc-4d97-b257-cde5f45e4f6b",
   "metadata": {},
   "source": [
    "5. Find the length of a set without using the `len()` function."
   ]
  },
  {
   "cell_type": "markdown",
   "id": "9121eac8-6901-4174-8b18-4e1d64c3436f",
   "metadata": {},
   "source": [
    "Ans."
   ]
  },
  {
   "cell_type": "code",
   "execution_count": 6,
   "id": "c7392470-2863-4b19-8574-b2cdd54252a3",
   "metadata": {},
   "outputs": [
    {
     "name": "stdout",
     "output_type": "stream",
     "text": [
      "Length of the set: 5\n"
     ]
    }
   ],
   "source": [
    "# Create a set\n",
    "my_set = {1, 2, 3, 4, 5}\n",
    "\n",
    "# Initialize a counter variable\n",
    "count = 0\n",
    "\n",
    "# Iterate through the set and count the elements\n",
    "for _ in my_set:\n",
    "    count += 1\n",
    "\n",
    "# The variable 'count' now holds the length of the set\n",
    "print(\"Length of the set:\", count)\n"
   ]
  },
  {
   "cell_type": "code",
   "execution_count": null,
   "id": "8385b92e-1125-4bbb-b204-f56602b89e84",
   "metadata": {},
   "outputs": [],
   "source": []
  },
  {
   "cell_type": "markdown",
   "id": "3d6f2565-4f40-4883-914a-bafad80a9fc3",
   "metadata": {},
   "source": [
    "6. Clear all elements from a set."
   ]
  },
  {
   "cell_type": "markdown",
   "id": "33c37fbd-58ab-4b5b-a5e0-11ef8cbb21f9",
   "metadata": {},
   "source": [
    "Ans."
   ]
  },
  {
   "cell_type": "code",
   "execution_count": 7,
   "id": "ec0cee8e-31e8-4be0-9d7b-47ed3ac40f0c",
   "metadata": {},
   "outputs": [
    {
     "name": "stdout",
     "output_type": "stream",
     "text": [
      "set()\n"
     ]
    }
   ],
   "source": [
    "# Create a set\n",
    "my_set = {1, 2, 3, 4, 5}\n",
    "\n",
    "# Clear all elements from the set\n",
    "my_set.clear()\n",
    "\n",
    "# The set is now empty\n",
    "print(my_set)  # Output: set()\n"
   ]
  },
  {
   "cell_type": "code",
   "execution_count": null,
   "id": "bb1bbc05-df02-4a4c-a38e-37c362834592",
   "metadata": {},
   "outputs": [],
   "source": []
  },
  {
   "cell_type": "markdown",
   "id": "35f6dac4-de9a-4613-9a45-83dbbafee34e",
   "metadata": {},
   "source": [
    "7. Create a set of even numbers from 1 to 10."
   ]
  },
  {
   "cell_type": "markdown",
   "id": "3dc6ece6-b5f1-4deb-ad86-5bdb27eb1572",
   "metadata": {},
   "source": [
    "Ans."
   ]
  },
  {
   "cell_type": "code",
   "execution_count": 8,
   "id": "5ec53b47-5be8-497d-9460-08ba44902e1d",
   "metadata": {},
   "outputs": [
    {
     "name": "stdout",
     "output_type": "stream",
     "text": [
      "{2, 4, 6, 8, 10}\n"
     ]
    }
   ],
   "source": [
    "# Create a set of even numbers from 1 to 10\n",
    "even_numbers = {x for x in range(1, 11) if x % 2 == 0}\n",
    "\n",
    "# Print the set\n",
    "print(even_numbers)\n"
   ]
  },
  {
   "cell_type": "code",
   "execution_count": null,
   "id": "3f85d7ae-70d8-4b20-a3bc-386fccdc612b",
   "metadata": {},
   "outputs": [],
   "source": []
  },
  {
   "cell_type": "markdown",
   "id": "38b5ade9-fb82-464d-99ce-d5cb80192bbe",
   "metadata": {},
   "source": [
    "8. Create a set of odd numbers from 1 to 10."
   ]
  },
  {
   "cell_type": "markdown",
   "id": "185034b6-5939-4459-a275-73b205202c80",
   "metadata": {},
   "source": [
    "Ans."
   ]
  },
  {
   "cell_type": "code",
   "execution_count": 9,
   "id": "39470924-9af6-4b90-8284-411dadd84763",
   "metadata": {},
   "outputs": [
    {
     "name": "stdout",
     "output_type": "stream",
     "text": [
      "{1, 3, 5, 7, 9}\n"
     ]
    }
   ],
   "source": [
    "# Create a set of odd numbers from 1 to 10\n",
    "odd_numbers = {x for x in range(1, 11) if x % 2 != 0}\n",
    "\n",
    "# Print the set\n",
    "print(odd_numbers)\n"
   ]
  },
  {
   "cell_type": "code",
   "execution_count": null,
   "id": "0eb691fc-3bad-4249-9c02-8c6882c53348",
   "metadata": {},
   "outputs": [],
   "source": []
  },
  {
   "cell_type": "markdown",
   "id": "9f8398db-bc13-41b6-be00-a4b2a7c713a7",
   "metadata": {},
   "source": [
    "9. Find the union of two sets.\n"
   ]
  },
  {
   "cell_type": "markdown",
   "id": "683695b8-f81c-42a0-8c11-a958bb510205",
   "metadata": {},
   "source": [
    "Ans."
   ]
  },
  {
   "cell_type": "code",
   "execution_count": null,
   "id": "f4244f21-87c4-48dc-9d05-85d725fe0ce8",
   "metadata": {},
   "outputs": [],
   "source": [
    "# Create two sets\n",
    "set1 = {1, 2, 3}\n",
    "set2 = {3, 4, 5}\n",
    "\n",
    "# Find the union of the two sets using the union() method\n",
    "union_set = set1.union(set2)\n",
    "\n",
    "# Print the union set\n",
    "print(union_set)\n"
   ]
  },
  {
   "cell_type": "code",
   "execution_count": null,
   "id": "b127c204-213a-4438-9cb2-da0b70026e71",
   "metadata": {},
   "outputs": [],
   "source": []
  },
  {
   "cell_type": "markdown",
   "id": "14d0880f-5a63-483b-94cf-3d738977b4ce",
   "metadata": {},
   "source": [
    "10. Find the intersection of two sets."
   ]
  },
  {
   "cell_type": "markdown",
   "id": "6eae160c-940c-403e-a3a6-7821006819d9",
   "metadata": {},
   "source": [
    "Ans."
   ]
  },
  {
   "cell_type": "code",
   "execution_count": null,
   "id": "5d4b6408-64a9-49d5-ba62-023659c141f0",
   "metadata": {},
   "outputs": [],
   "source": [
    "# Create two sets\n",
    "set1 = {1, 2, 3, 4}\n",
    "set2 = {3, 4, 5, 6}\n",
    "\n",
    "# Find the intersection of the two sets using the intersection() method\n",
    "intersection_set = set1.intersection(set2)\n",
    "\n",
    "# Print the intersection set\n",
    "print(intersection_set)\n"
   ]
  },
  {
   "cell_type": "code",
   "execution_count": null,
   "id": "4fb14a47-4bbf-4497-ac2b-d19693c86be6",
   "metadata": {},
   "outputs": [],
   "source": []
  },
  {
   "cell_type": "markdown",
   "id": "eef2c1c1-389d-4a74-bcb6-432e59bd7d9e",
   "metadata": {},
   "source": [
    "11. Find the difference between two sets."
   ]
  },
  {
   "cell_type": "markdown",
   "id": "3d135d13-d6c1-4495-ba3a-74237d898e71",
   "metadata": {},
   "source": [
    "Ans."
   ]
  },
  {
   "cell_type": "code",
   "execution_count": null,
   "id": "eb184276-03f2-41a7-8a2d-00efbc87e513",
   "metadata": {},
   "outputs": [],
   "source": [
    "# Create two sets\n",
    "set1 = {1, 2, 3, 4, 5}\n",
    "set2 = {3, 4, 5, 6, 7}\n",
    "\n",
    "# Find the difference between set1 and set2 using the difference() method\n",
    "difference_set = set1.difference(set2)\n",
    "\n",
    "# Print the difference set\n",
    "print(difference_set)\n"
   ]
  },
  {
   "cell_type": "code",
   "execution_count": null,
   "id": "ad106520-dad3-4e07-82f0-9328b7c7590e",
   "metadata": {},
   "outputs": [],
   "source": []
  },
  {
   "cell_type": "markdown",
   "id": "372712b1-93ce-4616-8d33-5a287ac4cb46",
   "metadata": {},
   "source": [
    "12. Check if a set is a subset of another set.\n"
   ]
  },
  {
   "cell_type": "markdown",
   "id": "abb77cc2-4d65-4b64-9335-961e6a852af0",
   "metadata": {},
   "source": [
    "Ans"
   ]
  },
  {
   "cell_type": "code",
   "execution_count": 1,
   "id": "8e1f9ce4-6da6-4e32-b395-d25f8957165b",
   "metadata": {},
   "outputs": [
    {
     "name": "stdout",
     "output_type": "stream",
     "text": [
      "set1 is a subset of set2\n"
     ]
    }
   ],
   "source": [
    "# Create two sets\n",
    "set1 = {1, 2, 3}\n",
    "set2 = {1, 2, 3, 4, 5}\n",
    "\n",
    "# Check if set1 is a subset of set2 using the issubset() method\n",
    "is_subset = set1.issubset(set2)\n",
    "\n",
    "# Print the result\n",
    "if is_subset:\n",
    "    print(\"set1 is a subset of set2\")\n",
    "else:\n",
    "    print(\"set1 is not a subset of set2\")\n"
   ]
  },
  {
   "cell_type": "code",
   "execution_count": null,
   "id": "057cbcd3-e18a-40e7-b01b-2a1aa5533c89",
   "metadata": {},
   "outputs": [],
   "source": []
  },
  {
   "cell_type": "markdown",
   "id": "2a65b471-1a22-492c-b48d-a20f9729a328",
   "metadata": {},
   "source": [
    "13. Check if a set is a superset of another set."
   ]
  },
  {
   "cell_type": "markdown",
   "id": "546febc9-ae8e-4ae0-98af-6172c3c138c6",
   "metadata": {},
   "source": [
    "Ans."
   ]
  },
  {
   "cell_type": "code",
   "execution_count": 2,
   "id": "02ab131c-e1e1-4343-a37c-4a199363992e",
   "metadata": {},
   "outputs": [
    {
     "name": "stdout",
     "output_type": "stream",
     "text": [
      "set1 is a superset of set2\n"
     ]
    }
   ],
   "source": [
    "# Create two sets\n",
    "set1 = {1, 2, 3, 4, 5}\n",
    "set2 = {1, 2, 3}\n",
    "\n",
    "# Check if set1 is a superset of set2 using the issuperset() method\n",
    "is_superset = set1.issuperset(set2)\n",
    "\n",
    "# Print the result\n",
    "if is_superset:\n",
    "    print(\"set1 is a superset of set2\")\n",
    "else:\n",
    "    print(\"set1 is not a superset of set2\")\n"
   ]
  },
  {
   "cell_type": "code",
   "execution_count": null,
   "id": "9789ee96-573b-4e71-bebb-0342d5cf9f41",
   "metadata": {},
   "outputs": [],
   "source": []
  },
  {
   "cell_type": "markdown",
   "id": "28d9f2d6-5d9d-4534-b86f-134de9f83688",
   "metadata": {},
   "source": [
    "14. Create a set from a list.\n"
   ]
  },
  {
   "cell_type": "markdown",
   "id": "a09ec03c-4761-4731-9982-d604c328f17a",
   "metadata": {},
   "source": [
    "Ans."
   ]
  },
  {
   "cell_type": "code",
   "execution_count": 3,
   "id": "4616538e-c15e-4498-843b-6267b0188470",
   "metadata": {},
   "outputs": [
    {
     "name": "stdout",
     "output_type": "stream",
     "text": [
      "{1, 2, 3, 4, 5}\n"
     ]
    }
   ],
   "source": [
    "# Create a list\n",
    "my_list = [1, 2, 3, 4, 5]\n",
    "\n",
    "# Create a set from the list using the set() constructor\n",
    "my_set = set(my_list)\n",
    "\n",
    "# Print the set\n",
    "print(my_set)\n"
   ]
  },
  {
   "cell_type": "code",
   "execution_count": null,
   "id": "ad017226-f7fa-44fc-af18-a367472b1319",
   "metadata": {},
   "outputs": [],
   "source": []
  },
  {
   "cell_type": "markdown",
   "id": "16e0c3a4-0c4b-469b-9eaf-6de2bcbc6a5c",
   "metadata": {},
   "source": [
    "15. Convert a set to a list."
   ]
  },
  {
   "cell_type": "markdown",
   "id": "e1fa8e37-44db-42e1-9f98-6efa6384185c",
   "metadata": {},
   "source": [
    "Ans."
   ]
  },
  {
   "cell_type": "code",
   "execution_count": 4,
   "id": "68404871-3a38-45f5-99c3-295700f045fd",
   "metadata": {},
   "outputs": [
    {
     "name": "stdout",
     "output_type": "stream",
     "text": [
      "[1, 2, 3, 4, 5]\n"
     ]
    }
   ],
   "source": [
    "# Create a set\n",
    "my_set = {1, 2, 3, 4, 5}\n",
    "\n",
    "# Convert the set to a list using the list() constructor\n",
    "my_list = list(my_set)\n",
    "\n",
    "# Print the list\n",
    "print(my_list)\n"
   ]
  },
  {
   "cell_type": "code",
   "execution_count": null,
   "id": "473521ed-99f2-45a7-98ff-6045597d8e59",
   "metadata": {},
   "outputs": [],
   "source": []
  },
  {
   "cell_type": "markdown",
   "id": "f36513a6-54c3-407e-bd9e-201cad407ca0",
   "metadata": {},
   "source": [
    "16. Remove a random element from a set.\n"
   ]
  },
  {
   "cell_type": "markdown",
   "id": "daf1f6a4-d7e2-4889-b94c-52b24dfae5c6",
   "metadata": {},
   "source": [
    "Ans."
   ]
  },
  {
   "cell_type": "code",
   "execution_count": 5,
   "id": "6ac3ee5a-2edc-47f1-8f00-be9327c9face",
   "metadata": {},
   "outputs": [
    {
     "name": "stdout",
     "output_type": "stream",
     "text": [
      "Removed element: 1\n",
      "Updated set: {2, 3, 4, 5}\n"
     ]
    }
   ],
   "source": [
    "# Create a set\n",
    "my_set = {1, 2, 3, 4, 5}\n",
    "\n",
    "# Remove a random element from the set using the pop() method\n",
    "removed_element = my_set.pop()\n",
    "\n",
    "# Print the removed element and the updated set\n",
    "print(f\"Removed element: {removed_element}\")\n",
    "print(f\"Updated set: {my_set}\")\n"
   ]
  },
  {
   "cell_type": "code",
   "execution_count": null,
   "id": "3050c7bf-6a94-42eb-a31d-dfb4fb8cab20",
   "metadata": {},
   "outputs": [],
   "source": []
  },
  {
   "cell_type": "markdown",
   "id": "de110078-1fb2-4b50-9d80-1b1c69e5e94c",
   "metadata": {},
   "source": [
    "17. Pop an element from a set."
   ]
  },
  {
   "cell_type": "markdown",
   "id": "b20c73c1-ff80-4878-971a-70752ee8cf11",
   "metadata": {},
   "source": [
    "Ans."
   ]
  },
  {
   "cell_type": "code",
   "execution_count": 6,
   "id": "96be95e6-0df0-47b9-ade1-1b62a4fa603e",
   "metadata": {},
   "outputs": [
    {
     "name": "stdout",
     "output_type": "stream",
     "text": [
      "Popped element: 1\n",
      "Updated set: {2, 3, 4, 5}\n"
     ]
    }
   ],
   "source": [
    "# Create a set\n",
    "my_set = {1, 2, 3, 4, 5}\n",
    "\n",
    "# Pop an element from the set using the pop() method\n",
    "popped_element = my_set.pop()\n",
    "\n",
    "# Print the popped element and the updated set\n",
    "print(f\"Popped element: {popped_element}\")\n",
    "print(f\"Updated set: {my_set}\")\n"
   ]
  },
  {
   "cell_type": "code",
   "execution_count": null,
   "id": "74f371a4-01a1-4bcf-9d0d-f95e2556c13a",
   "metadata": {},
   "outputs": [],
   "source": []
  },
  {
   "cell_type": "markdown",
   "id": "1a72c274-93ff-473d-a730-c1a755609375",
   "metadata": {},
   "source": [
    "18. Check if two sets have no elements in common."
   ]
  },
  {
   "cell_type": "markdown",
   "id": "9b54d4f9-b9eb-4525-88ec-779add195eb7",
   "metadata": {},
   "source": [
    "Ans."
   ]
  },
  {
   "cell_type": "code",
   "execution_count": 7,
   "id": "44db9c4b-2d12-4d17-a51e-e89240b48567",
   "metadata": {},
   "outputs": [
    {
     "name": "stdout",
     "output_type": "stream",
     "text": [
      "The two sets are disjoint and have no elements in common.\n"
     ]
    }
   ],
   "source": [
    "# Create two sets\n",
    "set1 = {1, 2, 3}\n",
    "set2 = {4, 5, 6}\n",
    "\n",
    "# Check if the two sets have no elements in common using the isdisjoint() method\n",
    "are_disjoint = set1.isdisjoint(set2)\n",
    "\n",
    "# Print the result\n",
    "if are_disjoint:\n",
    "    print(\"The two sets are disjoint and have no elements in common.\")\n",
    "else:\n",
    "    print(\"The two sets have at least one element in common.\")\n"
   ]
  },
  {
   "cell_type": "code",
   "execution_count": null,
   "id": "025a8a82-c420-400c-a0c2-881550f65979",
   "metadata": {},
   "outputs": [],
   "source": []
  },
  {
   "cell_type": "markdown",
   "id": "e96973cd-4462-4865-80a0-0a5c53940d2e",
   "metadata": {},
   "source": [
    "19. Find the symmetric difference between two sets."
   ]
  },
  {
   "cell_type": "markdown",
   "id": "aa6055ea-71a2-4ca7-a666-b8929584f025",
   "metadata": {},
   "source": [
    "\n",
    "Ans."
   ]
  },
  {
   "cell_type": "code",
   "execution_count": 8,
   "id": "b4424cce-2ee3-4d47-a270-8afe1a81f17f",
   "metadata": {},
   "outputs": [
    {
     "name": "stdout",
     "output_type": "stream",
     "text": [
      "{1, 2, 6, 7}\n"
     ]
    }
   ],
   "source": [
    "# Create two sets\n",
    "set1 = {1, 2, 3, 4, 5}\n",
    "set2 = {3, 4, 5, 6, 7}\n",
    "\n",
    "# Find the symmetric difference between set1 and set2 using the symmetric_difference() method\n",
    "symmetric_difference_set = set1.symmetric_difference(set2)\n",
    "\n",
    "# Print the symmetric difference set\n",
    "print(symmetric_difference_set)\n"
   ]
  },
  {
   "cell_type": "code",
   "execution_count": null,
   "id": "af75aedb-41e2-4bfc-879d-bb50992ab67c",
   "metadata": {},
   "outputs": [],
   "source": []
  },
  {
   "cell_type": "markdown",
   "id": "a58feed6-d485-4fda-85c4-e01ddf67e02a",
   "metadata": {},
   "source": [
    "20. Update a set with elements from another set."
   ]
  },
  {
   "cell_type": "markdown",
   "id": "7de8a9a5-6273-4bbf-9948-0f56fcb0220e",
   "metadata": {},
   "source": [
    "Ans."
   ]
  },
  {
   "cell_type": "code",
   "execution_count": null,
   "id": "d731eeea-41c2-457d-912d-744d7bf64d49",
   "metadata": {},
   "outputs": [
    {
     "name": "stdout",
     "output_type": "stream",
     "text": [
      "{1, 2, 3, 4, 5}\n"
     ]
    }
   ],
   "source": [
    "# Create two sets\n",
    "set1 = {1, 2, 3}\n",
    "set2 = {3, 4, 5}\n",
    "\n",
    "# Update set1 with the elements from set2 using the update() method\n",
    "set1.update(set2)\n",
    "\n",
    "# Print the updated set1\n",
    "print(set1)\n"
   ]
  },
  {
   "cell_type": "code",
   "execution_count": null,
   "id": "25e5c461-fa71-4c37-b911-d815a9516bff",
   "metadata": {},
   "outputs": [],
   "source": []
  },
  {
   "cell_type": "markdown",
   "id": "76eeab36-1cda-46bf-93d2-2f56f03002f0",
   "metadata": {},
   "source": [
    "21. Create a set of the first 5 prime numbers."
   ]
  },
  {
   "cell_type": "markdown",
   "id": "d47a9643-89ab-4ac8-a044-b76a17a7a259",
   "metadata": {},
   "source": [
    "Ans."
   ]
  },
  {
   "cell_type": "code",
   "execution_count": 10,
   "id": "8c5bb20d-3ac6-4dae-8254-8019c85d40bc",
   "metadata": {},
   "outputs": [
    {
     "name": "stdout",
     "output_type": "stream",
     "text": [
      "{2, 3, 5, 7, 11}\n"
     ]
    }
   ],
   "source": [
    "# Create a set of the first 5 prime numbers\n",
    "prime_numbers = {2, 3, 5, 7, 11}\n",
    "\n",
    "# Print the set\n",
    "print(prime_numbers)\n"
   ]
  },
  {
   "cell_type": "code",
   "execution_count": null,
   "id": "167a4376-0547-4bac-a4be-72b9bc9c97e3",
   "metadata": {},
   "outputs": [],
   "source": []
  },
  {
   "cell_type": "markdown",
   "id": "e4de55c8-8217-4a06-bcef-fbd8d5dde7c5",
   "metadata": {},
   "source": [
    "22. Check if two sets are identical.\n"
   ]
  },
  {
   "cell_type": "markdown",
   "id": "53a1fc6d-748b-48b4-88f9-d1f71c3a1ce0",
   "metadata": {},
   "source": [
    "Ans."
   ]
  },
  {
   "cell_type": "code",
   "execution_count": 11,
   "id": "74ba330c-3383-4d15-ac6d-2e10e64a4299",
   "metadata": {},
   "outputs": [
    {
     "name": "stdout",
     "output_type": "stream",
     "text": [
      "The two sets are identical.\n"
     ]
    }
   ],
   "source": [
    "# Create two sets\n",
    "set1 = {1, 2, 3, 4, 5}\n",
    "set2 = {1, 2, 3, 4, 5}\n",
    "\n",
    "# Check if the two sets are identical using the == operator\n",
    "are_identical = set1 == set2\n",
    "\n",
    "# Print the result\n",
    "if are_identical:\n",
    "    print(\"The two sets are identical.\")\n",
    "else:\n",
    "    print(\"The two sets are not identical.\")\n"
   ]
  },
  {
   "cell_type": "code",
   "execution_count": null,
   "id": "b6a1c3f1-6df4-4cad-9ff1-6a2ad024fc05",
   "metadata": {},
   "outputs": [],
   "source": []
  },
  {
   "cell_type": "markdown",
   "id": "24884ecd-ac9b-40ea-83a2-84afe5f8eb72",
   "metadata": {},
   "source": [
    "23. Create a frozen set."
   ]
  },
  {
   "cell_type": "markdown",
   "id": "e89a492b-1965-4bf1-bcee-75fd00559eba",
   "metadata": {},
   "source": [
    "Ans."
   ]
  },
  {
   "cell_type": "code",
   "execution_count": 13,
   "id": "a6c4d532-9826-4d67-8870-681348b2a244",
   "metadata": {},
   "outputs": [
    {
     "name": "stdout",
     "output_type": "stream",
     "text": [
      "frozenset({1, 2, 3, 4, 5})\n"
     ]
    }
   ],
   "source": [
    "# Create a regular set\n",
    "my_set = {1, 2, 3, 4, 5}\n",
    "\n",
    "# Convert the set to a frozen set using the frozenset() constructor\n",
    "my_frozen_set = frozenset(my_set)\n",
    "\n",
    "# Print the frozen set\n",
    "print(my_frozen_set)\n"
   ]
  },
  {
   "cell_type": "code",
   "execution_count": null,
   "id": "e6b09c80-648b-43fa-9a7b-9295665cc73f",
   "metadata": {},
   "outputs": [],
   "source": []
  },
  {
   "cell_type": "markdown",
   "id": "717fb09c-2538-4164-9534-aef70c06634c",
   "metadata": {},
   "source": [
    "24. Check if a set is disjoint with another set."
   ]
  },
  {
   "cell_type": "markdown",
   "id": "bdd1af45-3363-4130-9799-d9317766b985",
   "metadata": {},
   "source": [
    "Ans."
   ]
  },
  {
   "cell_type": "code",
   "execution_count": 12,
   "id": "b7a45113-8307-4724-ae14-5411c96614b5",
   "metadata": {},
   "outputs": [
    {
     "name": "stdout",
     "output_type": "stream",
     "text": [
      "The two sets are disjoint and have no elements in common.\n"
     ]
    }
   ],
   "source": [
    "# Create two sets\n",
    "set1 = {1, 2, 3}\n",
    "set2 = {4, 5, 6}\n",
    "\n",
    "# Check if the two sets are disjoint using the isdisjoint() method\n",
    "are_disjoint = set1.isdisjoint(set2)\n",
    "\n",
    "# Print the result\n",
    "if are_disjoint:\n",
    "    print(\"The two sets are disjoint and have no elements in common.\")\n",
    "else:\n",
    "    print(\"The two sets are not disjoint and have at least one element in common.\")\n"
   ]
  },
  {
   "cell_type": "code",
   "execution_count": null,
   "id": "a1037d10-8dff-4e42-acb5-9ff51437fe4b",
   "metadata": {},
   "outputs": [],
   "source": []
  },
  {
   "cell_type": "markdown",
   "id": "c68ea6ba-af00-49bc-b5ef-961f9de3f275",
   "metadata": {},
   "source": [
    "25. Create a set of squares of numbers from 1 to 5."
   ]
  },
  {
   "cell_type": "markdown",
   "id": "d229f5e5-94b0-4e21-a834-4e4c2782fcb4",
   "metadata": {},
   "source": [
    "Ans."
   ]
  },
  {
   "cell_type": "code",
   "execution_count": 14,
   "id": "03625e05-2ba3-43b8-8459-40efff03a348",
   "metadata": {},
   "outputs": [
    {
     "name": "stdout",
     "output_type": "stream",
     "text": [
      "{1, 4, 9, 16, 25}\n"
     ]
    }
   ],
   "source": [
    "# Create a set of squares of numbers from 1 to 5\n",
    "squares_set = {x ** 2 for x in range(1, 6)}\n",
    "\n",
    "# Print the set\n",
    "print(squares_set)\n"
   ]
  },
  {
   "cell_type": "code",
   "execution_count": null,
   "id": "f9ff76b1-bd69-4ff8-9445-113bed30951e",
   "metadata": {},
   "outputs": [],
   "source": []
  },
  {
   "cell_type": "markdown",
   "id": "15b43d0b-916e-41b0-847a-376d4a581994",
   "metadata": {},
   "source": [
    "26. Filter out all even numbers from a set.\n"
   ]
  },
  {
   "cell_type": "markdown",
   "id": "01aedc95-fc13-4b21-9fd3-872a7081a5df",
   "metadata": {},
   "source": [
    "Ans."
   ]
  },
  {
   "cell_type": "code",
   "execution_count": 15,
   "id": "e596a772-e4b5-4ef0-a171-81929e98355f",
   "metadata": {},
   "outputs": [
    {
     "name": "stdout",
     "output_type": "stream",
     "text": [
      "{1, 3, 5, 7, 9}\n"
     ]
    }
   ],
   "source": [
    "# Create a set with numbers\n",
    "my_set = {1, 2, 3, 4, 5, 6, 7, 8, 9, 10}\n",
    "\n",
    "# Use a set comprehension to filter out even numbers\n",
    "filtered_set = {x for x in my_set if x % 2 != 0}\n",
    "\n",
    "# Print the filtered set\n",
    "print(filtered_set)\n"
   ]
  },
  {
   "cell_type": "code",
   "execution_count": null,
   "id": "01e9f0f1-62cf-4ecd-9292-e6624019016f",
   "metadata": {},
   "outputs": [],
   "source": []
  },
  {
   "cell_type": "markdown",
   "id": "bb4cb462-4c1d-4909-9f1a-a3ef9f613b89",
   "metadata": {},
   "source": [
    "27. Multiply all elements in a set by 2."
   ]
  },
  {
   "cell_type": "markdown",
   "id": "3f191bc0-20de-4c9f-8359-077ef09b9183",
   "metadata": {},
   "source": [
    "Ans."
   ]
  },
  {
   "cell_type": "code",
   "execution_count": 17,
   "id": "f688c2b6-9683-4a8e-a537-912920120698",
   "metadata": {},
   "outputs": [
    {
     "name": "stdout",
     "output_type": "stream",
     "text": [
      "{2, 4, 6, 8, 10}\n"
     ]
    }
   ],
   "source": [
    "# Create a set with numbers\n",
    "my_set = {1, 2, 3, 4, 5}\n",
    "\n",
    "# Use a set comprehension to multiply all elements by 2\n",
    "multiplied_set = {x * 2 for x in my_set}\n",
    "\n",
    "# Print the multiplied set\n",
    "print(multiplied_set)\n"
   ]
  },
  {
   "cell_type": "code",
   "execution_count": null,
   "id": "dc34c10a-d2e3-4c55-93ed-4fc5ee7ef92b",
   "metadata": {},
   "outputs": [],
   "source": []
  },
  {
   "cell_type": "markdown",
   "id": "ff9d9aa1-b629-4b74-83bc-3fb87fbd53fa",
   "metadata": {},
   "source": [
    "28. Create a set of random numbers."
   ]
  },
  {
   "cell_type": "markdown",
   "id": "e6e2f8a1-1117-4722-8049-1e013674368c",
   "metadata": {},
   "source": [
    "Ans."
   ]
  },
  {
   "cell_type": "code",
   "execution_count": 16,
   "id": "fe540001-ccce-473e-96c2-3134f79d4424",
   "metadata": {},
   "outputs": [
    {
     "name": "stdout",
     "output_type": "stream",
     "text": [
      "{65, 67, 38, 76, 50, 51, 24, 89, 58, 30}\n"
     ]
    }
   ],
   "source": [
    "import random\n",
    "\n",
    "# Create an empty set to store the random numbers\n",
    "random_set = set()\n",
    "\n",
    "# Generate and add random numbers to the set\n",
    "for _ in range(10):  # Change the range to generate a different number of random numbers\n",
    "    random_number = random.randint(1, 100)  # Adjust the range as needed\n",
    "    random_set.add(random_number)\n",
    "\n",
    "# Print the set of random numbers\n",
    "print(random_set)\n"
   ]
  },
  {
   "cell_type": "code",
   "execution_count": null,
   "id": "2c6813fc-86e2-40ce-8255-ab70d7cfda16",
   "metadata": {},
   "outputs": [],
   "source": []
  },
  {
   "cell_type": "markdown",
   "id": "d2d6d7e1-ccb5-400a-963f-1da4b542feb8",
   "metadata": {},
   "source": [
    "29. Check if a set is empty."
   ]
  },
  {
   "cell_type": "markdown",
   "id": "278ab701-98c6-40c8-b45e-0a459cff505c",
   "metadata": {},
   "source": [
    "Ans."
   ]
  },
  {
   "cell_type": "code",
   "execution_count": 18,
   "id": "24ab0d6a-9e32-41dd-acca-193bb467dcce",
   "metadata": {},
   "outputs": [
    {
     "name": "stdout",
     "output_type": "stream",
     "text": [
      "The set is empty.\n"
     ]
    }
   ],
   "source": [
    "# Create an empty set\n",
    "empty_set = set()\n",
    "\n",
    "# Check if the set is empty\n",
    "if not empty_set:\n",
    "    print(\"The set is empty.\")\n",
    "else:\n",
    "    print(\"The set is not empty.\")\n"
   ]
  },
  {
   "cell_type": "code",
   "execution_count": null,
   "id": "71d9c81a-f125-45d1-a5a7-7caf7d8350e4",
   "metadata": {},
   "outputs": [],
   "source": []
  },
  {
   "cell_type": "markdown",
   "id": "41eff3aa-5a4d-41d3-9e4b-7d81b5cd9af5",
   "metadata": {},
   "source": [
    "30. Create a nested set (hint: use frozenset)."
   ]
  },
  {
   "cell_type": "markdown",
   "id": "30eea1c1-f5a9-40f6-8bfb-22199211de3d",
   "metadata": {},
   "source": [
    "Ans."
   ]
  },
  {
   "cell_type": "code",
   "execution_count": 19,
   "id": "f59fe31f-06d6-4378-9479-59b7cb44ef79",
   "metadata": {},
   "outputs": [
    {
     "name": "stdout",
     "output_type": "stream",
     "text": [
      "{frozenset({1, 2, 3})}\n"
     ]
    }
   ],
   "source": [
    "# Create a frozenset\n",
    "nested_frozenset = frozenset({1, 2, 3})\n",
    "\n",
    "# Create a set containing the frozenset\n",
    "nested_set = {nested_frozenset}\n",
    "\n",
    "# Print the nested set\n",
    "print(nested_set)\n"
   ]
  },
  {
   "cell_type": "code",
   "execution_count": null,
   "id": "feeee8cf-d6d4-47a6-b156-e03e56cab612",
   "metadata": {},
   "outputs": [],
   "source": []
  },
  {
   "cell_type": "markdown",
   "id": "6aa7e248-c472-4175-8bba-42c9636ef56c",
   "metadata": {},
   "source": [
    "31. Remove an element from a set using the discard method."
   ]
  },
  {
   "cell_type": "markdown",
   "id": "e2d8272c-1786-4a82-9a0e-3f3907cfe48b",
   "metadata": {},
   "source": [
    "Ans."
   ]
  },
  {
   "cell_type": "code",
   "execution_count": 20,
   "id": "9ad38b4a-56c5-4fe6-836a-5246ffe244f7",
   "metadata": {},
   "outputs": [
    {
     "name": "stdout",
     "output_type": "stream",
     "text": [
      "{1, 2, 4, 5}\n"
     ]
    }
   ],
   "source": [
    "# Create a set\n",
    "my_set = {1, 2, 3, 4, 5}\n",
    "\n",
    "# Remove an element from the set using the discard() method\n",
    "element_to_remove = 3\n",
    "my_set.discard(element_to_remove)\n",
    "\n",
    "# The set no longer contains the removed element\n",
    "print(my_set)\n"
   ]
  },
  {
   "cell_type": "code",
   "execution_count": null,
   "id": "63cd961d-8095-491c-bab7-8c5ae594cc4a",
   "metadata": {},
   "outputs": [],
   "source": []
  },
  {
   "cell_type": "markdown",
   "id": "2008293c-81a4-4c04-89ac-290a917dd8cc",
   "metadata": {},
   "source": [
    "32. Compare two sets."
   ]
  },
  {
   "cell_type": "markdown",
   "id": "2023305c-b949-4266-9a08-8e174b327da8",
   "metadata": {},
   "source": [
    "Ans."
   ]
  },
  {
   "cell_type": "code",
   "execution_count": 1,
   "id": "788085db-59a8-44e3-81bf-0cbc4191edef",
   "metadata": {},
   "outputs": [
    {
     "name": "stdout",
     "output_type": "stream",
     "text": [
      "Set1 is not equal to Set2\n",
      "Set1 is not a subset of Set2\n",
      "Set2 is not a subset of Set1\n",
      "Set1 is not a superset of Set2\n",
      "Set2 is not a superset of Set1\n",
      "Union of Set1 and Set2: {1, 2, 3, 4, 5, 6, 7}\n",
      "Intersection of Set1 and Set2: {3, 4, 5}\n",
      "Elements in Set1 that are not in Set2: {1, 2}\n",
      "Elements in Set2 that are not in Set1: {6, 7}\n"
     ]
    }
   ],
   "source": [
    "# Define two sets\n",
    "set1 = {1, 2, 3, 4, 5}\n",
    "set2 = {3, 4, 5, 6, 7}\n",
    "\n",
    "# Check if the sets are equal\n",
    "if set1 == set2:\n",
    "    print(\"Set1 is equal to Set2\")\n",
    "else:\n",
    "    print(\"Set1 is not equal to Set2\")\n",
    "\n",
    "# Check if set1 is a subset of set2\n",
    "if set1.issubset(set2):\n",
    "    print(\"Set1 is a subset of Set2\")\n",
    "else:\n",
    "    print(\"Set1 is not a subset of Set2\")\n",
    "\n",
    "# Check if set2 is a subset of set1\n",
    "if set2.issubset(set1):\n",
    "    print(\"Set2 is a subset of Set1\")\n",
    "else:\n",
    "    print(\"Set2 is not a subset of Set1\")\n",
    "\n",
    "# Check if set1 is a superset of set2\n",
    "if set1.issuperset(set2):\n",
    "    print(\"Set1 is a superset of Set2\")\n",
    "else:\n",
    "    print(\"Set1 is not a superset of Set2\")\n",
    "\n",
    "# Check if set2 is a superset of set1\n",
    "if set2.issuperset(set1):\n",
    "    print(\"Set2 is a superset of Set1\")\n",
    "else:\n",
    "    print(\"Set2 is not a superset of Set1\")\n",
    "\n",
    "# Find the union of the two sets\n",
    "union_set = set1.union(set2)\n",
    "print(\"Union of Set1 and Set2:\", union_set)\n",
    "\n",
    "# Find the intersection of the two sets\n",
    "intersection_set = set1.intersection(set2)\n",
    "print(\"Intersection of Set1 and Set2:\", intersection_set)\n",
    "\n",
    "# Find the elements in set1 that are not in set2\n",
    "difference_set = set1.difference(set2)\n",
    "print(\"Elements in Set1 that are not in Set2:\", difference_set)\n",
    "\n",
    "# Find the elements in set2 that are not in set1\n",
    "difference_set = set2.difference(set1)\n",
    "print(\"Elements in Set2 that are not in Set1:\", difference_set)\n"
   ]
  },
  {
   "cell_type": "code",
   "execution_count": null,
   "id": "1ea7b988-c0e8-4fb7-9d61-e4e0dc8bc5e5",
   "metadata": {},
   "outputs": [],
   "source": []
  },
  {
   "cell_type": "markdown",
   "id": "6f868b9c-e37f-4239-a725-ee09c0c28d8a",
   "metadata": {},
   "source": [
    "33. Create a set from a string."
   ]
  },
  {
   "cell_type": "markdown",
   "id": "94fae9a3-e59f-4494-a3ef-3ff04ffce10f",
   "metadata": {},
   "source": [
    "Ans."
   ]
  },
  {
   "cell_type": "code",
   "execution_count": 2,
   "id": "dff5aa0d-df3f-4fc4-a611-dd15bea3a067",
   "metadata": {},
   "outputs": [
    {
     "name": "stdout",
     "output_type": "stream",
     "text": [
      "Set created from the string: {'r', 'e', 'H', ',', 'o', 'd', 'l', 'W', '!', ' '}\n"
     ]
    }
   ],
   "source": [
    "# Create an empty set\n",
    "char_set = set()\n",
    "\n",
    "# Input string\n",
    "input_string = \"Hello, World!\"\n",
    "\n",
    "# Iterate through the characters in the string and add them to the set\n",
    "for char in input_string:\n",
    "    char_set.add(char)\n",
    "\n",
    "# Print the set\n",
    "print(\"Set created from the string:\", char_set)\n"
   ]
  },
  {
   "cell_type": "code",
   "execution_count": null,
   "id": "cb073b7b-0c2a-406c-b1f6-a8dae1f05597",
   "metadata": {},
   "outputs": [],
   "source": []
  },
  {
   "cell_type": "markdown",
   "id": "678880df-9609-45f8-8dc1-a9306ed8e032",
   "metadata": {},
   "source": [
    "34. Convert a set of strings to a set of integers."
   ]
  },
  {
   "cell_type": "markdown",
   "id": "1e198121-865a-4a9e-ae44-59b2195700e2",
   "metadata": {},
   "source": [
    "Ans."
   ]
  },
  {
   "cell_type": "code",
   "execution_count": 3,
   "id": "a1869179-834e-4bc0-9f51-58ab5e901d33",
   "metadata": {},
   "outputs": [
    {
     "name": "stdout",
     "output_type": "stream",
     "text": [
      "Set of integers: {40, 10, 50, 20, 30}\n"
     ]
    }
   ],
   "source": [
    "# Set of strings\n",
    "string_set = {\"10\", \"20\", \"30\", \"40\", \"50\"}\n",
    "\n",
    "# Create an empty set for integers\n",
    "int_set = set()\n",
    "\n",
    "# Iterate through the set of strings and convert them to integers\n",
    "for s in string_set:\n",
    "    try:\n",
    "        integer_value = int(s)\n",
    "        int_set.add(integer_value)\n",
    "    except ValueError:\n",
    "        print(f\"Warning: Could not convert '{s}' to an integer.\")\n",
    "\n",
    "# Print the set of integers\n",
    "print(\"Set of integers:\", int_set)\n"
   ]
  },
  {
   "cell_type": "code",
   "execution_count": null,
   "id": "a792c858-f642-4fc8-935e-92f06560f4d2",
   "metadata": {},
   "outputs": [],
   "source": []
  },
  {
   "cell_type": "markdown",
   "id": "609770bd-668d-43d4-94f1-43d4227ab9c6",
   "metadata": {},
   "source": [
    "35. Convert a set of integers to a set of strings."
   ]
  },
  {
   "cell_type": "markdown",
   "id": "afff5f0b-ad0a-451b-a991-3ed8b281f911",
   "metadata": {},
   "source": [
    "Ans."
   ]
  },
  {
   "cell_type": "code",
   "execution_count": 4,
   "id": "e37b2bdb-0246-4e0a-ac53-ed90671ddb9d",
   "metadata": {},
   "outputs": [
    {
     "name": "stdout",
     "output_type": "stream",
     "text": [
      "Set of strings: {'30', '50', '40', '20', '10'}\n"
     ]
    }
   ],
   "source": [
    "# Set of integers\n",
    "int_set = {10, 20, 30, 40, 50}\n",
    "\n",
    "# Create an empty set for strings\n",
    "str_set = set()\n",
    "\n",
    "# Iterate through the set of integers and convert them to strings\n",
    "for i in int_set:\n",
    "    string_value = str(i)\n",
    "    str_set.add(string_value)\n",
    "\n",
    "# Print the set of strings\n",
    "print(\"Set of strings:\", str_set)\n"
   ]
  },
  {
   "cell_type": "code",
   "execution_count": null,
   "id": "db52a3b1-06ff-4a5a-83ce-ac1c45706dde",
   "metadata": {},
   "outputs": [],
   "source": []
  },
  {
   "cell_type": "markdown",
   "id": "b1c2d246-ef0a-41b9-8b10-b272ea0281ea",
   "metadata": {},
   "source": [
    "36. Create a set from a tuple."
   ]
  },
  {
   "cell_type": "markdown",
   "id": "fa003eb1-8ed4-40cb-a7e8-212cae236b16",
   "metadata": {},
   "source": [
    "Ans."
   ]
  },
  {
   "cell_type": "code",
   "execution_count": 5,
   "id": "7a6718d8-6a37-4812-a2fe-9b7046cd30b9",
   "metadata": {},
   "outputs": [
    {
     "name": "stdout",
     "output_type": "stream",
     "text": [
      "Set created from the tuple: {1, 2, 3, 4, 5}\n"
     ]
    }
   ],
   "source": [
    "# Example tuple\n",
    "my_tuple = (1, 2, 3, 4, 5)\n",
    "\n",
    "# Convert the tuple to a set\n",
    "my_set = set(my_tuple)\n",
    "\n",
    "# Print the resulting set\n",
    "print(\"Set created from the tuple:\", my_set)\n"
   ]
  },
  {
   "cell_type": "code",
   "execution_count": null,
   "id": "12961181-fab9-4ed5-ab38-b0d72a7a0c42",
   "metadata": {},
   "outputs": [],
   "source": []
  },
  {
   "cell_type": "markdown",
   "id": "dd53e4bd-5f93-4f4a-8703-3ea4569b288c",
   "metadata": {},
   "source": [
    "37. Convert a set to a tuple."
   ]
  },
  {
   "cell_type": "markdown",
   "id": "424d8c91-e0ab-465c-b5e5-8115df9b5e3e",
   "metadata": {},
   "source": [
    "Ans."
   ]
  },
  {
   "cell_type": "code",
   "execution_count": 6,
   "id": "896b7f73-d12f-4d6c-bde7-2f35c2f82022",
   "metadata": {},
   "outputs": [
    {
     "name": "stdout",
     "output_type": "stream",
     "text": [
      "Tuple created from the set: (1, 2, 3, 4, 5)\n"
     ]
    }
   ],
   "source": [
    "# Example set\n",
    "my_set = {1, 2, 3, 4, 5}\n",
    "\n",
    "# Convert the set to a tuple\n",
    "my_tuple = tuple(my_set)\n",
    "\n",
    "# Print the resulting tuple\n",
    "print(\"Tuple created from the set:\", my_tuple)\n"
   ]
  },
  {
   "cell_type": "code",
   "execution_count": null,
   "id": "1007c00a-f339-4602-b1c0-4f8d502dcf2d",
   "metadata": {},
   "outputs": [],
   "source": []
  },
  {
   "cell_type": "markdown",
   "id": "c60bec9b-f80c-4aba-bf1c-f5ae8c2d52c0",
   "metadata": {},
   "source": [
    "38. Find the maximum value in a set.\n"
   ]
  },
  {
   "cell_type": "markdown",
   "id": "ffbc2edb-79fb-494a-a934-7bf8bdf18f70",
   "metadata": {},
   "source": [
    "Ans."
   ]
  },
  {
   "cell_type": "code",
   "execution_count": 7,
   "id": "d9c39e74-016c-449d-a4a8-46f810177d0c",
   "metadata": {},
   "outputs": [
    {
     "name": "stdout",
     "output_type": "stream",
     "text": [
      "Maximum value in the set: 50\n"
     ]
    }
   ],
   "source": [
    "# Example set\n",
    "my_set = {10, 30, 20, 50, 40}\n",
    "\n",
    "# Convert the set to a list\n",
    "my_list = list(my_set)\n",
    "\n",
    "# Find the maximum value in the list\n",
    "max_value = max(my_list)\n",
    "\n",
    "# Print the maximum value\n",
    "print(\"Maximum value in the set:\", max_value)\n"
   ]
  },
  {
   "cell_type": "code",
   "execution_count": null,
   "id": "b7322e2c-86ec-4556-b511-edda09b09243",
   "metadata": {},
   "outputs": [],
   "source": []
  },
  {
   "cell_type": "markdown",
   "id": "a1ebfacc-a63d-4eaf-ad55-ce7edafec96b",
   "metadata": {},
   "source": [
    "39. Find the minimum value in a set.\n"
   ]
  },
  {
   "cell_type": "markdown",
   "id": "24b6ebcf-9540-495d-917b-183d38cab0b8",
   "metadata": {},
   "source": [
    "Ans."
   ]
  },
  {
   "cell_type": "code",
   "execution_count": 8,
   "id": "93d21254-f379-45a8-a4bd-7730b5426098",
   "metadata": {},
   "outputs": [
    {
     "name": "stdout",
     "output_type": "stream",
     "text": [
      "Minimum value in the set: 10\n"
     ]
    }
   ],
   "source": [
    "# Example set\n",
    "my_set = {10, 30, 20, 50, 40}\n",
    "\n",
    "# Convert the set to a list\n",
    "my_list = list(my_set)\n",
    "\n",
    "# Find the minimum value in the list\n",
    "min_value = min(my_list)\n",
    "\n",
    "# Print the minimum value\n",
    "print(\"Minimum value in the set:\", min_value)\n"
   ]
  },
  {
   "cell_type": "code",
   "execution_count": null,
   "id": "8b693a45-ad68-493d-90a1-0cec2fda1e6c",
   "metadata": {},
   "outputs": [],
   "source": []
  },
  {
   "cell_type": "markdown",
   "id": "92bacdfe-5b20-402e-92bf-f848a839817e",
   "metadata": {},
   "source": [
    "40. Create a set from user input."
   ]
  },
  {
   "cell_type": "markdown",
   "id": "7bb94bab-2130-4581-80a5-0d92df9c1fa1",
   "metadata": {},
   "source": [
    "Ans."
   ]
  },
  {
   "cell_type": "code",
   "execution_count": 9,
   "id": "69e24d15-bab0-451e-bcba-b22a3e5da29b",
   "metadata": {},
   "outputs": [
    {
     "name": "stdin",
     "output_type": "stream",
     "text": [
      "Enter a comma-separated list of elements:  tfgh\n"
     ]
    },
    {
     "name": "stdout",
     "output_type": "stream",
     "text": [
      "Set created from user input: {'tfgh'}\n"
     ]
    }
   ],
   "source": [
    "# Collect user input as a comma-separated string\n",
    "input_string = input(\"Enter a comma-separated list of elements: \")\n",
    "\n",
    "# Split the input string into a list\n",
    "input_list = input_string.split(',')\n",
    "\n",
    "# Create a set from the list\n",
    "user_set = set(input_list)\n",
    "\n",
    "# Print the resulting set\n",
    "print(\"Set created from user input:\", user_set)\n"
   ]
  },
  {
   "cell_type": "code",
   "execution_count": null,
   "id": "b1685ff8-3bc5-4da2-8c4e-071aaaf0a0e4",
   "metadata": {},
   "outputs": [],
   "source": []
  },
  {
   "cell_type": "markdown",
   "id": "9ae8c9da-925e-476d-9b54-176da700f95f",
   "metadata": {},
   "source": [
    "41. Check if the intersection of two sets is empty."
   ]
  },
  {
   "cell_type": "markdown",
   "id": "f6aac51e-3c82-4d0d-b358-ca94ec435043",
   "metadata": {},
   "source": [
    "Ans."
   ]
  },
  {
   "cell_type": "code",
   "execution_count": 10,
   "id": "664baa49-ea9a-4d1b-8c74-55a7504835ef",
   "metadata": {},
   "outputs": [
    {
     "name": "stdout",
     "output_type": "stream",
     "text": [
      "The intersection of set1 and set2 is empty.\n"
     ]
    }
   ],
   "source": [
    "# Define two sets\n",
    "set1 = {1, 2, 3, 4, 5}\n",
    "set2 = {6, 7, 8, 9}\n",
    "\n",
    "# Check if the intersection is empty\n",
    "if set1.isdisjoint(set2):\n",
    "    print(\"The intersection of set1 and set2 is empty.\")\n",
    "else:\n",
    "    print(\"The intersection of set1 and set2 is not empty.\")\n"
   ]
  },
  {
   "cell_type": "code",
   "execution_count": null,
   "id": "f4ed4bdf-9935-4454-a084-859926837126",
   "metadata": {},
   "outputs": [],
   "source": []
  },
  {
   "cell_type": "markdown",
   "id": "cf50bd89-fc06-4363-9272-a4b29537b45c",
   "metadata": {},
   "source": [
    "42. Create a set of the first 5 Fibonacci numbers.\n"
   ]
  },
  {
   "cell_type": "markdown",
   "id": "e89faf11-44d7-4b84-a722-f17524564d96",
   "metadata": {},
   "source": [
    "Ans."
   ]
  },
  {
   "cell_type": "code",
   "execution_count": 11,
   "id": "e74dd012-c075-4f7b-9492-56f0b75d831f",
   "metadata": {},
   "outputs": [
    {
     "name": "stdout",
     "output_type": "stream",
     "text": [
      "Set of the first 5 Fibonacci numbers: {0, 1, 2, 3}\n"
     ]
    }
   ],
   "source": [
    "# Create an empty set for the Fibonacci numbers\n",
    "fibonacci_set = set()\n",
    "\n",
    "# Initialize the first two Fibonacci numbers\n",
    "a, b = 0, 1\n",
    "\n",
    "# Generate the first 5 Fibonacci numbers and add them to the set\n",
    "for _ in range(5):\n",
    "    fibonacci_set.add(a)\n",
    "    a, b = b, a + b\n",
    "\n",
    "# Print the set of the first 5 Fibonacci numbers\n",
    "print(\"Set of the first 5 Fibonacci numbers:\", fibonacci_set)\n"
   ]
  },
  {
   "cell_type": "code",
   "execution_count": null,
   "id": "ff25f3f9-7bc0-4d15-9fd8-e444592ba194",
   "metadata": {},
   "outputs": [],
   "source": []
  },
  {
   "cell_type": "markdown",
   "id": "f1aaae76-2fde-439e-b5d1-2154bf965817",
   "metadata": {},
   "source": [
    "43. Remove duplicates from a list using sets."
   ]
  },
  {
   "cell_type": "markdown",
   "id": "6e01d49d-95df-4262-a2a2-62727e4c05ff",
   "metadata": {},
   "source": [
    "Ans."
   ]
  },
  {
   "cell_type": "code",
   "execution_count": 12,
   "id": "6e403ae0-003b-42cc-96ea-1a8bc29abec8",
   "metadata": {},
   "outputs": [
    {
     "name": "stdout",
     "output_type": "stream",
     "text": [
      "List with duplicates removed: [1, 2, 3, 4, 5]\n"
     ]
    }
   ],
   "source": [
    "# Create a list with duplicates\n",
    "my_list = [1, 2, 2, 3, 4, 4, 5]\n",
    "\n",
    "# Remove duplicates using sets\n",
    "unique_list = list(set(my_list))\n",
    "\n",
    "# Print the list with duplicates removed\n",
    "print(\"List with duplicates removed:\", unique_list)\n"
   ]
  },
  {
   "cell_type": "code",
   "execution_count": null,
   "id": "96738f68-cb79-4638-aeb6-25b1debb196f",
   "metadata": {},
   "outputs": [],
   "source": []
  },
  {
   "cell_type": "markdown",
   "id": "6ce1247a-c63f-4fcf-9b51-ba1c8dd429f0",
   "metadata": {},
   "source": [
    "44. Check if two sets have the same elements, regardless of their count."
   ]
  },
  {
   "cell_type": "markdown",
   "id": "7f063fa8-90d7-469d-801e-23fcfd067ad0",
   "metadata": {},
   "source": [
    "Ans."
   ]
  },
  {
   "cell_type": "code",
   "execution_count": 13,
   "id": "175f334e-efe8-41d3-b6b4-de9e2f54b3ff",
   "metadata": {},
   "outputs": [
    {
     "name": "stdout",
     "output_type": "stream",
     "text": [
      "The sets have the same elements.\n"
     ]
    }
   ],
   "source": [
    "# Define two sets\n",
    "set1 = {1, 2, 3, 4, 5}\n",
    "set2 = {5, 4, 3, 2, 1}\n",
    "\n",
    "# Check if the sets have the same elements\n",
    "if set1 == set2:\n",
    "    print(\"The sets have the same elements.\")\n",
    "else:\n",
    "    print(\"The sets do not have the same elements.\")\n"
   ]
  },
  {
   "cell_type": "code",
   "execution_count": null,
   "id": "965fb532-09d5-43fe-8a34-56aae36f269f",
   "metadata": {},
   "outputs": [],
   "source": []
  },
  {
   "cell_type": "markdown",
   "id": "015c7440-ae98-4867-915d-fe62372d68c7",
   "metadata": {},
   "source": [
    "45. Create a set of the first `n` powers of 2."
   ]
  },
  {
   "cell_type": "markdown",
   "id": "b913e1cb-99ac-4478-8689-5377767a06bc",
   "metadata": {},
   "source": [
    "Ans."
   ]
  },
  {
   "cell_type": "code",
   "execution_count": 14,
   "id": "c61df5c3-c5fe-4561-a466-0f1661b8aa93",
   "metadata": {},
   "outputs": [
    {
     "name": "stdin",
     "output_type": "stream",
     "text": [
      "Enter the value of n:  5\n"
     ]
    },
    {
     "name": "stdout",
     "output_type": "stream",
     "text": [
      "Set of the first 5 powers of 2: {1, 2, 4, 8, 16}\n"
     ]
    }
   ],
   "source": [
    "# Input the value of n\n",
    "n = int(input(\"Enter the value of n: \"))\n",
    "\n",
    "# Create an empty set for the powers of 2\n",
    "powers_of_2_set = set()\n",
    "\n",
    "# Generate the first n powers of 2 and add them to the set\n",
    "for i in range(n):\n",
    "    power_of_2 = 2 ** i\n",
    "    powers_of_2_set.add(power_of_2)\n",
    "\n",
    "# Print the set of the first n powers of 2\n",
    "print(\"Set of the first\", n, \"powers of 2:\", powers_of_2_set)\n"
   ]
  },
  {
   "cell_type": "code",
   "execution_count": null,
   "id": "e26c6209-7f62-4c1d-8661-a333f8163e2e",
   "metadata": {},
   "outputs": [],
   "source": []
  },
  {
   "cell_type": "markdown",
   "id": "5833132b-2db6-4dc2-9322-ab93dc19170a",
   "metadata": {},
   "source": [
    "46. Find the common elements between a set and a list.\n"
   ]
  },
  {
   "cell_type": "markdown",
   "id": "20c95c20-49b4-42e1-9652-08f3302fcdda",
   "metadata": {},
   "source": [
    "Ans."
   ]
  },
  {
   "cell_type": "code",
   "execution_count": 15,
   "id": "a791b77d-9646-4f6c-897f-b082d71ac749",
   "metadata": {},
   "outputs": [
    {
     "name": "stdout",
     "output_type": "stream",
     "text": [
      "Common elements: [3, 4, 5]\n"
     ]
    }
   ],
   "source": [
    "# Create a set\n",
    "my_set = {1, 2, 3, 4, 5}\n",
    "\n",
    "# Create a list\n",
    "my_list = [3, 4, 5, 6, 7]\n",
    "\n",
    "# Find the common elements between the set and the list\n",
    "common_elements = my_set.intersection(my_list)\n",
    "\n",
    "# Convert the result to a list if needed\n",
    "common_elements_list = list(common_elements)\n",
    "\n",
    "# Print the common elements\n",
    "print(\"Common elements:\", common_elements_list)\n"
   ]
  },
  {
   "cell_type": "code",
   "execution_count": null,
   "id": "0837b96c-f9d5-4293-9a94-a91360f830cb",
   "metadata": {},
   "outputs": [],
   "source": []
  },
  {
   "cell_type": "markdown",
   "id": "dd48289a-6ea9-424a-8b21-eeba73fc2d5c",
   "metadata": {},
   "source": [
    "47. Create a set of the first `n` triangular numbers."
   ]
  },
  {
   "cell_type": "markdown",
   "id": "e1692554-ba82-429a-9c7d-73a794c8ef55",
   "metadata": {},
   "source": [
    "Ans."
   ]
  },
  {
   "cell_type": "code",
   "execution_count": 17,
   "id": "6b0e65cc-a396-47ca-b2d4-3d35879cebf1",
   "metadata": {},
   "outputs": [
    {
     "name": "stdin",
     "output_type": "stream",
     "text": [
      "Enter the value of n:  45\n"
     ]
    },
    {
     "name": "stdout",
     "output_type": "stream",
     "text": [
      "Set of the first 45 triangular numbers: {1, 3, 6, 903, 136, 10, 1035, 780, 15, 528, 276, 21, 406, 153, 666, 28, 36, 171, 300, 45, 561, 946, 435, 820, 55, 190, 703, 66, 325, 78, 465, 210, 595, 91, 861, 990, 351, 741, 231, 105, 496, 630, 120, 378, 253}\n"
     ]
    }
   ],
   "source": [
    "# Input the value of n\n",
    "n = int(input(\"Enter the value of n: \"))\n",
    "\n",
    "# Create an empty set for the triangular numbers\n",
    "triangular_numbers_set = set()\n",
    "\n",
    "# Generate the first n triangular numbers and add them to the set\n",
    "for i in range(1, n + 1):\n",
    "    triangular_number = i * (i + 1) // 2\n",
    "    triangular_numbers_set.add(triangular_number)\n",
    "\n",
    "# Print the set of the first n triangular numbers\n",
    "print(\"Set of the first\", n, \"triangular numbers:\", triangular_numbers_set)\n"
   ]
  },
  {
   "cell_type": "code",
   "execution_count": null,
   "id": "211d143c-0525-4f5a-a406-821d8f7a395b",
   "metadata": {},
   "outputs": [],
   "source": []
  },
  {
   "cell_type": "markdown",
   "id": "97fbf609-85dd-43fd-a42f-0a2c8a19fe2f",
   "metadata": {},
   "source": [
    "48. Check if a set contains another set as a subset."
   ]
  },
  {
   "cell_type": "markdown",
   "id": "4ac279d9-9b6b-46c8-a9ba-b24f5ee0d353",
   "metadata": {},
   "source": [
    "Ans."
   ]
  },
  {
   "cell_type": "code",
   "execution_count": 18,
   "id": "9fc1c352-e208-4636-aa04-4b843b4b2b88",
   "metadata": {},
   "outputs": [
    {
     "name": "stdout",
     "output_type": "stream",
     "text": [
      "set2 is a subset of set1\n"
     ]
    }
   ],
   "source": [
    "# Create two sets\n",
    "set1 = {1, 2, 3, 4, 5}\n",
    "set2 = {2, 4, 5}\n",
    "\n",
    "# Check if set2 is a subset of set1\n",
    "if set2.issubset(set1):\n",
    "    print(\"set2 is a subset of set1\")\n",
    "else:\n",
    "    print(\"set2 is not a subset of set1\")\n"
   ]
  },
  {
   "cell_type": "code",
   "execution_count": null,
   "id": "de210e66-3d66-46a7-8ae2-8c6c3aaeff50",
   "metadata": {},
   "outputs": [],
   "source": []
  },
  {
   "cell_type": "markdown",
   "id": "3b03687a-bdfb-4628-a7c8-a1fdf36072ba",
   "metadata": {},
   "source": [
    "49. Create a set of alternating 1s and 0s of length `n`."
   ]
  },
  {
   "cell_type": "markdown",
   "id": "bc7d3073-19c7-4ba6-81ca-29b8464febdc",
   "metadata": {},
   "source": [
    "Ans."
   ]
  },
  {
   "cell_type": "code",
   "execution_count": 19,
   "id": "52c562bd-cd9b-4a6f-8fcc-05cf17da0b68",
   "metadata": {},
   "outputs": [
    {
     "name": "stdin",
     "output_type": "stream",
     "text": [
      "Enter the value of n:  45\n"
     ]
    },
    {
     "name": "stdout",
     "output_type": "stream",
     "text": [
      "Set of alternating 1s and 0s of length 45 : {0, 1}\n"
     ]
    }
   ],
   "source": [
    "# Input the value of n\n",
    "n = int(input(\"Enter the value of n: \"))\n",
    "\n",
    "# Create an empty set for alternating 1s and 0s\n",
    "alternating_set = set()\n",
    "\n",
    "# Generate the set of alternating 1s and 0s of length n\n",
    "for i in range(n):\n",
    "    value = i % 2  # Alternating between 0 and 1\n",
    "    alternating_set.add(value)\n",
    "\n",
    "# Print the set of alternating 1s and 0s\n",
    "print(\"Set of alternating 1s and 0s of length\", n, \":\", alternating_set)\n"
   ]
  },
  {
   "cell_type": "code",
   "execution_count": null,
   "id": "41106184-d59a-471d-8fc2-287248226389",
   "metadata": {},
   "outputs": [],
   "source": []
  },
  {
   "cell_type": "markdown",
   "id": "0949139e-7cda-4450-9337-1fcfaefa0812",
   "metadata": {},
   "source": [
    "50. Merge multiple sets into one."
   ]
  },
  {
   "cell_type": "markdown",
   "id": "8575d81c-255f-4465-a567-4c8fe2756827",
   "metadata": {},
   "source": [
    "Ans."
   ]
  },
  {
   "cell_type": "code",
   "execution_count": 20,
   "id": "5d45e382-76c5-4614-b126-a75c8cc1e2c8",
   "metadata": {},
   "outputs": [
    {
     "name": "stdout",
     "output_type": "stream",
     "text": [
      "{1, 2, 3, 4, 5, 6, 7}\n"
     ]
    }
   ],
   "source": [
    "# Create multiple sets\n",
    "set1 = {1, 2, 3}\n",
    "set2 = {3, 4, 5}\n",
    "set3 = {5, 6, 7}\n",
    "\n",
    "# Merge sets into one\n",
    "merged_set = set1.union(set2, set3)\n",
    "\n",
    "# Alternatively, you can use the '|' operator to merge sets\n",
    "# merged_set = set1 | set2 | set3\n",
    "\n",
    "print(merged_set)\n"
   ]
  },
  {
   "cell_type": "code",
   "execution_count": null,
   "id": "e175d235-2eec-406e-9c8c-2ea73897a310",
   "metadata": {},
   "outputs": [],
   "source": []
  }
 ],
 "metadata": {
  "kernelspec": {
   "display_name": "Python 3 (ipykernel)",
   "language": "python",
   "name": "python3"
  },
  "language_info": {
   "codemirror_mode": {
    "name": "ipython",
    "version": 3
   },
   "file_extension": ".py",
   "mimetype": "text/x-python",
   "name": "python",
   "nbconvert_exporter": "python",
   "pygments_lexer": "ipython3",
   "version": "3.10.8"
  }
 },
 "nbformat": 4,
 "nbformat_minor": 5
}
